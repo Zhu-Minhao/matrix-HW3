{
 "nbformat": 4,
 "nbformat_minor": 0,
 "metadata": {
  "colab": {
   "provenance": [],
   "authorship_tag": "ABX9TyO16msUiGgmRtqqbcGYC5O7"
  },
  "kernelspec": {
   "name": "python3",
   "language": "python",
   "display_name": "Python 3 (ipykernel)"
  },
  "language_info": {
   "name": "python"
  }
 },
 "cells": [
  {
   "cell_type": "code",
   "execution_count": 6,
   "metadata": {
    "id": "3NLkd_4r6THY",
    "executionInfo": {
     "status": "ok",
     "timestamp": 1711287261081,
     "user_tz": -480,
     "elapsed": 4,
     "user": {
      "displayName": "sz lim",
      "userId": "08108144997048294905"
     }
    },
    "ExecuteTime": {
     "end_time": "2024-03-29T07:50:39.408527900Z",
     "start_time": "2024-03-29T07:50:39.291843Z"
    }
   },
   "outputs": [],
   "source": [
    "import numpy as np\n",
    "\n",
    "def power_method(A, x, max_iter=1000, tol=1e-6):\n",
    "\n",
    "  x = x / np.linalg.norm(x)  # Normalize initial guess\n",
    "  for i in range(max_iter):\n",
    "    x_new = A @ x\n",
    "    if np.linalg.norm(x_new) < tol:\n",
    "      return 0, x / np.linal.normg(x) # normalize eigenvector\n",
    "    x = x_new / np.linalg.norm(x_new,ord=np.inf)\n",
    "  return np.linalg.norm(x_new,ord=np.inf), x / np.linalg.norm(x) # normalize eigenvector"
   ]
  },
  {
   "cell_type": "code",
   "source": [
    "# Test on a random symmetric 4x4 real matrix\n",
    "np.random.seed(4)\n",
    "A = np.random.rand(4, 4)\n",
    "A = (A + A.T) / 2  # Making A symmetric\n",
    "print(\"Random symmetric matrix A:\")\n",
    "print(A)"
   ],
   "metadata": {
    "colab": {
     "base_uri": "https://localhost:8080/"
    },
    "id": "j1kcTbkf6zHt",
    "executionInfo": {
     "status": "ok",
     "timestamp": 1711287262528,
     "user_tz": -480,
     "elapsed": 1450,
     "user": {
      "displayName": "sz lim",
      "userId": "08108144997048294905"
     }
    },
    "outputId": "5109eec6-4313-4d10-cff5-ba17e4cc10c1",
    "ExecuteTime": {
     "end_time": "2024-03-29T07:50:39.462385300Z",
     "start_time": "2024-03-29T07:50:39.323756300Z"
    }
   },
   "execution_count": 7,
   "outputs": [
    {
     "name": "stdout",
     "output_type": "stream",
     "text": [
      "Random symmetric matrix A:\n",
      "[[0.96702984 0.62248054 0.61283336 0.78890461]\n",
      " [0.62248054 0.2160895  0.70553299 0.49481547]\n",
      " [0.61283336 0.70553299 0.77938292 0.18076366]\n",
      " [0.78890461 0.49481547 0.18076366 0.59733394]]\n"
     ]
    }
   ]
  },
  {
   "cell_type": "markdown",
   "source": [
    "(i) your $v$ is indeed an eigenvector;\n",
    "\n",
    "(ii) your $v$ is indeed associated to your $a$;"
   ],
   "metadata": {
    "id": "5kwmFOfAZUQH"
   }
  },
  {
   "cell_type": "code",
   "source": [
    "# Using Power Method\n",
    "x = np.random.rand(4)  # Initial guess for eigenvector\n",
    "a, v = power_method(A, x)\n",
    "print(\"\\nEigenvalue found by Power Method:\", a)\n",
    "print(\"Eigenvector found by Power Method:\", v)"
   ],
   "metadata": {
    "colab": {
     "base_uri": "https://localhost:8080/"
    },
    "id": "nTpS62Ye6zio",
    "executionInfo": {
     "status": "ok",
     "timestamp": 1711287262528,
     "user_tz": -480,
     "elapsed": 6,
     "user": {
      "displayName": "sz lim",
      "userId": "08108144997048294905"
     }
    },
    "outputId": "deb454ed-e9dc-4943-cd88-4a5b4b1c6edf",
    "ExecuteTime": {
     "end_time": "2024-03-29T07:50:39.516239400Z",
     "start_time": "2024-03-29T07:50:39.416507800Z"
    }
   },
   "execution_count": 8,
   "outputs": [
    {
     "name": "stdout",
     "output_type": "stream",
     "text": [
      "\n",
      "Eigenvalue found by Power Method: 2.4052223720279455\n",
      "Eigenvector found by Power Method: [0.62966403 0.43106512 0.47333028 0.44007332]\n"
     ]
    }
   ]
  },
  {
   "cell_type": "code",
   "source": [
    "# Using numpy.linalg.eig for comparison\n",
    "eigvals, eigvecs = np.linalg.eig(A)\n",
    "principal_idx = np.argmax(np.abs(eigvals))\n",
    "print(\"\\nEigenvalue found by numpy.linalg.eig:\", eigvals[principal_idx])\n",
    "print(\"Eigenvector found by numpy.linalg.eig:\", eigvecs[:, principal_idx])\n",
    "\n",
    "# Comparing eigenvectors\n",
    "print(\"\\nComparison of eigenvectors:\")\n",
    "print(\"Normalized eigenvector (Power Method):\", v)\n",
    "print(\"Normalized eigenvector (numpy.linalg.eig):\", eigvecs[:, principal_idx])"
   ],
   "metadata": {
    "colab": {
     "base_uri": "https://localhost:8080/"
    },
    "id": "_NZ9Dtfb61dV",
    "executionInfo": {
     "status": "ok",
     "timestamp": 1711287262528,
     "user_tz": -480,
     "elapsed": 5,
     "user": {
      "displayName": "sz lim",
      "userId": "08108144997048294905"
     }
    },
    "outputId": "fdf21e9a-f863-4f47-bc09-da36363a34ff",
    "ExecuteTime": {
     "end_time": "2024-03-29T07:50:39.549152400Z",
     "start_time": "2024-03-29T07:50:39.476347900Z"
    }
   },
   "execution_count": 9,
   "outputs": [
    {
     "name": "stdout",
     "output_type": "stream",
     "text": [
      "\n",
      "Eigenvalue found by numpy.linalg.eig: 2.4052223720279424\n",
      "Eigenvector found by numpy.linalg.eig: [0.62966403 0.43106512 0.47333028 0.44007332]\n",
      "\n",
      "Comparison of eigenvectors:\n",
      "Normalized eigenvector (Power Method): [0.62966403 0.43106512 0.47333028 0.44007332]\n",
      "Normalized eigenvector (numpy.linalg.eig): [0.62966403 0.43106512 0.47333028 0.44007332]\n"
     ]
    }
   ]
  },
  {
   "cell_type": "markdown",
   "source": [
    "(iii) divide your $v$ by that of $numpy.linalg.eig$"
   ],
   "metadata": {
    "id": "o8GJsTJ6Zgq6"
   }
  },
  {
   "cell_type": "code",
   "source": [
    "# Comparing eigenvectors\n",
    "print(\"\\nComparison of eigenvectors:\")\n",
    "print(\"Normalized eigenvector (Power Method):\", v)\n",
    "print(\"Normalized eigenvector (numpy.linalg.eig):\", eigvecs[:, principal_idx])"
   ],
   "metadata": {
    "colab": {
     "base_uri": "https://localhost:8080/"
    },
    "id": "QosGIcnc62pt",
    "executionInfo": {
     "status": "ok",
     "timestamp": 1711287262528,
     "user_tz": -480,
     "elapsed": 4,
     "user": {
      "displayName": "sz lim",
      "userId": "08108144997048294905"
     }
    },
    "outputId": "ef507ea8-2238-4bc6-c218-bda9b5133854",
    "ExecuteTime": {
     "end_time": "2024-03-29T07:50:39.613979300Z",
     "start_time": "2024-03-29T07:50:39.531202500Z"
    }
   },
   "execution_count": 10,
   "outputs": [
    {
     "name": "stdout",
     "output_type": "stream",
     "text": [
      "\n",
      "Comparison of eigenvectors:\n",
      "Normalized eigenvector (Power Method): [0.62966403 0.43106512 0.47333028 0.44007332]\n",
      "Normalized eigenvector (numpy.linalg.eig): [0.62966403 0.43106512 0.47333028 0.44007332]\n"
     ]
    }
   ]
  }
 ]
}
