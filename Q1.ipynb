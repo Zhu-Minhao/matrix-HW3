{
 "nbformat": 4,
 "nbformat_minor": 0,
 "metadata": {
  "colab": {
   "provenance": [],
   "authorship_tag": "ABX9TyO16msUiGgmRtqqbcGYC5O7"
  },
  "kernelspec": {
   "name": "python3",
   "language": "python",
   "display_name": "Python 3 (ipykernel)"
  },
  "language_info": {
   "name": "python"
  }
 },
 "cells": [
  {
   "cell_type": "code",
   "execution_count": 47,
   "metadata": {
    "id": "3NLkd_4r6THY",
    "executionInfo": {
     "status": "ok",
     "timestamp": 1711287261081,
     "user_tz": -480,
     "elapsed": 4,
     "user": {
      "displayName": "sz lim",
      "userId": "08108144997048294905"
     }
    },
    "ExecuteTime": {
     "end_time": "2024-03-28T16:06:27.818360900Z",
     "start_time": "2024-03-28T16:06:27.744574Z"
    }
   },
   "outputs": [],
   "source": [
    "import numpy as np\n",
    "\n",
    "def power_method(A, x, max_iter=1000, tol=1e-6):\n",
    "  \"\"\"\n",
    "  Power Method to find principal eigenvalue and eigenvector of a matrix A.\n",
    "  Parameters:\n",
    "    A (ndarray): Matrix for which eigenvalue and eigenvector are to be found.\n",
    "    x (ndarray): Initial guess for the eigenvector.\n",
    "    max_iter (int): Maximum number of iterations (default=1000).\n",
    "    tol (float): Tolerance for convergence (default=1e-6).\n",
    "  Returns:\n",
    "    a (float): Principal eigenvalue of A.\n",
    "    v (ndarray): Eigenvector corresponding to the principal eigenvalue.\n",
    "  \"\"\"\n",
    "  x = x / np.linalg.norm(x)  # Normalize initial guess\n",
    "  for i in range(max_iter):\n",
    "    x_new = A @ x\n",
    "    if np.linalg.norm(x_new) < tol:\n",
    "      return 0, x / np.linal.normg(x) # normalize eigenvector\n",
    "    x = x_new / np.linalg.norm(x_new,ord=np.inf)\n",
    "  return np.linalg.norm(x_new,ord=np.inf), x / np.linalg.norm(x) # normalize eigenvector"
   ]
  },
  {
   "cell_type": "code",
   "source": [
    "# Test on a random symmetric 4x4 real matrix\n",
    "np.random.seed(42)\n",
    "A = np.random.rand(4, 4)\n",
    "A = (A + A.T) / 2  # Making A symmetric\n",
    "print(\"Random symmetric matrix A:\")\n",
    "print(A)"
   ],
   "metadata": {
    "colab": {
     "base_uri": "https://localhost:8080/"
    },
    "id": "j1kcTbkf6zHt",
    "executionInfo": {
     "status": "ok",
     "timestamp": 1711287262528,
     "user_tz": -480,
     "elapsed": 1450,
     "user": {
      "displayName": "sz lim",
      "userId": "08108144997048294905"
     }
    },
    "outputId": "5109eec6-4313-4d10-cff5-ba17e4cc10c1",
    "ExecuteTime": {
     "end_time": "2024-03-28T16:06:27.857257Z",
     "start_time": "2024-03-28T16:06:27.766501300Z"
    }
   },
   "execution_count": 48,
   "outputs": [
    {
     "name": "stdout",
     "output_type": "stream",
     "text": [
      "Random symmetric matrix A:\n",
      "[[0.37454012 0.55336647 0.66655448 0.71555056]\n",
      " [0.55336647 0.15599452 0.38307809 0.53925763]\n",
      " [0.66655448 0.38307809 0.02058449 0.57586741]\n",
      " [0.71555056 0.53925763 0.57586741 0.18340451]]\n"
     ]
    }
   ]
  },
  {
   "cell_type": "markdown",
   "source": [
    "(i) your $v$ is indeed an eigenvector;\n",
    "\n",
    "(ii) your $v$ is indeed associated to your $a$;"
   ],
   "metadata": {
    "id": "5kwmFOfAZUQH"
   }
  },
  {
   "cell_type": "code",
   "source": [
    "# Using Power Method\n",
    "x = np.random.rand(4)  # Initial guess for eigenvector\n",
    "a, v = power_method(A, x)\n",
    "print(\"\\nEigenvalue found by Power Method:\", a)\n",
    "print(\"Eigenvector found by Power Method:\", v)"
   ],
   "metadata": {
    "colab": {
     "base_uri": "https://localhost:8080/"
    },
    "id": "nTpS62Ye6zio",
    "executionInfo": {
     "status": "ok",
     "timestamp": 1711287262528,
     "user_tz": -480,
     "elapsed": 6,
     "user": {
      "displayName": "sz lim",
      "userId": "08108144997048294905"
     }
    },
    "outputId": "deb454ed-e9dc-4943-cd88-4a5b4b1c6edf",
    "ExecuteTime": {
     "end_time": "2024-03-28T16:06:27.928068400Z",
     "start_time": "2024-03-28T16:06:27.784452500Z"
    }
   },
   "execution_count": 49,
   "outputs": [
    {
     "name": "stdout",
     "output_type": "stream",
     "text": [
      "\n",
      "Eigenvalue found by Power Method: 1.9344170523556687\n",
      "Eigenvector found by Power Method: [0.58375278 0.43543757 0.44681529 0.5195988 ]\n"
     ]
    }
   ]
  },
  {
   "cell_type": "code",
   "source": [
    "# Using numpy.linalg.eig for comparison\n",
    "eigvals, eigvecs = np.linalg.eig(A)\n",
    "principal_idx = np.argmax(np.abs(eigvals))\n",
    "print(\"\\nEigenvalue found by numpy.linalg.eig:\", eigvals[principal_idx])\n",
    "print(\"Eigenvector found by numpy.linalg.eig:\", eigvecs[:, principal_idx])\n",
    "\n",
    "# Comparing eigenvectors\n",
    "print(\"\\nComparison of eigenvectors:\")\n",
    "print(\"Normalized eigenvector (Power Method):\", v)\n",
    "print(\"Normalized eigenvector (numpy.linalg.eig):\", eigvecs[:, principal_idx])"
   ],
   "metadata": {
    "colab": {
     "base_uri": "https://localhost:8080/"
    },
    "id": "_NZ9Dtfb61dV",
    "executionInfo": {
     "status": "ok",
     "timestamp": 1711287262528,
     "user_tz": -480,
     "elapsed": 5,
     "user": {
      "displayName": "sz lim",
      "userId": "08108144997048294905"
     }
    },
    "outputId": "fdf21e9a-f863-4f47-bc09-da36363a34ff",
    "ExecuteTime": {
     "end_time": "2024-03-28T16:06:27.930062300Z",
     "start_time": "2024-03-28T16:06:27.833323300Z"
    }
   },
   "execution_count": 50,
   "outputs": [
    {
     "name": "stdout",
     "output_type": "stream",
     "text": [
      "\n",
      "Eigenvalue found by numpy.linalg.eig: 1.9344170523556699\n",
      "Eigenvector found by numpy.linalg.eig: [0.58375278 0.43543757 0.44681529 0.5195988 ]\n",
      "\n",
      "Comparison of eigenvectors:\n",
      "Normalized eigenvector (Power Method): [0.58375278 0.43543757 0.44681529 0.5195988 ]\n",
      "Normalized eigenvector (numpy.linalg.eig): [0.58375278 0.43543757 0.44681529 0.5195988 ]\n"
     ]
    }
   ]
  },
  {
   "cell_type": "markdown",
   "source": [
    "(iii) divide your $v$ by that of $numpy.linalg.eig$"
   ],
   "metadata": {
    "id": "o8GJsTJ6Zgq6"
   }
  },
  {
   "cell_type": "code",
   "source": [
    "# Comparing eigenvectors\n",
    "print(\"\\nComparison of eigenvectors:\")\n",
    "print(\"Normalized eigenvector (Power Method):\", v)\n",
    "print(\"Normalized eigenvector (numpy.linalg.eig):\", eigvecs[:, principal_idx])"
   ],
   "metadata": {
    "colab": {
     "base_uri": "https://localhost:8080/"
    },
    "id": "QosGIcnc62pt",
    "executionInfo": {
     "status": "ok",
     "timestamp": 1711287262528,
     "user_tz": -480,
     "elapsed": 4,
     "user": {
      "displayName": "sz lim",
      "userId": "08108144997048294905"
     }
    },
    "outputId": "ef507ea8-2238-4bc6-c218-bda9b5133854",
    "ExecuteTime": {
     "end_time": "2024-03-28T16:06:28.086325500Z",
     "start_time": "2024-03-28T16:06:27.938044700Z"
    }
   },
   "execution_count": 51,
   "outputs": [
    {
     "name": "stdout",
     "output_type": "stream",
     "text": [
      "\n",
      "Comparison of eigenvectors:\n",
      "Normalized eigenvector (Power Method): [0.58375278 0.43543757 0.44681529 0.5195988 ]\n",
      "Normalized eigenvector (numpy.linalg.eig): [0.58375278 0.43543757 0.44681529 0.5195988 ]\n"
     ]
    }
   ]
  }
 ]
}
