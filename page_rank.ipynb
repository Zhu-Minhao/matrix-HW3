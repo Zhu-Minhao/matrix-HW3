{
 "cells": [
  {
   "cell_type": "markdown",
   "source": [
    "# Page Rank"
   ],
   "metadata": {
    "collapsed": false
   },
   "id": "e96bbd8dd1855f78"
  },
  {
   "cell_type": "code",
   "outputs": [],
   "source": [
    "import numpy as np"
   ],
   "metadata": {
    "collapsed": false,
    "ExecuteTime": {
     "end_time": "2024-03-29T17:29:32.500422200Z",
     "start_time": "2024-03-29T17:29:32.450086100Z"
    }
   },
   "id": "62bfc1c4df8ed4c0",
   "execution_count": 360
  },
  {
   "cell_type": "code",
   "outputs": [],
   "source": [
    "def power_method(A, x, max_iter=100, tol=1e-8):\n",
    "\n",
    "    error = 1\n",
    "    iterations = 0\n",
    "    eigenvalue_estimate = []\n",
    "    while error > tol and iterations < max_iter:\n",
    "        y = A.dot(x)\n",
    "        j = np.argmax(np.abs(y))\n",
    "        if y[j] == 0:\n",
    "            return 0, x\n",
    "        eigenvalue_estimate = y[j]\n",
    "        x_update = y / eigenvalue_estimate\n",
    "        error = np.linalg.norm(x - x_update, np.inf)\n",
    "        x = x_update\n",
    "        iterations += 1\n",
    "    return eigenvalue_estimate, x/np.linalg.norm(x)"
   ],
   "metadata": {
    "collapsed": false,
    "ExecuteTime": {
     "end_time": "2024-03-29T17:29:32.522744300Z",
     "start_time": "2024-03-29T17:29:32.506787600Z"
    }
   },
   "id": "be5209d4cf451fd1",
   "execution_count": 361
  },
  {
   "cell_type": "code",
   "outputs": [],
   "source": [
    "def gram_schmidt(A):\n",
    "    n = A.shape[0]\n",
    "    Q = np.zeros((n, n))\n",
    "    R = np.zeros((n, n))\n",
    "\n",
    "    for k in range(n):\n",
    "        Q[:, k] = A[:, k]\n",
    "        for i in range(k):\n",
    "            R[i, k] = np.dot(Q[:, i], A[:, k])\n",
    "            Q[:, k] -= R[i, k] * Q[:, i]\n",
    "        Q[:, k] /= np.linalg.norm(Q[:, k])\n",
    "        R[k, k] = np.dot(Q[:, k], A[:, k])\n",
    "\n",
    "    return Q, R"
   ],
   "metadata": {
    "collapsed": false,
    "ExecuteTime": {
     "end_time": "2024-03-29T17:29:32.567648300Z",
     "start_time": "2024-03-29T17:29:32.534659200Z"
    }
   },
   "id": "55223f77ec7742ec",
   "execution_count": 362
  },
  {
   "cell_type": "code",
   "outputs": [],
   "source": [
    "def permutation(v):\n",
    "    n = len(v)\n",
    "    P = np.zeros((n, n))\n",
    "    indices = np.argsort(-np.abs(v))\n",
    "\n",
    "    for i, idx in enumerate(indices):\n",
    "        P[i, idx] = 1\n",
    "\n",
    "    return P"
   ],
   "metadata": {
    "collapsed": false,
    "ExecuteTime": {
     "end_time": "2024-03-29T17:29:32.568647600Z",
     "start_time": "2024-03-29T17:29:32.554604200Z"
    }
   },
   "id": "ccf3515c1b658863",
   "execution_count": 363
  },
  {
   "cell_type": "code",
   "outputs": [],
   "source": [
    "def QR_method(A, tol=1e-8):\n",
    "    error = tol + 1\n",
    "    Ak = A\n",
    "    Identity_matrix = np.eye(A.shape[0])\n",
    "    V = np.eye(A.shape[0])\n",
    "    while error > tol:\n",
    "        Atmp = Ak\n",
    "        epsilon = np.random.normal(loc=0, scale=1)\n",
    "        Qk, Rk = gram_schmidt(Ak + epsilon * Identity_matrix)\n",
    "        Ak = Rk.dot(Qk) - epsilon * Identity_matrix\n",
    "        P = permutation(np.diag(Ak))\n",
    "        Ak = np.linalg.inv(P).dot(Ak).dot(P)\n",
    "        V = V.dot(Qk).dot(P)\n",
    "        error = np.linalg.norm(np.diag(Ak) - np.diag(Atmp))\n",
    "        \n",
    "    return Ak, V"
   ],
   "metadata": {
    "collapsed": false,
    "ExecuteTime": {
     "end_time": "2024-03-29T17:29:32.619509100Z",
     "start_time": "2024-03-29T17:29:32.568647600Z"
    }
   },
   "id": "a69af1da7b32b2c0",
   "execution_count": 364
  },
  {
   "cell_type": "code",
   "outputs": [],
   "source": [
    "A = np.array([\n",
    "    [0, 0, 1, 0, 0],\n",
    "    [0, 0, 0, 0, 0.5],\n",
    "    [1, 0, 0, 0, 0],\n",
    "    [0, 0.5, 0, 0, 0.5],\n",
    "    [0, 0.5, 0, 1, 0]    \n",
    "])"
   ],
   "metadata": {
    "collapsed": false,
    "ExecuteTime": {
     "end_time": "2024-03-29T17:29:32.621507500Z",
     "start_time": "2024-03-29T17:29:32.582608200Z"
    }
   },
   "id": "180f37ae1991409e",
   "execution_count": 365
  },
  {
   "cell_type": "markdown",
   "source": [
    "# Problem 1"
   ],
   "metadata": {
    "collapsed": false
   },
   "id": "e033dbafd461f185"
  },
  {
   "cell_type": "code",
   "outputs": [
    {
     "name": "stdout",
     "output_type": "stream",
     "text": [
      "trial 1\n",
      "Multiplying A by v:\n",
      " [0.43596893 0.26128286 0.56123325 0.3919243  0.52256573]\n",
      "Multiplying a by v:\n",
      " [0.56123325 0.26128286 0.43596893 0.3919243  0.52256573]\n",
      "\n",
      "\n",
      "trial 2\n",
      "Multiplying A by v:\n",
      " [0.74587224 0.24515651 0.08909084 0.36773476 0.49031302]\n",
      "Multiplying a by v:\n",
      " [0.08909084 0.24515651 0.74587224 0.36773476 0.49031302]\n",
      "\n",
      "\n",
      "trial 3\n",
      "Multiplying A by v:\n",
      " [0.54992631 0.29640011 0.24626533 0.44460017 0.59280023]\n",
      "Multiplying a by v:\n",
      " [0.24626533 0.29640011 0.54992631 0.44460017 0.59280023]\n",
      "\n",
      "\n",
      "trial 4\n",
      "Multiplying A by v:\n",
      " [0.7177117  0.13164231 0.59937435 0.19746347 0.26328462]\n",
      "Multiplying a by v:\n",
      " [0.59937435 0.13164231 0.7177117  0.19746347 0.26328462]\n",
      "\n",
      "\n",
      "trial 5\n",
      "Multiplying A by v:\n",
      " [0.62320141 0.2296044  0.47897098 0.3444066  0.4592088 ]\n",
      "Multiplying a by v:\n",
      " [0.47897098 0.2296044  0.62320141 0.3444066  0.4592088 ]\n",
      "\n",
      "\n",
      "trial 6\n",
      "Multiplying A by v:\n",
      " [0.70856644 0.21184435 0.41541292 0.31776652 0.4236887 ]\n",
      "Multiplying a by v:\n",
      " [0.41541292 0.21184435 0.70856644 0.31776652 0.4236887 ]\n",
      "\n",
      "\n",
      "trial 7\n",
      "Multiplying A by v:\n",
      " [0.20964133 0.33930506 0.34838639 0.50895759 0.67861011]\n",
      "Multiplying a by v:\n",
      " [0.34838639 0.33930506 0.20964133 0.50895759 0.67861011]\n",
      "\n",
      "\n",
      "trial 8\n",
      "Multiplying A by v:\n",
      " [0.41225699 0.33688282 0.08509657 0.50532423 0.67376564]\n",
      "Multiplying a by v:\n",
      " [0.08509657 0.33688282 0.41225699 0.50532423 0.67376564]\n",
      "\n",
      "\n",
      "trial 9\n",
      "Multiplying A by v:\n",
      " [0.04934889 0.31362724 0.53332902 0.47044086 0.62725448]\n",
      "Multiplying a by v:\n",
      " [0.53332902 0.31362724 0.04934889 0.47044086 0.62725448]\n",
      "\n",
      "\n",
      "trial 10\n",
      "Multiplying A by v:\n",
      " [0.37014624 0.29471053 0.48300942 0.4420658  0.58942106]\n",
      "Multiplying a by v:\n",
      " [0.48300942 0.29471053 0.37014624 0.4420658  0.58942106]\n",
      "\n"
     ]
    }
   ],
   "source": [
    "for i in range(10):\n",
    "    x = np.random.rand(5)\n",
    "    a, v = power_method(A, x)\n",
    "    print(\"trial\", i+1)\n",
    "    print(\"Multiplying A by v:\\n\", A.dot(v))\n",
    "    print(\"Multiplying a by v:\\n\", v * a)\n",
    "    print(\"\\n\")"
   ],
   "metadata": {
    "collapsed": false,
    "ExecuteTime": {
     "end_time": "2024-03-29T17:29:32.652422500Z",
     "start_time": "2024-03-29T17:29:32.600560400Z"
    }
   },
   "id": "c54afba68b8c7a6c",
   "execution_count": 366
  },
  {
   "cell_type": "markdown",
   "source": [
    "Observation: only the second, fourth, and fifth entries are correspondent"
   ],
   "metadata": {
    "collapsed": false
   },
   "id": "620d5274d806bcfc"
  },
  {
   "cell_type": "markdown",
   "source": [
    "# Problem 2"
   ],
   "metadata": {
    "collapsed": false
   },
   "id": "7c15bbc6b1ddfc7a"
  },
  {
   "cell_type": "code",
   "outputs": [],
   "source": [
    "x1 = np.array([0, 0.57, 0, 0.57, 0.57])\n",
    "x2 = np.array([0.7, 0, 0.7, 0, 0])\n",
    "a1, v1 = power_method(A, x1)\n",
    "a2, v2 = power_method(A, x2)"
   ],
   "metadata": {
    "collapsed": false,
    "ExecuteTime": {
     "end_time": "2024-03-29T17:29:32.653418900Z",
     "start_time": "2024-03-29T17:29:32.631478900Z"
    }
   },
   "id": "ba708b91c8361d5f",
   "execution_count": 367
  },
  {
   "cell_type": "code",
   "outputs": [
    {
     "name": "stdout",
     "output_type": "stream",
     "text": [
      "Multiplying A by v1:\n",
      " [0.         0.37139068 0.         0.55708601 0.74278135]\n",
      "Multiplying a1 by v1:\n",
      " [0.         0.37139068 0.         0.55708602 0.74278136]\n",
      "\n",
      "\n",
      "Multiplying A by v2:\n",
      " [0.70710678 0.         0.70710678 0.         0.        ]\n",
      "Multiplying a1 by v2:\n",
      " [0.70710678 0.         0.70710678 0.         0.        ]\n"
     ]
    }
   ],
   "source": [
    "print(\"Multiplying A by v1:\\n\", A.dot(v1))\n",
    "print(\"Multiplying a1 by v1:\\n\", v1 * a1)\n",
    "print(\"\\n\")\n",
    "print(\"Multiplying A by v2:\\n\", A.dot(v2))\n",
    "print(\"Multiplying a1 by v2:\\n\", v2 * a2)"
   ],
   "metadata": {
    "collapsed": false,
    "ExecuteTime": {
     "end_time": "2024-03-29T17:29:32.708479200Z",
     "start_time": "2024-03-29T17:29:32.642448700Z"
    }
   },
   "id": "28bc5fdecf90951c",
   "execution_count": 368
  },
  {
   "cell_type": "markdown",
   "source": [
    "# Problem 3"
   ],
   "metadata": {
    "collapsed": false
   },
   "id": "c6f1df64c4128f21"
  },
  {
   "cell_type": "markdown",
   "source": [
    "leave it blank..."
   ],
   "metadata": {
    "collapsed": false
   },
   "id": "4631dfbb1c4e90ba"
  },
  {
   "cell_type": "markdown",
   "source": [
    "# Problem 4"
   ],
   "metadata": {
    "collapsed": false
   },
   "id": "99152ffb9532cf3d"
  },
  {
   "cell_type": "code",
   "outputs": [],
   "source": [
    "alpha = np.random.rand()\n",
    "A_prime = (1 - alpha) * A + 0.2 * alpha * np.ones(A.shape)\n",
    "x = np.random.rand(5)"
   ],
   "metadata": {
    "collapsed": false,
    "ExecuteTime": {
     "end_time": "2024-03-29T17:29:32.709479Z",
     "start_time": "2024-03-29T17:29:32.661398600Z"
    }
   },
   "id": "f0790528547ee138",
   "execution_count": 369
  },
  {
   "cell_type": "code",
   "outputs": [
    {
     "name": "stdout",
     "output_type": "stream",
     "text": [
      "Multiplying A by v':\n",
      " [0.44519932 0.3781627  0.44519932 0.44519932 0.51223595]\n",
      "Multiplying a' by v':\n",
      " [0.44519932 0.3781627  0.44519932 0.44519932 0.51223595]\n"
     ]
    }
   ],
   "source": [
    "a_prime, v_prime = power_method(A_prime, x)\n",
    "print(\"Multiplying A by v':\\n\", A_prime.dot(v_prime))\n",
    "print(\"Multiplying a' by v':\\n\", v_prime * a_prime)"
   ],
   "metadata": {
    "collapsed": false,
    "ExecuteTime": {
     "end_time": "2024-03-29T17:29:32.751366100Z",
     "start_time": "2024-03-29T17:29:32.673365400Z"
    }
   },
   "id": "a34ba74cdaaaeaf7",
   "execution_count": 370
  },
  {
   "cell_type": "markdown",
   "source": [
    "what difference?"
   ],
   "metadata": {
    "collapsed": false
   },
   "id": "f12046275a4bf15f"
  },
  {
   "cell_type": "markdown",
   "source": [
    "# Problem 5"
   ],
   "metadata": {
    "collapsed": false
   },
   "id": "b47f9540f85f1f5a"
  },
  {
   "cell_type": "code",
   "outputs": [
    {
     "name": "stdout",
     "output_type": "stream",
     "text": [
      "Ak:\n",
      " [[-1.00000000e+00  0.00000000e+00 -3.10790746e-14  0.00000000e+00\n",
      "   0.00000000e+00]\n",
      " [ 0.00000000e+00  1.00000000e+00  0.00000000e+00  4.08287321e-01\n",
      "  -1.51514475e-01]\n",
      " [ 5.70264566e-74  0.00000000e+00  1.00000000e+00  0.00000000e+00\n",
      "   0.00000000e+00]\n",
      " [ 0.00000000e+00  0.00000000e+00  0.00000000e+00 -5.00143456e-01\n",
      "   5.57085978e-01]\n",
      " [ 0.00000000e+00  0.00000000e+00  0.00000000e+00 -3.69455631e-08\n",
      "  -4.99856544e-01]]\n"
     ]
    }
   ],
   "source": [
    "Ak, V = QR_method(A)\n",
    "print(\"Ak:\\n\", Ak)"
   ],
   "metadata": {
    "collapsed": false,
    "ExecuteTime": {
     "end_time": "2024-03-29T17:29:35.796877Z",
     "start_time": "2024-03-29T17:29:32.715461600Z"
    }
   },
   "id": "ac1082bc42379bdb",
   "execution_count": 371
  },
  {
   "cell_type": "code",
   "outputs": [
    {
     "name": "stdout",
     "output_type": "stream",
     "text": [
      "diagonalization of A using numpy.linaly.eig:\n",
      " [[ 1.01465364e-17+0.00000000e+00j  0.00000000e+00+0.00000000e+00j\n",
      "   1.00000000e+00+0.00000000e+00j  0.00000000e+00+0.00000000e+00j\n",
      "   0.00000000e+00+0.00000000e+00j]\n",
      " [ 0.00000000e+00+0.00000000e+00j  6.05135015e-16+7.91605811e-10j\n",
      "   0.00000000e+00+0.00000000e+00j  5.15287719e-16-2.66122606e-10j\n",
      "   5.00000000e-01+2.46049678e-10j]\n",
      " [ 1.00000000e+00+0.00000000e+00j  0.00000000e+00+0.00000000e+00j\n",
      "   1.01465364e-17+0.00000000e+00j  0.00000000e+00+0.00000000e+00j\n",
      "   0.00000000e+00+0.00000000e+00j]\n",
      " [ 0.00000000e+00+0.00000000e+00j  5.00000000e-01-1.50086023e-09j\n",
      "   0.00000000e+00+0.00000000e+00j  1.66533454e-16+3.00172047e-09j\n",
      "   5.00000000e-01-1.50086023e-09j]\n",
      " [ 0.00000000e+00+0.00000000e+00j  5.00000000e-01-2.72268825e-09j\n",
      "   0.00000000e+00+0.00000000e+00j  1.00000000e+00+5.99093264e-09j\n",
      "  -5.27355937e-16-3.10845469e-09j]]\n"
     ]
    }
   ],
   "source": [
    "eig_val, eig_vec = np.linalg.eig(A)\n",
    "print(\"diagonalization of A using numpy.linaly.eig:\\n\", eig_vec @ np.diag(eig_val) @ np.linalg.inv(eig_vec))"
   ],
   "metadata": {
    "collapsed": false,
    "ExecuteTime": {
     "end_time": "2024-03-29T17:29:35.817906400Z",
     "start_time": "2024-03-29T17:29:35.800840400Z"
    }
   },
   "id": "a7f98e2834fcc662",
   "execution_count": 372
  }
 ],
 "metadata": {
  "kernelspec": {
   "display_name": "Python 3",
   "language": "python",
   "name": "python3"
  },
  "language_info": {
   "codemirror_mode": {
    "name": "ipython",
    "version": 2
   },
   "file_extension": ".py",
   "mimetype": "text/x-python",
   "name": "python",
   "nbconvert_exporter": "python",
   "pygments_lexer": "ipython2",
   "version": "2.7.6"
  }
 },
 "nbformat": 4,
 "nbformat_minor": 5
}
