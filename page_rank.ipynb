{
 "cells": [
  {
   "cell_type": "markdown",
   "source": [
    "# Page Rank"
   ],
   "metadata": {
    "collapsed": false
   },
   "id": "e96bbd8dd1855f78"
  },
  {
   "cell_type": "code",
   "outputs": [],
   "source": [
    "import numpy as np"
   ],
   "metadata": {
    "collapsed": false,
    "ExecuteTime": {
     "end_time": "2024-03-31T12:05:16.278572300Z",
     "start_time": "2024-03-31T12:05:16.148292500Z"
    }
   },
   "id": "62bfc1c4df8ed4c0",
   "execution_count": 14
  },
  {
   "cell_type": "code",
   "outputs": [],
   "source": [
    "def power_method(A, x, max_iter=100, tol=1e-8):\n",
    "\n",
    "    error = 1\n",
    "    iterations = 0\n",
    "    eigenvalue_estimate = []\n",
    "    while error > tol and iterations < max_iter:\n",
    "        y = A.dot(x)\n",
    "        j = np.argmax(np.abs(y))\n",
    "        if y[j] == 0:\n",
    "            return 0, x\n",
    "        eigenvalue_estimate = y[j]\n",
    "        x_update = y / eigenvalue_estimate\n",
    "        error = np.linalg.norm(x - x_update, np.inf)\n",
    "        x = x_update\n",
    "        iterations += 1\n",
    "    return eigenvalue_estimate, x/np.linalg.norm(x)"
   ],
   "metadata": {
    "collapsed": false,
    "ExecuteTime": {
     "end_time": "2024-03-31T12:05:16.319450100Z",
     "start_time": "2024-03-31T12:05:16.264602Z"
    }
   },
   "id": "be5209d4cf451fd1",
   "execution_count": 15
  },
  {
   "cell_type": "code",
   "outputs": [],
   "source": [
    "def gram_schmidt(A):\n",
    "    n = A.shape[0]\n",
    "    Q = np.zeros((n, n))\n",
    "    R = np.zeros((n, n))\n",
    "\n",
    "    for k in range(n):\n",
    "        Q[:, k] = A[:, k]\n",
    "        for i in range(k):\n",
    "            R[i, k] = np.dot(Q[:, i], A[:, k])\n",
    "            Q[:, k] -= R[i, k] * Q[:, i]\n",
    "        Q[:, k] /= np.linalg.norm(Q[:, k])\n",
    "        R[k, k] = np.dot(Q[:, k], A[:, k])\n",
    "\n",
    "    return Q, R"
   ],
   "metadata": {
    "collapsed": false,
    "ExecuteTime": {
     "end_time": "2024-03-31T12:05:16.352360300Z",
     "start_time": "2024-03-31T12:05:16.317454200Z"
    }
   },
   "id": "55223f77ec7742ec",
   "execution_count": 16
  },
  {
   "cell_type": "code",
   "outputs": [],
   "source": [
    "def permutation(v):\n",
    "    n = len(v)\n",
    "    P = np.zeros((n, n))\n",
    "    indices = np.argsort(-np.abs(v))\n",
    "\n",
    "    for i, idx in enumerate(indices):\n",
    "        P[i, idx] = 1\n",
    "\n",
    "    return P"
   ],
   "metadata": {
    "collapsed": false,
    "ExecuteTime": {
     "end_time": "2024-03-31T12:05:16.404224800Z",
     "start_time": "2024-03-31T12:05:16.340393900Z"
    }
   },
   "id": "ccf3515c1b658863",
   "execution_count": 17
  },
  {
   "cell_type": "code",
   "outputs": [],
   "source": [
    "def QR_method(A, tol=1e-8):\n",
    "    error = tol + 1\n",
    "    Ak = A\n",
    "    Identity_matrix = np.eye(A.shape[0])\n",
    "    V = np.eye(A.shape[0])\n",
    "    while error > tol:\n",
    "        Atmp = Ak\n",
    "        epsilon = np.random.normal(loc=0, scale=1)\n",
    "        Qk, Rk = gram_schmidt(Ak + epsilon * Identity_matrix)\n",
    "        Ak = Rk.dot(Qk) - epsilon * Identity_matrix\n",
    "        P = permutation(np.diag(Ak))\n",
    "        Ak = np.linalg.inv(P).dot(Ak).dot(P)\n",
    "        V = V.dot(Qk).dot(P)\n",
    "        error = np.linalg.norm(np.diag(Ak) - np.diag(Atmp))\n",
    "        \n",
    "    return Ak, V"
   ],
   "metadata": {
    "collapsed": false,
    "ExecuteTime": {
     "end_time": "2024-03-31T12:05:16.484011500Z",
     "start_time": "2024-03-31T12:05:16.361337200Z"
    }
   },
   "id": "a69af1da7b32b2c0",
   "execution_count": 18
  },
  {
   "cell_type": "code",
   "outputs": [],
   "source": [
    "A = np.array([\n",
    "    [0, 0, 1, 0, 0],\n",
    "    [0, 0, 0, 0, 0.5],\n",
    "    [1, 0, 0, 0, 0],\n",
    "    [0, 0.5, 0, 0, 0.5],\n",
    "    [0, 0.5, 0, 1, 0]    \n",
    "])"
   ],
   "metadata": {
    "collapsed": false,
    "ExecuteTime": {
     "end_time": "2024-03-31T12:05:16.580750900Z",
     "start_time": "2024-03-31T12:05:16.418186500Z"
    }
   },
   "id": "180f37ae1991409e",
   "execution_count": 19
  },
  {
   "cell_type": "markdown",
   "source": [
    "# Problem 1"
   ],
   "metadata": {
    "collapsed": false
   },
   "id": "e033dbafd461f185"
  },
  {
   "cell_type": "code",
   "outputs": [
    {
     "name": "stdout",
     "output_type": "stream",
     "text": [
      "trial 1\n",
      "Multiplying A by v:\n",
      " [0.11930363 0.27535489 0.66035548 0.41303233 0.55070978]\n",
      "Multiplying a by v:\n",
      " [0.66035548 0.27535489 0.11930363 0.41303233 0.55070978]\n",
      "\n",
      "\n",
      "trial 2\n",
      "Multiplying A by v:\n",
      " [0.26383975 0.35236845 0.17379018 0.52855268 0.7047369 ]\n",
      "Multiplying a by v:\n",
      " [0.17379018 0.35236845 0.26383975 0.52855268 0.7047369 ]\n",
      "\n",
      "\n",
      "trial 3\n",
      "Multiplying A by v:\n",
      " [0.30921904 0.35313033 0.0173529  0.52969549 0.70626066]\n",
      "Multiplying a by v:\n",
      " [0.0173529  0.35313033 0.30921904 0.52969549 0.70626066]\n",
      "\n",
      "\n",
      "trial 4\n",
      "Multiplying A by v:\n",
      " [0.032889   0.22532594 0.79424361 0.33798891 0.45065188]\n",
      "Multiplying a by v:\n",
      " [0.79424361 0.22532594 0.032889   0.33798891 0.45065188]\n",
      "\n",
      "\n",
      "trial 5\n",
      "Multiplying A by v:\n",
      " [0.65202471 0.25639868 0.31344335 0.38459802 0.51279735]\n",
      "Multiplying a by v:\n",
      " [0.31344335 0.25639868 0.65202471 0.38459802 0.51279735]\n",
      "\n",
      "\n",
      "trial 6\n",
      "Multiplying A by v:\n",
      " [0.53444766 0.31278771 0.07108869 0.46918156 0.62557542]\n",
      "Multiplying a by v:\n",
      " [0.07108869 0.31278771 0.53444766 0.46918156 0.62557542]\n",
      "\n",
      "\n",
      "trial 7\n",
      "Multiplying A by v:\n",
      " [0.59324626 0.2584866  0.40453405 0.38772989 0.51697319]\n",
      "Multiplying a by v:\n",
      " [0.40453405 0.2584866  0.59324626 0.38772989 0.51697319]\n",
      "\n",
      "\n",
      "trial 8\n",
      "Multiplying A by v:\n",
      " [0.63330724 0.26188628 0.31888062 0.39282942 0.52377257]\n",
      "Multiplying a by v:\n",
      " [0.31888062 0.26188628 0.63330724 0.39282942 0.52377257]\n",
      "\n",
      "\n",
      "trial 9\n",
      "Multiplying A by v:\n",
      " [0.02072475 0.25498054 0.72678138 0.38247081 0.50996108]\n",
      "Multiplying a by v:\n",
      " [0.72678138 0.25498054 0.02072475 0.38247081 0.50996108]\n",
      "\n",
      "\n",
      "trial 10\n",
      "Multiplying A by v:\n",
      " [0.80155363 0.21494071 0.15021765 0.32241106 0.42988142]\n",
      "Multiplying a by v:\n",
      " [0.15021765 0.21494071 0.80155363 0.32241106 0.42988142]\n",
      "\n"
     ]
    }
   ],
   "source": [
    "for i in range(10):\n",
    "    x = np.random.rand(5)\n",
    "    a, v = power_method(A, x)\n",
    "    print(\"trial\", i+1)\n",
    "    print(\"Multiplying A by v:\\n\", A.dot(v))\n",
    "    print(\"Multiplying a by v:\\n\", v * a)\n",
    "    print(\"\\n\")"
   ],
   "metadata": {
    "collapsed": false,
    "ExecuteTime": {
     "end_time": "2024-03-31T12:05:16.698435400Z",
     "start_time": "2024-03-31T12:05:16.540858300Z"
    }
   },
   "id": "c54afba68b8c7a6c",
   "execution_count": 20
  },
  {
   "cell_type": "markdown",
   "source": [
    "Observation: only the second, fourth, and fifth entries are correspondent"
   ],
   "metadata": {
    "collapsed": false
   },
   "id": "620d5274d806bcfc"
  },
  {
   "cell_type": "markdown",
   "source": [
    "# Problem 2"
   ],
   "metadata": {
    "collapsed": false
   },
   "id": "7c15bbc6b1ddfc7a"
  },
  {
   "cell_type": "code",
   "outputs": [],
   "source": [
    "x1 = np.array([0, 0.57, 0, 0.57, 0.57])\n",
    "x2 = np.array([0.7, 0, 0.7, 0, 0])\n",
    "a1, v1 = power_method(A, x1)\n",
    "a2, v2 = power_method(A, x2)"
   ],
   "metadata": {
    "collapsed": false,
    "ExecuteTime": {
     "end_time": "2024-03-31T12:05:16.756280500Z",
     "start_time": "2024-03-31T12:05:16.660537400Z"
    }
   },
   "id": "ba708b91c8361d5f",
   "execution_count": 21
  },
  {
   "cell_type": "code",
   "outputs": [
    {
     "name": "stdout",
     "output_type": "stream",
     "text": [
      "Multiplying A by v1:\n",
      " [0.         0.37139068 0.         0.55708601 0.74278135]\n",
      "Multiplying a1 by v1:\n",
      " [0.         0.37139068 0.         0.55708602 0.74278136]\n",
      "\n",
      "\n",
      "Multiplying A by v2:\n",
      " [0.70710678 0.         0.70710678 0.         0.        ]\n",
      "Multiplying a1 by v2:\n",
      " [0.70710678 0.         0.70710678 0.         0.        ]\n"
     ]
    }
   ],
   "source": [
    "print(\"Multiplying A by v1:\\n\", A.dot(v1))\n",
    "print(\"Multiplying a1 by v1:\\n\", v1 * a1)\n",
    "print(\"\\n\")\n",
    "print(\"Multiplying A by v2:\\n\", A.dot(v2))\n",
    "print(\"Multiplying a1 by v2:\\n\", v2 * a2)"
   ],
   "metadata": {
    "collapsed": false,
    "ExecuteTime": {
     "end_time": "2024-03-31T12:05:16.791191100Z",
     "start_time": "2024-03-31T12:05:16.705417600Z"
    }
   },
   "id": "28bc5fdecf90951c",
   "execution_count": 22
  },
  {
   "cell_type": "markdown",
   "source": [
    "# Problem 3"
   ],
   "metadata": {
    "collapsed": false
   },
   "id": "c6f1df64c4128f21"
  },
  {
   "cell_type": "markdown",
   "source": [
    "leave it blank..."
   ],
   "metadata": {
    "collapsed": false
   },
   "id": "4631dfbb1c4e90ba"
  },
  {
   "cell_type": "markdown",
   "source": [
    "# Problem 4"
   ],
   "metadata": {
    "collapsed": false
   },
   "id": "99152ffb9532cf3d"
  },
  {
   "cell_type": "code",
   "outputs": [],
   "source": [
    "alpha = np.random.rand()\n",
    "A_prime = (1 - alpha) * A + 0.2 * alpha * np.ones(A.shape)\n",
    "x = np.random.rand(5)"
   ],
   "metadata": {
    "collapsed": false,
    "ExecuteTime": {
     "end_time": "2024-03-31T12:05:16.895913400Z",
     "start_time": "2024-03-31T12:05:16.794179800Z"
    }
   },
   "id": "f0790528547ee138",
   "execution_count": 23
  },
  {
   "cell_type": "code",
   "outputs": [
    {
     "name": "stdout",
     "output_type": "stream",
     "text": [
      "Multiplying A by v':\n",
      " [0.43937275 0.30754387 0.43937281 0.43937281 0.57120174]\n",
      "Multiplying a' by v':\n",
      " [0.43937281 0.30754387 0.43937274 0.4393728  0.57120174]\n"
     ]
    }
   ],
   "source": [
    "a_prime, v_prime = power_method(A_prime, x)\n",
    "print(\"Multiplying A' by v':\\n\", A_prime.dot(v_prime))\n",
    "print(\"Multiplying a' by v':\\n\", v_prime * a_prime)"
   ],
   "metadata": {
    "collapsed": false,
    "ExecuteTime": {
     "end_time": "2024-03-31T12:05:16.968715500Z",
     "start_time": "2024-03-31T12:05:16.868979200Z"
    }
   },
   "id": "a34ba74cdaaaeaf7",
   "execution_count": 24
  },
  {
   "cell_type": "markdown",
   "source": [
    "what difference?"
   ],
   "metadata": {
    "collapsed": false
   },
   "id": "f12046275a4bf15f"
  },
  {
   "cell_type": "markdown",
   "source": [
    "# Problem 5"
   ],
   "metadata": {
    "collapsed": false
   },
   "id": "b47f9540f85f1f5a"
  },
  {
   "cell_type": "code",
   "outputs": [
    {
     "name": "stdout",
     "output_type": "stream",
     "text": [
      "Ak:\n",
      " [[-1.00000000e+00  0.00000000e+00  1.80281749e-14  0.00000000e+00\n",
      "   0.00000000e+00]\n",
      " [ 0.00000000e+00  1.00000000e+00  0.00000000e+00 -4.08282134e-01\n",
      "  -1.51528450e-01]\n",
      " [ 1.54762324e-23  0.00000000e+00  1.00000000e+00  0.00000000e+00\n",
      "   0.00000000e+00]\n",
      " [ 0.00000000e+00  0.00000000e+00  0.00000000e+00 -5.00124388e-01\n",
      "  -5.57085987e-01]\n",
      " [ 0.00000000e+00  0.00000000e+00  0.00000000e+00  2.77877943e-08\n",
      "  -4.99875613e-01]]\n"
     ]
    }
   ],
   "source": [
    "Ak, V = QR_method(A)\n",
    "print(\"Ak:\\n\", Ak)"
   ],
   "metadata": {
    "collapsed": false,
    "ExecuteTime": {
     "end_time": "2024-03-31T12:25:22.827041100Z",
     "start_time": "2024-03-31T12:25:20.152860400Z"
    }
   },
   "id": "ac1082bc42379bdb",
   "execution_count": 27
  },
  {
   "cell_type": "code",
   "outputs": [
    {
     "name": "stdout",
     "output_type": "stream",
     "text": [
      "diagonalization of A using numpy.linaly.eig:\n",
      " [[ 1.01465364e-17+0.00000000e+00j  0.00000000e+00+0.00000000e+00j\n",
      "   1.00000000e+00+0.00000000e+00j  0.00000000e+00+0.00000000e+00j\n",
      "   0.00000000e+00+0.00000000e+00j]\n",
      " [ 0.00000000e+00+0.00000000e+00j  6.05135015e-16+7.91605811e-10j\n",
      "   0.00000000e+00+0.00000000e+00j  5.15287719e-16-2.66122606e-10j\n",
      "   5.00000000e-01+2.46049678e-10j]\n",
      " [ 1.00000000e+00+0.00000000e+00j  0.00000000e+00+0.00000000e+00j\n",
      "   1.01465364e-17+0.00000000e+00j  0.00000000e+00+0.00000000e+00j\n",
      "   0.00000000e+00+0.00000000e+00j]\n",
      " [ 0.00000000e+00+0.00000000e+00j  5.00000000e-01-1.50086023e-09j\n",
      "   0.00000000e+00+0.00000000e+00j  1.66533454e-16+3.00172047e-09j\n",
      "   5.00000000e-01-1.50086023e-09j]\n",
      " [ 0.00000000e+00+0.00000000e+00j  5.00000000e-01-2.72268825e-09j\n",
      "   0.00000000e+00+0.00000000e+00j  1.00000000e+00+5.99093264e-09j\n",
      "  -5.27355937e-16-3.10845469e-09j]]\n"
     ]
    }
   ],
   "source": [
    "eig_val, eig_vec = np.linalg.eig(A)\n",
    "print(\"diagonalization of A using numpy.linaly.eig:\\n\", eig_vec @ np.diag(eig_val) @ np.linalg.inv(eig_vec))"
   ],
   "metadata": {
    "collapsed": false,
    "ExecuteTime": {
     "end_time": "2024-03-31T12:25:22.935374100Z",
     "start_time": "2024-03-31T12:25:22.830323Z"
    }
   },
   "id": "a7f98e2834fcc662",
   "execution_count": 28
  }
 ],
 "metadata": {
  "kernelspec": {
   "display_name": "Python 3",
   "language": "python",
   "name": "python3"
  },
  "language_info": {
   "codemirror_mode": {
    "name": "ipython",
    "version": 2
   },
   "file_extension": ".py",
   "mimetype": "text/x-python",
   "name": "python",
   "nbconvert_exporter": "python",
   "pygments_lexer": "ipython2",
   "version": "2.7.6"
  }
 },
 "nbformat": 4,
 "nbformat_minor": 5
}
