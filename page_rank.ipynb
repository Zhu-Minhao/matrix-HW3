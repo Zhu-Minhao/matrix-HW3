{
 "cells": [
  {
   "cell_type": "markdown",
   "id": "e96bbd8dd1855f78",
   "metadata": {
    "collapsed": false
   },
   "source": [
    "# Page Rank"
   ]
  },
  {
   "cell_type": "code",
   "execution_count": 14,
   "id": "62bfc1c4df8ed4c0",
   "metadata": {
    "ExecuteTime": {
     "end_time": "2024-03-31T12:05:16.278572300Z",
     "start_time": "2024-03-31T12:05:16.148292500Z"
    },
    "collapsed": false
   },
   "outputs": [],
   "source": [
    "import numpy as np"
   ]
  },
  {
   "cell_type": "code",
   "execution_count": 15,
   "id": "be5209d4cf451fd1",
   "metadata": {
    "ExecuteTime": {
     "end_time": "2024-03-31T12:05:16.319450100Z",
     "start_time": "2024-03-31T12:05:16.264602Z"
    },
    "collapsed": false
   },
   "outputs": [],
   "source": [
    "def power_method(A, x, max_iter=100, tol=1e-8):\n",
    "\n",
    "    error = 1\n",
    "    iterations = 0\n",
    "    eigenvalue_estimate = []\n",
    "    while error > tol and iterations < max_iter:\n",
    "        y = A.dot(x)\n",
    "        j = np.argmax(np.abs(y))\n",
    "        if y[j] == 0:\n",
    "            return 0, x\n",
    "        eigenvalue_estimate = y[j]\n",
    "        x_update = y / eigenvalue_estimate\n",
    "        error = np.linalg.norm(x - x_update, np.inf)\n",
    "        x = x_update\n",
    "        iterations += 1\n",
    "    return eigenvalue_estimate, x/np.linalg.norm(x)"
   ]
  },
  {
   "cell_type": "code",
   "execution_count": 16,
   "id": "55223f77ec7742ec",
   "metadata": {
    "ExecuteTime": {
     "end_time": "2024-03-31T12:05:16.352360300Z",
     "start_time": "2024-03-31T12:05:16.317454200Z"
    },
    "collapsed": false
   },
   "outputs": [],
   "source": [
    "def gram_schmidt(A):\n",
    "    n = A.shape[0]\n",
    "    Q = np.zeros((n, n))\n",
    "    R = np.zeros((n, n))\n",
    "\n",
    "    for k in range(n):\n",
    "        Q[:, k] = A[:, k]\n",
    "        for i in range(k):\n",
    "            R[i, k] = np.dot(Q[:, i], A[:, k])\n",
    "            Q[:, k] -= R[i, k] * Q[:, i]\n",
    "        Q[:, k] /= np.linalg.norm(Q[:, k])\n",
    "        R[k, k] = np.dot(Q[:, k], A[:, k])\n",
    "\n",
    "    return Q, R"
   ]
  },
  {
   "cell_type": "code",
   "execution_count": 17,
   "id": "ccf3515c1b658863",
   "metadata": {
    "ExecuteTime": {
     "end_time": "2024-03-31T12:05:16.404224800Z",
     "start_time": "2024-03-31T12:05:16.340393900Z"
    },
    "collapsed": false
   },
   "outputs": [],
   "source": [
    "def permutation(v):\n",
    "    n = len(v)\n",
    "    P = np.zeros((n, n))\n",
    "    indices = np.argsort(-np.abs(v))\n",
    "\n",
    "    for i, idx in enumerate(indices):\n",
    "        P[i, idx] = 1\n",
    "\n",
    "    return P"
   ]
  },
  {
   "cell_type": "code",
   "execution_count": 18,
   "id": "a69af1da7b32b2c0",
   "metadata": {
    "ExecuteTime": {
     "end_time": "2024-03-31T12:05:16.484011500Z",
     "start_time": "2024-03-31T12:05:16.361337200Z"
    },
    "collapsed": false
   },
   "outputs": [],
   "source": [
    "def QR_method(A, tol=1e-8):\n",
    "    error = tol + 1\n",
    "    Ak = A\n",
    "    Identity_matrix = np.eye(A.shape[0])\n",
    "    V = np.eye(A.shape[0])\n",
    "    while error > tol:\n",
    "        Atmp = Ak\n",
    "        epsilon = np.random.normal(loc=0, scale=1)\n",
    "        Qk, Rk = gram_schmidt(Ak + epsilon * Identity_matrix)\n",
    "        Ak = Rk.dot(Qk) - epsilon * Identity_matrix\n",
    "        P = permutation(np.diag(Ak))\n",
    "        Ak = np.linalg.inv(P).dot(Ak).dot(P)\n",
    "        V = V.dot(Qk).dot(P)\n",
    "        error = np.linalg.norm(np.diag(Ak) - np.diag(Atmp))\n",
    "        \n",
    "    return Ak, V"
   ]
  },
  {
   "cell_type": "code",
   "execution_count": 19,
   "id": "180f37ae1991409e",
   "metadata": {
    "ExecuteTime": {
     "end_time": "2024-03-31T12:05:16.580750900Z",
     "start_time": "2024-03-31T12:05:16.418186500Z"
    },
    "collapsed": false
   },
   "outputs": [],
   "source": [
    "A = np.array([\n",
    "    [0, 0, 1, 0, 0],\n",
    "    [0, 0, 0, 0, 0.5],\n",
    "    [1, 0, 0, 0, 0],\n",
    "    [0, 0.5, 0, 0, 0.5],\n",
    "    [0, 0.5, 0, 1, 0]    \n",
    "])"
   ]
  },
  {
   "cell_type": "markdown",
   "id": "e033dbafd461f185",
   "metadata": {
    "collapsed": false
   },
   "source": [
    "# Problem 1"
   ]
  },
  {
   "cell_type": "code",
   "execution_count": 20,
   "id": "c54afba68b8c7a6c",
   "metadata": {
    "ExecuteTime": {
     "end_time": "2024-03-31T12:05:16.698435400Z",
     "start_time": "2024-03-31T12:05:16.540858300Z"
    },
    "collapsed": false
   },
   "outputs": [
    {
     "name": "stdout",
     "output_type": "stream",
     "text": [
      "trial 1\n",
      "Multiplying A by v:\n",
      " [0.56028376 0.30623813 0.07851195 0.45935719 0.61247625]\n",
      "Multiplying a by v:\n",
      " [0.07851195 0.30623813 0.56028376 0.45935719 0.61247625]\n",
      "\n",
      "\n",
      "trial 2\n",
      "Multiplying A by v:\n",
      " [0.87808793 0.16663653 0.16626945 0.24995479 0.33327306]\n",
      "Multiplying a by v:\n",
      " [0.16626945 0.16663653 0.87808793 0.24995479 0.33327306]\n",
      "\n",
      "\n",
      "trial 3\n",
      "Multiplying A by v:\n",
      " [0.10778541 0.322861   0.48233592 0.48429149 0.64572199]\n",
      "Multiplying a by v:\n",
      " [0.48233592 0.322861   0.10778541 0.48429149 0.64572199]\n",
      "\n",
      "\n",
      "trial 4\n",
      "Multiplying A by v:\n",
      " [0.50081711 0.31993018 0.08429786 0.47989528 0.63986037]\n",
      "Multiplying a by v:\n",
      " [0.08429786 0.31993018 0.50081711 0.47989528 0.63986037]\n",
      "\n",
      "\n",
      "trial 5\n",
      "Multiplying A by v:\n",
      " [0.6834713  0.20916299 0.46441963 0.31374449 0.41832598]\n",
      "Multiplying a by v:\n",
      " [0.46441963 0.20916299 0.6834713  0.31374449 0.41832598]\n",
      "\n",
      "\n",
      "trial 6\n",
      "Multiplying A by v:\n",
      " [0.44308104 0.299043   0.39412623 0.44856451 0.59808601]\n",
      "Multiplying a by v:\n",
      " [0.39412623 0.299043   0.44308104 0.44856451 0.59808601]\n",
      "\n",
      "\n",
      "trial 7\n",
      "Multiplying A by v:\n",
      " [0.12717648 0.30718169 0.54745944 0.46077254 0.61436339]\n",
      "Multiplying a by v:\n",
      " [0.54745944 0.30718169 0.12717648 0.46077254 0.61436339]\n",
      "\n",
      "\n",
      "trial 8\n",
      "Multiplying A by v:\n",
      " [0.62439986 0.16141676 0.64901724 0.24212514 0.32283352]\n",
      "Multiplying a by v:\n",
      " [0.64901724 0.16141676 0.62439986 0.24212514 0.32283352]\n",
      "\n",
      "\n",
      "trial 9\n",
      "Multiplying A by v:\n",
      " [0.18200565 0.28276401 0.62225128 0.42414602 0.56552803]\n",
      "Multiplying a by v:\n",
      " [0.62225128 0.28276401 0.18200565 0.42414602 0.56552803]\n",
      "\n",
      "\n",
      "trial 10\n",
      "Multiplying A by v:\n",
      " [0.53888375 0.29034337 0.31374284 0.43551506 0.58068675]\n",
      "Multiplying a by v:\n",
      " [0.31374284 0.29034337 0.53888375 0.43551506 0.58068675]\n",
      "\n",
      "\n"
     ]
    }
   ],
   "source": [
    "for i in range(10):\n",
    "    x = np.random.rand(5)\n",
    "    a, v = power_method(A, x)\n",
    "    print(\"trial\", i+1)\n",
    "    print(\"Multiplying A by v:\\n\", A.dot(v))\n",
    "    print(\"Multiplying a by v:\\n\", v * a)\n",
    "    print(\"\\n\")"
   ]
  },
  {
   "cell_type": "markdown",
   "id": "620d5274d806bcfc",
   "metadata": {
    "collapsed": false
   },
   "source": [
    "Observation: only the second, fourth, and fifth entries are correspondent"
   ]
  },
  {
   "cell_type": "markdown",
   "id": "7c15bbc6b1ddfc7a",
   "metadata": {
    "collapsed": false
   },
   "source": [
    "# Problem 2"
   ]
  },
  {
   "cell_type": "code",
   "execution_count": 21,
   "id": "ba708b91c8361d5f",
   "metadata": {
    "ExecuteTime": {
     "end_time": "2024-03-31T12:05:16.756280500Z",
     "start_time": "2024-03-31T12:05:16.660537400Z"
    },
    "collapsed": false
   },
   "outputs": [],
   "source": [
    "x1 = np.array([0, 0.57, 0, 0.57, 0.57])\n",
    "x2 = np.array([0.7, 0, 0.7, 0, 0])\n",
    "a1, v1 = power_method(A, x1)\n",
    "a2, v2 = power_method(A, x2)"
   ]
  },
  {
   "cell_type": "code",
   "execution_count": 22,
   "id": "28bc5fdecf90951c",
   "metadata": {
    "ExecuteTime": {
     "end_time": "2024-03-31T12:05:16.791191100Z",
     "start_time": "2024-03-31T12:05:16.705417600Z"
    },
    "collapsed": false
   },
   "outputs": [
    {
     "name": "stdout",
     "output_type": "stream",
     "text": [
      "Multiplying A by v1:\n",
      " [0.         0.37139068 0.         0.55708601 0.74278135]\n",
      "Multiplying a1 by v1:\n",
      " [0.         0.37139068 0.         0.55708602 0.74278136]\n",
      "\n",
      "\n",
      "Multiplying A by v2:\n",
      " [0.70710678 0.         0.70710678 0.         0.        ]\n",
      "Multiplying a1 by v2:\n",
      " [0.70710678 0.         0.70710678 0.         0.        ]\n"
     ]
    }
   ],
   "source": [
    "print(\"Multiplying A by v1:\\n\", A.dot(v1))\n",
    "print(\"Multiplying a1 by v1:\\n\", v1 * a1)\n",
    "print(\"\\n\")\n",
    "print(\"Multiplying A by v2:\\n\", A.dot(v2))\n",
    "print(\"Multiplying a1 by v2:\\n\", v2 * a2)"
   ]
  },
  {
   "cell_type": "markdown",
   "id": "c6f1df64c4128f21",
   "metadata": {
    "collapsed": false
   },
   "source": [
    "# Problem 3"
   ]
  },
  {
   "cell_type": "markdown",
   "id": "4631dfbb1c4e90ba",
   "metadata": {
    "collapsed": false
   },
   "source": [
    "leave it blank..."
   ]
  },
  {
   "cell_type": "markdown",
   "id": "99152ffb9532cf3d",
   "metadata": {
    "collapsed": false
   },
   "source": [
    "# Problem 4"
   ]
  },
  {
   "cell_type": "code",
   "execution_count": 23,
   "id": "f0790528547ee138",
   "metadata": {
    "ExecuteTime": {
     "end_time": "2024-03-31T12:05:16.895913400Z",
     "start_time": "2024-03-31T12:05:16.794179800Z"
    },
    "collapsed": false
   },
   "outputs": [],
   "source": [
    "alpha = np.random.rand()\n",
    "A_prime = (1 - alpha) * A + 0.2 * alpha * np.ones(A.shape)\n",
    "x = np.random.rand(5)"
   ]
  },
  {
   "cell_type": "code",
   "execution_count": 24,
   "id": "a34ba74cdaaaeaf7",
   "metadata": {
    "ExecuteTime": {
     "end_time": "2024-03-31T12:05:16.968715500Z",
     "start_time": "2024-03-31T12:05:16.868979200Z"
    },
    "collapsed": false
   },
   "outputs": [
    {
     "name": "stdout",
     "output_type": "stream",
     "text": [
      "Multiplying A' by v':\n",
      " [0.44326585 0.34951905 0.44326585 0.44326585 0.53701265]\n",
      "Multiplying a' by v':\n",
      " [0.44326585 0.34951905 0.44326585 0.44326585 0.53701265]\n"
     ]
    }
   ],
   "source": [
    "a_prime, v_prime = power_method(A_prime, x)\n",
    "print(\"Multiplying A' by v':\\n\", A_prime.dot(v_prime))\n",
    "print(\"Multiplying a' by v':\\n\", v_prime * a_prime)"
   ]
  },
  {
   "cell_type": "markdown",
   "id": "f12046275a4bf15f",
   "metadata": {
    "collapsed": false
   },
   "source": [
    "what difference?"
   ]
  },
  {
   "cell_type": "markdown",
   "id": "b47f9540f85f1f5a",
   "metadata": {
    "collapsed": false
   },
   "source": [
    "# Problem 5"
   ]
  },
  {
   "cell_type": "code",
   "execution_count": 25,
   "id": "ac1082bc42379bdb",
   "metadata": {
    "ExecuteTime": {
     "end_time": "2024-03-31T12:25:22.827041100Z",
     "start_time": "2024-03-31T12:25:20.152860400Z"
    },
    "collapsed": false
   },
   "outputs": [
    {
     "name": "stdout",
     "output_type": "stream",
     "text": [
      "Ak:\n",
      " [[ 1.00000000e+000  0.00000000e+000  1.76620237e-015  0.00000000e+000\n",
      "   0.00000000e+000]\n",
      " [ 0.00000000e+000  1.00000000e+000  0.00000000e+000 -4.08295477e-001\n",
      "   1.51492496e-001]\n",
      " [ 7.65440156e-163  0.00000000e+000 -1.00000000e+000  0.00000000e+000\n",
      "   0.00000000e+000]\n",
      " [ 0.00000000e+000  0.00000000e+000  0.00000000e+000 -5.00173445e-001\n",
      "   5.57085961e-001]\n",
      " [ 0.00000000e+000  0.00000000e+000  0.00000000e+000 -5.40016980e-008\n",
      "  -4.99826555e-001]]\n"
     ]
    }
   ],
   "source": [
    "Ak, V = QR_method(A)\n",
    "print(\"Ak:\\n\", Ak)"
   ]
  },
  {
   "cell_type": "code",
   "execution_count": 26,
   "id": "a7f98e2834fcc662",
   "metadata": {
    "ExecuteTime": {
     "end_time": "2024-03-31T12:25:22.935374100Z",
     "start_time": "2024-03-31T12:25:22.830323Z"
    },
    "collapsed": false
   },
   "outputs": [
    {
     "name": "stdout",
     "output_type": "stream",
     "text": [
      "diagonalization of A using numpy.linaly.eig:\n",
      " [[ 0.00000000e+00+0.00000000e+00j  0.00000000e+00+0.00000000e+00j\n",
      "   1.00000000e+00+0.00000000e+00j  0.00000000e+00+0.00000000e+00j\n",
      "   0.00000000e+00+0.00000000e+00j]\n",
      " [ 0.00000000e+00+0.00000000e+00j  5.36098377e-16-1.12046577e-25j\n",
      "   0.00000000e+00+0.00000000e+00j  3.84970966e-16+2.24093155e-25j\n",
      "   5.00000000e-01-1.12046577e-25j]\n",
      " [ 1.00000000e+00+0.00000000e+00j  0.00000000e+00+0.00000000e+00j\n",
      "   0.00000000e+00+0.00000000e+00j  0.00000000e+00+0.00000000e+00j\n",
      "   0.00000000e+00+0.00000000e+00j]\n",
      " [ 0.00000000e+00+0.00000000e+00j  5.00000000e-01-1.76768623e-09j\n",
      "   0.00000000e+00+0.00000000e+00j  2.22044605e-16+3.53537245e-09j\n",
      "   5.00000000e-01-1.76768623e-09j]\n",
      " [ 0.00000000e+00+0.00000000e+00j  5.00000000e-01-2.42326536e-09j\n",
      "   0.00000000e+00+0.00000000e+00j  1.00000000e+00+4.84653072e-09j\n",
      "  -4.44089210e-16-2.42326536e-09j]]\n"
     ]
    }
   ],
   "source": [
    "eig_val, eig_vec = np.linalg.eig(A)\n",
    "print(\"diagonalization of A using numpy.linaly.eig:\\n\", eig_vec @ np.diag(eig_val) @ np.linalg.inv(eig_vec))"
   ]
  }
 ],
 "metadata": {
  "kernelspec": {
   "display_name": "Python 3",
   "language": "python",
   "name": "python3"
  },
  "language_info": {
   "codemirror_mode": {
    "name": "ipython",
    "version": 3
   },
   "file_extension": ".py",
   "mimetype": "text/x-python",
   "name": "python",
   "nbconvert_exporter": "python",
   "pygments_lexer": "ipython3",
   "version": "3.10.12"
  }
 },
 "nbformat": 4,
 "nbformat_minor": 5
}
