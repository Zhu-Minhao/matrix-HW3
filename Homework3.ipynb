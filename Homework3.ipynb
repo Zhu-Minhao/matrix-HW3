{
 "cells": [
  {
   "cell_type": "markdown",
   "id": "b911818c764b7dc2",
   "metadata": {
    "collapsed": false
   },
   "source": [
    "# Exercise 1"
   ]
  },
  {
   "cell_type": "code",
   "execution_count": 148,
   "id": "22054c870ae6dd17",
   "metadata": {
    "ExecuteTime": {
     "start_time": "2024-04-04T09:14:40.688950300Z"
    },
    "collapsed": false
   },
   "outputs": [],
   "source": [
    "import numpy as np"
   ]
  },
  {
   "cell_type": "code",
   "execution_count": 149,
   "id": "79e5a73f91b4517a",
   "metadata": {
    "ExecuteTime": {
     "end_time": "2024-04-04T09:14:40.745794Z",
     "start_time": "2024-04-04T09:14:40.692963900Z"
    },
    "collapsed": false
   },
   "outputs": [],
   "source": [
    "def power_method(A, x, max_iter=100, tol=1e-10):\n",
    "\n",
    "    error = 1\n",
    "    iterations = 0\n",
    "    eigenvalue_estimate = []\n",
    "    while error > tol and iterations < max_iter:\n",
    "        y = A.dot(x)\n",
    "        j = np.argmax(np.abs(y))\n",
    "        if y[j] == 0:\n",
    "            return 0, x\n",
    "        eigenvalue_estimate = y[j]\n",
    "        x_update = y / eigenvalue_estimate\n",
    "        error = np.linalg.norm(x - x_update, np.inf)\n",
    "        x = x_update\n",
    "        iterations += 1\n",
    "    return eigenvalue_estimate, x/np.linalg.norm(x)"
   ]
  },
  {
   "cell_type": "code",
   "execution_count": 150,
   "id": "8b2c923eaf6754b1",
   "metadata": {
    "ExecuteTime": {
     "start_time": "2024-04-04T09:14:40.697929400Z"
    },
    "collapsed": false
   },
   "outputs": [],
   "source": [
    "A = np.random.rand(4, 4)\n",
    "A = (A + A.T) / 2\n",
    "x = np.random.rand(4)"
   ]
  },
  {
   "cell_type": "code",
   "execution_count": 151,
   "id": "cdcdeeeb73e46ba9",
   "metadata": {
    "ExecuteTime": {
     "start_time": "2024-04-04T09:14:40.702911400Z"
    },
    "collapsed": false
   },
   "outputs": [],
   "source": [
    "a, v = power_method(A, x)"
   ]
  },
  {
   "cell_type": "markdown",
   "id": "cc54c93d2375518d",
   "metadata": {
    "collapsed": false
   },
   "source": [
    "(i) (ii) v is an eigenvector and is associated to a"
   ]
  },
  {
   "cell_type": "code",
   "execution_count": 152,
   "id": "81c012edb02988fc",
   "metadata": {
    "ExecuteTime": {
     "start_time": "2024-04-04T09:14:40.707898600Z"
    },
    "collapsed": false
   },
   "outputs": [
    {
     "name": "stdout",
     "output_type": "stream",
     "text": [
      "Eigenvalue a found by Power Method:\n",
      " 2.0125001379775544\n",
      "Eigenvector v found by Power Method:\n",
      " [0.501005   0.38716214 0.55186776 0.54271672]\n",
      "Multiplying A by v:\n",
      " [1.00827263 0.77916387 1.11063394 1.09221748]\n",
      "Multiplying a by v:\n",
      " [1.00827263 0.77916387 1.11063394 1.09221748]\n"
     ]
    }
   ],
   "source": [
    "print(\"Eigenvalue a found by Power Method:\\n\", a)\n",
    "print(\"Eigenvector v found by Power Method:\\n\", v)\n",
    "print(\"Multiplying A by v:\\n\", A @ v)\n",
    "print(\"Multiplying a by v:\\n\", v * a)"
   ]
  },
  {
   "cell_type": "markdown",
   "id": "54426332d9d413b9",
   "metadata": {
    "collapsed": false
   },
   "source": [
    "(iii) divide v by that of numpy.linalg.eig"
   ]
  },
  {
   "cell_type": "code",
   "execution_count": 153,
   "id": "2ca06c0c25811674",
   "metadata": {
    "ExecuteTime": {
     "start_time": "2024-04-04T09:14:40.713881Z"
    },
    "collapsed": false
   },
   "outputs": [
    {
     "name": "stdout",
     "output_type": "stream",
     "text": [
      "Eigenvalue found by numpy.linalg.eig:\n",
      " 2.0125001379913696\n",
      "Eigenvector found by numpy.linalg.eig:\n",
      " [0.501005   0.38716214 0.55186776 0.54271672]\n",
      "Divide v by numpy.linalg.eig:\n",
      " [1. 1. 1. 1.]\n"
     ]
    }
   ],
   "source": [
    "eig_val, eig_vec = np.linalg.eig(A)\n",
    "principal_index = np.argmax(np.abs(eig_val))\n",
    "print(\"Eigenvalue found by numpy.linalg.eig:\\n\", eig_val[principal_index])\n",
    "print(\"Eigenvector found by numpy.linalg.eig:\\n\", eig_vec[:, principal_index])\n",
    "print(\"Divide v by numpy.linalg.eig:\\n\", v/eig_vec[:, principal_index])"
   ]
  },
  {
   "cell_type": "markdown",
   "id": "af89130e9fd8a685",
   "metadata": {
    "collapsed": false
   },
   "source": [
    "# Exercise 2"
   ]
  },
  {
   "cell_type": "code",
   "execution_count": 154,
   "id": "f518e47972f2ec5d",
   "metadata": {
    "ExecuteTime": {
     "start_time": "2024-04-04T09:14:40.717868700Z"
    },
    "collapsed": false
   },
   "outputs": [],
   "source": [
    "def generate_non_singular_matrix(n):\n",
    "    while True:\n",
    "        A = np.random.rand(n, n)\n",
    "        if np.linalg.det(A) != 0:\n",
    "            return A"
   ]
  },
  {
   "cell_type": "code",
   "execution_count": 155,
   "id": "69423b86b8d6b71c",
   "metadata": {
    "ExecuteTime": {
     "start_time": "2024-04-04T09:14:40.721858400Z"
    },
    "collapsed": false
   },
   "outputs": [],
   "source": [
    "def gram_schmidt(A):\n",
    "\n",
    "    n = A.shape[0]\n",
    "    Q = np.zeros((n, n))\n",
    "    R = np.zeros((n, n))\n",
    "\n",
    "    for k in range(n):\n",
    "        Q[:, k] = A[:, k]\n",
    "        for i in range(k):\n",
    "            R[i, k] = np.dot(Q[:, i], A[:, k])\n",
    "            Q[:, k] -= R[i, k] * Q[:, i]\n",
    "        Q[:, k] /= np.linalg.norm(Q[:, k])\n",
    "        R[k, k] = np.dot(Q[:, k], A[:, k])\n",
    "\n",
    "    return Q, R"
   ]
  },
  {
   "cell_type": "code",
   "execution_count": 156,
   "id": "ca69812f6bfb17a9",
   "metadata": {
    "ExecuteTime": {
     "start_time": "2024-04-04T09:14:40.729838200Z"
    },
    "collapsed": false
   },
   "outputs": [],
   "source": [
    "A = generate_non_singular_matrix(4)\n",
    "Q, R = gram_schmidt(A)"
   ]
  },
  {
   "cell_type": "markdown",
   "id": "b8d404d6f6b3ce72",
   "metadata": {
    "collapsed": false
   },
   "source": [
    "(i) $A = QR$"
   ]
  },
  {
   "cell_type": "code",
   "execution_count": 157,
   "id": "715b32a14b285f38",
   "metadata": {
    "ExecuteTime": {
     "start_time": "2024-04-04T09:14:40.733827300Z"
    },
    "collapsed": false
   },
   "outputs": [
    {
     "name": "stdout",
     "output_type": "stream",
     "text": [
      "Generated non-singular matrix A:\n",
      " [[0.23507465 0.25454678 0.64563936 0.78999647]\n",
      " [0.1419721  0.77449956 0.32533641 0.83876396]\n",
      " [0.98121582 0.64350578 0.29254402 0.02050557]\n",
      " [0.77048608 0.03702424 0.26180276 0.95551265]]\n",
      "Q times R:\n",
      " [[0.23507465 0.25454678 0.64563936 0.78999647]\n",
      " [0.1419721  0.77449956 0.32533641 0.83876396]\n",
      " [0.98121582 0.64350578 0.29254402 0.02050557]\n",
      " [0.77048608 0.03702424 0.26180276 0.95551265]]\n"
     ]
    }
   ],
   "source": [
    "print(\"Generated non-singular matrix A:\\n\", A)\n",
    "print(\"Q times R:\\n\", Q @ R)"
   ]
  },
  {
   "cell_type": "markdown",
   "id": "4f2c7e57e7030493",
   "metadata": {
    "collapsed": false
   },
   "source": [
    "(ii) $QQ^*=I$"
   ]
  },
  {
   "cell_type": "code",
   "execution_count": 158,
   "id": "94acd2efdcac1783",
   "metadata": {
    "ExecuteTime": {
     "start_time": "2024-04-04T09:14:40.737814900Z"
    },
    "collapsed": false
   },
   "outputs": [
    {
     "name": "stdout",
     "output_type": "stream",
     "text": [
      "Q times Q_transpose:\n",
      " [[1. 0. 0. 0.]\n",
      " [0. 1. 0. 0.]\n",
      " [0. 0. 1. 0.]\n",
      " [0. 0. 0. 1.]]\n"
     ]
    }
   ],
   "source": [
    "result = Q @ Q.T\n",
    "result[np.abs(result) < 1e-5] = 0\n",
    "print(\"Q times Q_transpose:\\n\", result)"
   ]
  },
  {
   "cell_type": "markdown",
   "id": "bb1a257dd144e5ef",
   "metadata": {
    "collapsed": false
   },
   "source": [
    "(iii) $R$ is upper triangular"
   ]
  },
  {
   "cell_type": "code",
   "execution_count": 159,
   "id": "4e47c990bf308c05",
   "metadata": {
    "ExecuteTime": {
     "start_time": "2024-04-04T09:14:40.740807400Z"
    },
    "collapsed": false
   },
   "outputs": [
    {
     "name": "stdout",
     "output_type": "stream",
     "text": [
      "R:\n",
      " [[1.27743863 0.64953378 0.53758069 0.83066129]\n",
      " [0.         0.81130758 0.32674207 0.44341186]\n",
      " [0.         0.         0.530154   0.84439451]\n",
      " [0.         0.         0.         0.80089325]]\n"
     ]
    }
   ],
   "source": [
    "print(\"R:\\n\", R)"
   ]
  },
  {
   "cell_type": "markdown",
   "id": "858cf9000695210f",
   "metadata": {
    "collapsed": false
   },
   "source": [
    "# Exercise 3"
   ]
  },
  {
   "cell_type": "code",
   "execution_count": 160,
   "id": "9b2f76fec8390cf6",
   "metadata": {
    "ExecuteTime": {
     "start_time": "2024-04-04T09:14:40.744796300Z"
    },
    "collapsed": false
   },
   "outputs": [],
   "source": [
    "def permutation(v):\n",
    "    \n",
    "    n = len(v)\n",
    "    P = np.zeros((n, n))\n",
    "    indices = np.argsort(-np.abs(v))\n",
    "    \n",
    "    for i, idx in enumerate(indices):\n",
    "          P[i, idx] = 1\n",
    "        \n",
    "    return P"
   ]
  },
  {
   "cell_type": "code",
   "execution_count": 161,
   "id": "a0652e16b1d2912d",
   "metadata": {
    "ExecuteTime": {
     "end_time": "2024-04-04T09:14:40.882430200Z",
     "start_time": "2024-04-04T09:14:40.747788700Z"
    },
    "collapsed": false
   },
   "outputs": [
    {
     "name": "stdout",
     "output_type": "stream",
     "text": [
      "Permuation matrix P:\n",
      " [[0. 0. 1. 0.]\n",
      " [0. 1. 0. 0.]\n",
      " [0. 0. 0. 1.]\n",
      " [1. 0. 0. 0.]]\n"
     ]
    }
   ],
   "source": [
    "v = np.random.rand(4) + 1j * np.random.rand(4)\n",
    "P = permutation(v)\n",
    "print(\"Permuation matrix P:\\n\", P)"
   ]
  },
  {
   "cell_type": "markdown",
   "id": "46ca6b8cd362df81",
   "metadata": {
    "collapsed": false
   },
   "source": [
    "$Pv\\ $  is a vector with entries having a decreasing module"
   ]
  },
  {
   "cell_type": "code",
   "execution_count": 162,
   "id": "a56f3e0bdbd25ed7",
   "metadata": {
    "ExecuteTime": {
     "start_time": "2024-04-04T09:14:40.750781400Z"
    },
    "collapsed": false
   },
   "outputs": [
    {
     "name": "stdout",
     "output_type": "stream",
     "text": [
      "Modules of Pv: [1.06578827 1.02083983 0.82575243 0.25061668]\n"
     ]
    }
   ],
   "source": [
    "print(\"Modules of Pv:\", np.abs(P @ v))"
   ]
  },
  {
   "cell_type": "markdown",
   "id": "1542be109652e49b",
   "metadata": {
    "collapsed": false
   },
   "source": [
    "# Exercise 4"
   ]
  },
  {
   "cell_type": "code",
   "execution_count": 163,
   "id": "46cb53f4f59dbec0",
   "metadata": {
    "ExecuteTime": {
     "start_time": "2024-04-04T09:14:40.753772900Z"
    },
    "collapsed": false
   },
   "outputs": [],
   "source": [
    "def QR_method(A, tol=1e-10):\n",
    "    error = tol + 1\n",
    "    Ak = A\n",
    "    Identity_matrix = np.eye(A.shape[0])\n",
    "    V = np.eye(A.shape[0])\n",
    "    while error > tol:\n",
    "        Atmp = Ak\n",
    "        epsilon = np.random.normal(loc=0, scale=1)\n",
    "        Qk, Rk = gram_schmidt(Ak + epsilon * Identity_matrix)\n",
    "        Ak = Rk.dot(Qk) - epsilon * Identity_matrix\n",
    "        P = permutation(np.diag(Ak))\n",
    "        Ak = np.linalg.inv(P).dot(Ak).dot(P)\n",
    "        V = V.dot(Qk).dot(P)\n",
    "        error = np.linalg.norm(np.diag(Ak) - np.diag(Atmp))\n",
    "        \n",
    "    return Ak, V"
   ]
  },
  {
   "cell_type": "code",
   "execution_count": 164,
   "id": "6b6965d44aec085c",
   "metadata": {
    "ExecuteTime": {
     "start_time": "2024-04-04T09:14:40.756767400Z"
    },
    "collapsed": false
   },
   "outputs": [],
   "source": [
    "A = generate_non_singular_matrix(4)\n",
    "A = (A + A.conj().T) / 2\n",
    "Ak, V = QR_method(A)"
   ]
  },
  {
   "cell_type": "markdown",
   "id": "5e12bed0b2dfd616",
   "metadata": {
    "collapsed": false
   },
   "source": [
    "(i) $A_k$ is diagonal when $A$ is Hermitian"
   ]
  },
  {
   "cell_type": "code",
   "execution_count": 165,
   "id": "720e3e44cda6eb8",
   "metadata": {
    "ExecuteTime": {
     "start_time": "2024-04-04T09:14:40.761752100Z"
    },
    "collapsed": false
   },
   "outputs": [
    {
     "name": "stdout",
     "output_type": "stream",
     "text": [
      "Ak:\n",
      " [[ 1.63901282  0.          0.          0.        ]\n",
      " [ 0.         -0.53387141  0.          0.        ]\n",
      " [ 0.          0.          0.48605248  0.        ]\n",
      " [ 0.          0.          0.         -0.13841269]]\n"
     ]
    }
   ],
   "source": [
    "Ak[np.abs(Ak) < 1e-5] = 0\n",
    "print(\"Ak:\\n\", Ak)"
   ]
  },
  {
   "cell_type": "markdown",
   "id": "4a42c8d954385e06",
   "metadata": {
    "collapsed": false
   },
   "source": [
    "(ii) $VA_{k}V^*=A$"
   ]
  },
  {
   "cell_type": "code",
   "execution_count": 166,
   "id": "2acc9b9c6836b99a",
   "metadata": {
    "ExecuteTime": {
     "start_time": "2024-04-04T09:14:40.764743600Z"
    },
    "collapsed": false
   },
   "outputs": [
    {
     "name": "stdout",
     "output_type": "stream",
     "text": [
      "VAkV*:\n",
      " [[0.67673652 0.34284658 0.51707867 0.11210056]\n",
      " [0.34284658 0.02800676 0.62935936 0.32636545]\n",
      " [0.51707867 0.62935936 0.24553904 0.57230193]\n",
      " [0.11210056 0.32636545 0.57230193 0.50249886]]\n",
      "A:\n",
      " [[0.6767373  0.34284873 0.51707613 0.11210087]\n",
      " [0.34284873 0.02800646 0.62935924 0.32636348]\n",
      " [0.51707613 0.62935924 0.24553971 0.57230404]\n",
      " [0.11210087 0.32636348 0.57230404 0.50249772]]\n"
     ]
    }
   ],
   "source": [
    "print(\"VAkV*:\\n\", V @ Ak @ V.conj().T)\n",
    "print(\"A:\\n\", A)"
   ]
  },
  {
   "cell_type": "markdown",
   "id": "f8b962fa68348bba",
   "metadata": {
    "collapsed": false
   },
   "source": [
    "(iii) principal eigenvector of $A$ is the first column of $V$"
   ]
  },
  {
   "cell_type": "code",
   "execution_count": 167,
   "id": "393bf14a628fc22f",
   "metadata": {
    "ExecuteTime": {
     "start_time": "2024-04-04T09:14:40.768732600Z"
    },
    "collapsed": false
   },
   "outputs": [
    {
     "name": "stdout",
     "output_type": "stream",
     "text": [
      "the principal eigenvector of A:\n",
      " [0.51695636 0.42940349 0.57660014 0.46465152]\n",
      "the first column of V:\n",
      " [0.51695636 0.42940349 0.57660014 0.46465152]\n"
     ]
    }
   ],
   "source": [
    "x = np.random.rand(4)\n",
    "a, v = power_method(A, x)\n",
    "print(\"the principal eigenvector of A:\\n\", v)\n",
    "print(\"the first column of V:\\n\", V[:,0])"
   ]
  },
  {
   "cell_type": "markdown",
   "id": "4b46dfa4e06e6e96",
   "metadata": {
    "collapsed": false
   },
   "source": [
    "# Problem 1"
   ]
  },
  {
   "cell_type": "code",
   "execution_count": 175,
   "id": "62aa94932603e91a",
   "metadata": {
    "ExecuteTime": {
     "start_time": "2024-04-04T09:14:40.770763700Z"
    },
    "collapsed": false
   },
   "outputs": [
    {
     "name": "stdout",
     "output_type": "stream",
     "text": [
      "trial 1\n",
      "Multiplying A by v:\n",
      " [0.42581806 0.21261641 0.70066925 0.31892461 0.42523281]\n",
      "Multiplying a by v:\n",
      " [0.70066925 0.21261641 0.42581806 0.31892461 0.42523281]\n",
      "\n",
      "\n",
      "trial 2\n",
      "Multiplying A by v:\n",
      " [0.26864036 0.15989962 0.86166419 0.23984942 0.31979923]\n",
      "Multiplying a by v:\n",
      " [0.86166419 0.15989962 0.26864036 0.23984942 0.31979923]\n",
      "\n",
      "\n",
      "trial 3\n",
      "Multiplying A by v:\n",
      " [0.35496405 0.27938811 0.55505143 0.41908216 0.55877621]\n",
      "Multiplying a by v:\n",
      " [0.55505143 0.27938811 0.35496405 0.41908216 0.55877621]\n",
      "\n",
      "\n",
      "trial 4\n",
      "Multiplying A by v:\n",
      " [0.03999917 0.30809354 0.5569724  0.46214031 0.61618708]\n",
      "Multiplying a by v:\n",
      " [0.5569724  0.30809354 0.03999917 0.46214031 0.61618708]\n",
      "\n",
      "\n",
      "trial 5\n",
      "Multiplying A by v:\n",
      " [0.6913413  0.1354854  0.62366984 0.2032281  0.2709708 ]\n",
      "Multiplying a by v:\n",
      " [0.62366984 0.1354854  0.6913413  0.2032281  0.2709708 ]\n",
      "\n",
      "\n",
      "trial 6\n",
      "Multiplying A by v:\n",
      " [0.45968694 0.22766873 0.64257162 0.3415031  0.45533746]\n",
      "Multiplying a by v:\n",
      " [0.64257162 0.22766873 0.45968694 0.3415031  0.45533746]\n",
      "\n",
      "\n",
      "trial 7\n",
      "Multiplying A by v:\n",
      " [0.06158281 0.25727443 0.71856043 0.38591165 0.51454886]\n",
      "Multiplying a by v:\n",
      " [0.71856043 0.25727443 0.06158281 0.38591165 0.51454886]\n",
      "\n",
      "\n",
      "trial 8\n",
      "Multiplying A by v:\n",
      " [0.01077863 0.30519415 0.56973123 0.45779122 0.6103883 ]\n",
      "Multiplying a by v:\n",
      " [0.56973123 0.30519415 0.01077863 0.45779122 0.6103883 ]\n",
      "\n",
      "\n",
      "trial 9\n",
      "Multiplying A by v:\n",
      " [0.64293306 0.28412263 0.03709402 0.42618395 0.56824527]\n",
      "Multiplying a by v:\n",
      " [0.03709402 0.28412263 0.64293306 0.42618395 0.56824527]\n",
      "\n",
      "\n",
      "trial 10\n",
      "Multiplying A by v:\n",
      " [0.56457669 0.30653793 0.00180124 0.4598069  0.61307587]\n",
      "Multiplying a by v:\n",
      " [0.00180124 0.30653793 0.56457669 0.4598069  0.61307587]\n",
      "\n",
      "\n"
     ]
    }
   ],
   "source": [
    "A = np.array([\n",
    "    [0, 0, 1, 0, 0],\n",
    "    [0, 0, 0, 0, 0.5],\n",
    "    [1, 0, 0, 0, 0],\n",
    "    [0, 0.5, 0, 0, 0.5],\n",
    "    [0, 0.5, 0, 1, 0]    \n",
    "])\n",
    "for i in range(10):\n",
    "    x = np.random.rand(5)\n",
    "    a, v = power_method(A, x)\n",
    "    print(\"trial\", i+1)\n",
    "    print(\"Multiplying A by v:\\n\", A @ v)\n",
    "    print(\"Multiplying a by v:\\n\", v * a)\n",
    "    print(\"\\n\")"
   ]
  },
  {
   "cell_type": "markdown",
   "id": "f7fe2aacff5b4e44",
   "metadata": {
    "collapsed": false
   },
   "source": [
    "Observation: only the second, fourth, and fifth entries are correspondent.\n",
    "v is not the real eigenvector."
   ]
  },
  {
   "cell_type": "markdown",
   "id": "d6464f1a7fb92fa7",
   "metadata": {
    "collapsed": false
   },
   "source": [
    "# Problem 2"
   ]
  },
  {
   "cell_type": "code",
   "execution_count": 176,
   "id": "e7beae5b6c98e62b",
   "metadata": {
    "ExecuteTime": {
     "start_time": "2024-04-04T09:14:40.773725700Z"
    },
    "collapsed": false
   },
   "outputs": [
    {
     "name": "stdout",
     "output_type": "stream",
     "text": [
      "Multiplying A by v1:\n",
      " [0.         0.37139068 0.         0.55708601 0.74278135]\n",
      "Multiplying a1 by v1:\n",
      " [0.         0.37139068 0.         0.55708601 0.74278135]\n",
      "\n",
      "\n",
      "Multiplying A by v2:\n",
      " [0.70710678 0.         0.70710678 0.         0.        ]\n",
      "Multiplying a1 by v2:\n",
      " [0.70710678 0.         0.70710678 0.         0.        ]\n"
     ]
    }
   ],
   "source": [
    "x1 = np.array([0, 0.57, 0, 0.57, 0.57])\n",
    "x2 = np.array([0.7, 0, 0.7, 0, 0])\n",
    "a1, v1 = power_method(A, x1)\n",
    "a2, v2 = power_method(A, x2)\n",
    "print(\"Multiplying A by v1:\\n\", A @ v1)\n",
    "print(\"Multiplying a1 by v1:\\n\", v1 * a1)\n",
    "print(\"\\n\")\n",
    "print(\"Multiplying A by v2:\\n\", A @ v2)\n",
    "print(\"Multiplying a1 by v2:\\n\", v2 * a2)"
   ]
  },
  {
   "cell_type": "markdown",
   "id": "b18512b0ab71dc19",
   "metadata": {
    "collapsed": false
   },
   "source": [
    "# Problem 3"
   ]
  },
  {
   "cell_type": "markdown",
   "id": "73d02c793b6d1c85",
   "metadata": {
    "collapsed": false
   },
   "source": [
    "# Problem 4"
   ]
  },
  {
   "cell_type": "code",
   "execution_count": 177,
   "id": "364c4504005eba26",
   "metadata": {
    "ExecuteTime": {
     "start_time": "2024-04-04T09:14:40.777711100Z"
    },
    "collapsed": false
   },
   "outputs": [
    {
     "name": "stdout",
     "output_type": "stream",
     "text": [
      "Multiplying A' by v':\n",
      " [0.43884212 0.30264747 0.43884286 0.43883878 0.57503009]\n",
      "Multiplying a' by v':\n",
      " [0.43884333 0.30264749 0.43884252 0.4388388  0.57503011]\n"
     ]
    }
   ],
   "source": [
    "alpha = 0.1\n",
    "A_prime = (1 - alpha) * A + 0.2 * alpha * np.ones(A.shape)\n",
    "x = np.random.rand(5)\n",
    "a_prime, v_prime = power_method(A_prime, x)\n",
    "print(\"Multiplying A' by v':\\n\", A_prime @ v_prime)\n",
    "print(\"Multiplying a' by v':\\n\", v_prime * a_prime)"
   ]
  },
  {
   "cell_type": "markdown",
   "id": "870df7a28558eacd",
   "metadata": {
    "collapsed": false
   },
   "source": [
    "# Problem 5"
   ]
  },
  {
   "cell_type": "code",
   "execution_count": 215,
   "id": "9f92bcf2f54ff028",
   "metadata": {
    "ExecuteTime": {
     "start_time": "2024-04-04T09:14:40.780704300Z"
    },
    "collapsed": false
   },
   "outputs": [
    {
     "name": "stdout",
     "output_type": "stream",
     "text": [
      "Ak:\n",
      " [[ 1.          0.          0.          0.40825195  0.15160975]\n",
      " [ 0.          1.          0.          0.          0.        ]\n",
      " [ 0.          0.         -1.          0.          0.        ]\n",
      " [ 0.          0.          0.         -0.50001346 -0.55708601]\n",
      " [ 0.          0.          0.          0.         -0.49998654]]\n",
      "V:\n",
      " [[ 0.         -0.70710678 -0.70710678  0.          0.        ]\n",
      " [-0.37139068  0.          0.         -0.83389799  0.40826843]\n",
      " [ 0.         -0.70710678  0.70710678  0.          0.        ]\n",
      " [-0.55708601  0.          0.         -0.15163933 -0.81649292]\n",
      " [-0.74278135  0.          0.          0.53067849  0.40823547]]\n",
      "VAkV*:\n",
      " [[0.  0.  1.  0.  0. ]\n",
      " [0.  0.  0.  0.  0.5]\n",
      " [1.  0.  0.  0.  0. ]\n",
      " [0.  0.5 0.  0.  0.5]\n",
      " [0.  0.5 0.  1.  0. ]]\n"
     ]
    }
   ],
   "source": [
    "Ak, V = QR_method(A)\n",
    "product = V @ Ak @ V.conj().T\n",
    "product[np.abs(product) < 1e-5] = 0\n",
    "Ak[np.abs(Ak) < 1e-5] = 0\n",
    "print(\"Ak:\\n\", Ak)\n",
    "print(\"V:\\n\", V)\n",
    "print(\"VAkV*:\\n\", product)"
   ]
  },
  {
   "cell_type": "code",
   "execution_count": 214,
   "id": "2a0de5d6cb058c89",
   "metadata": {
    "ExecuteTime": {
     "start_time": "2024-04-04T09:14:40.782697500Z"
    },
    "collapsed": false
   },
   "outputs": [
    {
     "name": "stdout",
     "output_type": "stream",
     "text": [
      "eigenvalue using numpy.linaly.eig:\n",
      " [ 1.  -1.   1.  -0.5 -0.5]\n",
      "eigenvector using numpy.linaly.eig:\n",
      " [[ 0.70710678  0.70710678  0.          0.          0.        ]\n",
      " [ 0.          0.         -0.37139068  0.70710678  0.70710678]\n",
      " [ 0.70710678 -0.70710678  0.          0.          0.        ]\n",
      " [ 0.          0.         -0.55708601  0.          0.        ]\n",
      " [ 0.          0.         -0.74278135 -0.70710678 -0.70710678]]\n",
      "reconstruction using numpy.linaly.eig:\n",
      " [[0.  0.  1.  0.  0. ]\n",
      " [0.  0.  0.  0.  0.5]\n",
      " [1.  0.  0.  0.  0. ]\n",
      " [0.  0.5 0.  0.  0.5]\n",
      " [0.  0.5 0.  1.  0. ]]\n"
     ]
    }
   ],
   "source": [
    "eig_val, eig_vec = np.linalg.eig(A)\n",
    "product = (eig_vec @ np.diag(eig_val) @ np.linalg.inv(eig_vec)).real\n",
    "# product = (eig_vec @ np.diag(eig_val) @ eig_vec.conj().T).real\n",
    "product[np.abs(product) < 1e-5] = 0\n",
    "print(\"eigenvalue using numpy.linaly.eig:\\n\", (eig_val).real)\n",
    "eig_vec = (eig_vec).real\n",
    "eig_vec[np.abs(eig_vec) < 1e-5] = 0\n",
    "print(\"eigenvector using numpy.linaly.eig:\\n\", eig_vec)\n",
    "print(\"reconstruction using numpy.linaly.eig:\\n\", product)"
   ]
  },
  {
   "cell_type": "code",
   "execution_count": null,
   "id": "2f3510e4",
   "metadata": {},
   "outputs": [],
   "source": []
  }
 ],
 "metadata": {
  "kernelspec": {
   "display_name": "Python 3",
   "language": "python",
   "name": "python3"
  },
  "language_info": {
   "codemirror_mode": {
    "name": "ipython",
    "version": 3
   },
   "file_extension": ".py",
   "mimetype": "text/x-python",
   "name": "python",
   "nbconvert_exporter": "python",
   "pygments_lexer": "ipython3",
   "version": "3.10.12"
  }
 },
 "nbformat": 4,
 "nbformat_minor": 5
}
