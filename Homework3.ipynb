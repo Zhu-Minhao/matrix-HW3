{
 "cells": [
  {
   "cell_type": "markdown",
   "id": "b911818c764b7dc2",
   "metadata": {
    "collapsed": false
   },
   "source": [
    "# Exercise 1"
   ]
  },
  {
   "cell_type": "code",
   "execution_count": 73,
   "id": "22054c870ae6dd17",
   "metadata": {
    "ExecuteTime": {
     "start_time": "2024-04-04T09:14:40.688950300Z"
    },
    "collapsed": false
   },
   "outputs": [],
   "source": [
    "import numpy as np"
   ]
  },
  {
   "cell_type": "code",
   "execution_count": 74,
   "id": "79e5a73f91b4517a",
   "metadata": {
    "ExecuteTime": {
     "end_time": "2024-04-04T09:14:40.745794Z",
     "start_time": "2024-04-04T09:14:40.692963900Z"
    },
    "collapsed": false
   },
   "outputs": [],
   "source": [
    "def power_method(A, x, max_iter=100, tol=1e-10):\n",
    "\n",
    "    error = 1\n",
    "    iterations = 0\n",
    "    eigenvalue_estimate = []\n",
    "    while error > tol and iterations < max_iter:\n",
    "        y = A.dot(x)\n",
    "        j = np.argmax(np.abs(y))\n",
    "        if y[j] == 0:\n",
    "            return 0, x\n",
    "        eigenvalue_estimate = y[j]\n",
    "        x_update = y / eigenvalue_estimate\n",
    "        error = np.linalg.norm(x - x_update, np.inf)\n",
    "        x = x_update\n",
    "        iterations += 1\n",
    "    return eigenvalue_estimate, x/np.linalg.norm(x)"
   ]
  },
  {
   "cell_type": "code",
   "execution_count": 75,
   "id": "8b2c923eaf6754b1",
   "metadata": {
    "ExecuteTime": {
     "start_time": "2024-04-04T09:14:40.697929400Z"
    },
    "collapsed": false
   },
   "outputs": [],
   "source": [
    "A = np.random.rand(4, 4)\n",
    "A = (A + A.T) / 2\n",
    "x = np.random.rand(4)"
   ]
  },
  {
   "cell_type": "code",
   "execution_count": 76,
   "id": "cdcdeeeb73e46ba9",
   "metadata": {
    "ExecuteTime": {
     "start_time": "2024-04-04T09:14:40.702911400Z"
    },
    "collapsed": false
   },
   "outputs": [],
   "source": [
    "a, v = power_method(A, x)"
   ]
  },
  {
   "cell_type": "markdown",
   "id": "cc54c93d2375518d",
   "metadata": {
    "collapsed": false
   },
   "source": [
    "(i) (ii) v is an eigenvector and is associated to a"
   ]
  },
  {
   "cell_type": "code",
   "execution_count": 77,
   "id": "81c012edb02988fc",
   "metadata": {
    "ExecuteTime": {
     "start_time": "2024-04-04T09:14:40.707898600Z"
    },
    "collapsed": false
   },
   "outputs": [
    {
     "name": "stdout",
     "output_type": "stream",
     "text": [
      "Eigenvalue a found by Power Method:\n",
      " 1.909689269472612\n",
      "Eigenvector v found by Power Method:\n",
      " [0.28182492 0.5539178  0.55796024 0.5499365 ]\n",
      "Multiplying A by v:\n",
      " [0.53819803 1.05781088 1.06553069 1.05020783]\n",
      "Multiplying a by v:\n",
      " [0.53819803 1.05781088 1.06553069 1.05020783]\n"
     ]
    }
   ],
   "source": [
    "print(\"Eigenvalue a found by Power Method:\\n\", a)\n",
    "print(\"Eigenvector v found by Power Method:\\n\", v)\n",
    "print(\"Multiplying A by v:\\n\", A @ v)\n",
    "print(\"Multiplying a by v:\\n\", v * a)"
   ]
  },
  {
   "cell_type": "markdown",
   "id": "54426332d9d413b9",
   "metadata": {
    "collapsed": false
   },
   "source": [
    "(iii) divide v by that of numpy.linalg.eig"
   ]
  },
  {
   "cell_type": "code",
   "execution_count": 78,
   "id": "2ca06c0c25811674",
   "metadata": {
    "ExecuteTime": {
     "start_time": "2024-04-04T09:14:40.713881Z"
    },
    "collapsed": false
   },
   "outputs": [
    {
     "name": "stdout",
     "output_type": "stream",
     "text": [
      "Eigenvalue found by numpy.linalg.eig:\n",
      " 1.909689269418103\n",
      "Eigenvector found by numpy.linalg.eig:\n",
      " [0.28182492 0.5539178  0.55796024 0.5499365 ]\n",
      "Divide v by numpy.linalg.eig:\n",
      " [1. 1. 1. 1.]\n"
     ]
    }
   ],
   "source": [
    "eig_val, eig_vec = np.linalg.eig(A)\n",
    "principal_index = np.argmax(np.abs(eig_val))\n",
    "print(\"Eigenvalue found by numpy.linalg.eig:\\n\", eig_val[principal_index])\n",
    "print(\"Eigenvector found by numpy.linalg.eig:\\n\", eig_vec[:, principal_index])\n",
    "print(\"Divide v by numpy.linalg.eig:\\n\", v/eig_vec[:, principal_index])"
   ]
  },
  {
   "cell_type": "markdown",
   "id": "af89130e9fd8a685",
   "metadata": {
    "collapsed": false
   },
   "source": [
    "# Exercise 2"
   ]
  },
  {
   "cell_type": "code",
   "execution_count": 79,
   "id": "f518e47972f2ec5d",
   "metadata": {
    "ExecuteTime": {
     "start_time": "2024-04-04T09:14:40.717868700Z"
    },
    "collapsed": false
   },
   "outputs": [],
   "source": [
    "def generate_non_singular_matrix(n):\n",
    "    while True:\n",
    "        A = np.random.rand(n, n)\n",
    "        if np.linalg.det(A) != 0:\n",
    "            return A"
   ]
  },
  {
   "cell_type": "code",
   "execution_count": 80,
   "id": "69423b86b8d6b71c",
   "metadata": {
    "ExecuteTime": {
     "start_time": "2024-04-04T09:14:40.721858400Z"
    },
    "collapsed": false
   },
   "outputs": [],
   "source": [
    "def gram_schmidt(A):\n",
    "\n",
    "    n = A.shape[0]\n",
    "    Q = np.zeros((n, n))\n",
    "    R = np.zeros((n, n))\n",
    "\n",
    "    for k in range(n):\n",
    "        Q[:, k] = A[:, k]\n",
    "        for i in range(k):\n",
    "            R[i, k] = np.dot(Q[:, i], A[:, k])\n",
    "            Q[:, k] -= R[i, k] * Q[:, i]\n",
    "        Q[:, k] /= np.linalg.norm(Q[:, k])\n",
    "        R[k, k] = np.dot(Q[:, k], A[:, k])\n",
    "\n",
    "    return Q, R"
   ]
  },
  {
   "cell_type": "code",
   "execution_count": 81,
   "id": "ca69812f6bfb17a9",
   "metadata": {
    "ExecuteTime": {
     "start_time": "2024-04-04T09:14:40.729838200Z"
    },
    "collapsed": false
   },
   "outputs": [],
   "source": [
    "A = generate_non_singular_matrix(4)\n",
    "Q, R = gram_schmidt(A)"
   ]
  },
  {
   "cell_type": "markdown",
   "id": "b8d404d6f6b3ce72",
   "metadata": {
    "collapsed": false
   },
   "source": [
    "(i) $A = QR$"
   ]
  },
  {
   "cell_type": "code",
   "execution_count": 82,
   "id": "715b32a14b285f38",
   "metadata": {
    "ExecuteTime": {
     "start_time": "2024-04-04T09:14:40.733827300Z"
    },
    "collapsed": false
   },
   "outputs": [
    {
     "name": "stdout",
     "output_type": "stream",
     "text": [
      "Generated non-singular matrix A:\n",
      " [[0.09094167 0.21684859 0.44142593 0.46488173]\n",
      " [0.48305431 0.43368414 0.77789304 0.98328662]\n",
      " [0.38614472 0.38352616 0.77473543 0.80929171]\n",
      " [0.40171273 0.51085415 0.20028689 0.24339337]]\n",
      "Q times R:\n",
      " [[0.09094167 0.21684859 0.44142593 0.46488173]\n",
      " [0.48305431 0.43368414 0.77789304 0.98328662]\n",
      " [0.38614472 0.38352616 0.77473543 0.80929171]\n",
      " [0.40171273 0.51085415 0.20028689 0.24339337]]\n"
     ]
    }
   ],
   "source": [
    "print(\"Generated non-singular matrix A:\\n\", A)\n",
    "print(\"Q times R:\\n\", Q @ R)"
   ]
  },
  {
   "cell_type": "markdown",
   "id": "4f2c7e57e7030493",
   "metadata": {
    "collapsed": false
   },
   "source": [
    "(ii) $QQ^*=I$"
   ]
  },
  {
   "cell_type": "code",
   "execution_count": 83,
   "id": "94acd2efdcac1783",
   "metadata": {
    "ExecuteTime": {
     "start_time": "2024-04-04T09:14:40.737814900Z"
    },
    "collapsed": false
   },
   "outputs": [
    {
     "name": "stdout",
     "output_type": "stream",
     "text": [
      "Q times Q_transpose:\n",
      " [[1. 0. 0. 0.]\n",
      " [0. 1. 0. 0.]\n",
      " [0. 0. 1. 0.]\n",
      " [0. 0. 0. 1.]]\n"
     ]
    }
   ],
   "source": [
    "result = Q @ Q.T\n",
    "result[np.abs(result) < 1e-5] = 0\n",
    "print(\"Q times Q_transpose:\\n\", result)"
   ]
  },
  {
   "cell_type": "markdown",
   "id": "bb1a257dd144e5ef",
   "metadata": {
    "collapsed": false
   },
   "source": [
    "(iii) $R$ is upper triangular"
   ]
  },
  {
   "cell_type": "code",
   "execution_count": 84,
   "id": "4e47c990bf308c05",
   "metadata": {
    "ExecuteTime": {
     "start_time": "2024-04-04T09:14:40.740807400Z"
    },
    "collapsed": false
   },
   "outputs": [
    {
     "name": "stdout",
     "output_type": "stream",
     "text": [
      "R:\n",
      " [[ 0.74302942  0.78398885  1.0706526   1.24831652]\n",
      " [ 0.          0.16891121 -0.04054529 -0.09885916]\n",
      " [ 0.          0.          0.54070632  0.56466238]\n",
      " [ 0.          0.          0.          0.10124296]]\n"
     ]
    }
   ],
   "source": [
    "print(\"R:\\n\", R)"
   ]
  },
  {
   "cell_type": "markdown",
   "id": "858cf9000695210f",
   "metadata": {
    "collapsed": false
   },
   "source": [
    "# Exercise 3"
   ]
  },
  {
   "cell_type": "code",
   "execution_count": 85,
   "id": "9b2f76fec8390cf6",
   "metadata": {
    "ExecuteTime": {
     "start_time": "2024-04-04T09:14:40.744796300Z"
    },
    "collapsed": false
   },
   "outputs": [],
   "source": [
    "def permutation(v):\n",
    "    \n",
    "    n = len(v)\n",
    "    P = np.zeros((n, n))\n",
    "    indices = np.argsort(-np.abs(v))\n",
    "    \n",
    "    for i, idx in enumerate(indices):\n",
    "          P[i, idx] = 1\n",
    "        \n",
    "    return P"
   ]
  },
  {
   "cell_type": "code",
   "execution_count": 86,
   "id": "a0652e16b1d2912d",
   "metadata": {
    "ExecuteTime": {
     "end_time": "2024-04-04T09:14:40.882430200Z",
     "start_time": "2024-04-04T09:14:40.747788700Z"
    },
    "collapsed": false
   },
   "outputs": [
    {
     "name": "stdout",
     "output_type": "stream",
     "text": [
      "Permuation matrix P:\n",
      " [[0. 0. 1. 0.]\n",
      " [0. 0. 0. 1.]\n",
      " [0. 1. 0. 0.]\n",
      " [1. 0. 0. 0.]]\n"
     ]
    }
   ],
   "source": [
    "v = np.random.rand(4) + 1j * np.random.rand(4)\n",
    "P = permutation(v)\n",
    "print(\"Permuation matrix P:\\n\", P)"
   ]
  },
  {
   "cell_type": "markdown",
   "id": "46ca6b8cd362df81",
   "metadata": {
    "collapsed": false
   },
   "source": [
    "$Pv\\ $  is a vector with entries having a decreasing module"
   ]
  },
  {
   "cell_type": "code",
   "execution_count": 87,
   "id": "a56f3e0bdbd25ed7",
   "metadata": {
    "ExecuteTime": {
     "start_time": "2024-04-04T09:14:40.750781400Z"
    },
    "collapsed": false
   },
   "outputs": [
    {
     "name": "stdout",
     "output_type": "stream",
     "text": [
      "Modules of Pv: [1.11593452 0.8584823  0.42472586 0.35283141]\n"
     ]
    }
   ],
   "source": [
    "print(\"Modules of Pv:\", np.abs(P @ v))"
   ]
  },
  {
   "cell_type": "markdown",
   "id": "1542be109652e49b",
   "metadata": {
    "collapsed": false
   },
   "source": [
    "# Exercise 4"
   ]
  },
  {
   "cell_type": "code",
   "execution_count": 88,
   "id": "46cb53f4f59dbec0",
   "metadata": {
    "ExecuteTime": {
     "start_time": "2024-04-04T09:14:40.753772900Z"
    },
    "collapsed": false
   },
   "outputs": [],
   "source": [
    "def QR_method(A, tol=1e-10):\n",
    "    error = tol + 1\n",
    "    Ak = A\n",
    "    Identity_matrix = np.eye(A.shape[0])\n",
    "    V = np.eye(A.shape[0])\n",
    "    while error > tol:\n",
    "        Atmp = Ak\n",
    "        epsilon = np.random.normal(loc=0, scale=1)\n",
    "        Qk, Rk = gram_schmidt(Ak + epsilon * Identity_matrix)\n",
    "        Ak = Rk.dot(Qk) - epsilon * Identity_matrix\n",
    "        P = permutation(np.diag(Ak))\n",
    "        Ak = np.linalg.inv(P).dot(Ak).dot(P)\n",
    "        V = V.dot(Qk).dot(P)\n",
    "        error = np.linalg.norm(np.diag(Ak) - np.diag(Atmp))\n",
    "        \n",
    "    return Ak, V"
   ]
  },
  {
   "cell_type": "code",
   "execution_count": 89,
   "id": "6b6965d44aec085c",
   "metadata": {
    "ExecuteTime": {
     "start_time": "2024-04-04T09:14:40.756767400Z"
    },
    "collapsed": false
   },
   "outputs": [],
   "source": [
    "A = generate_non_singular_matrix(4)\n",
    "A = (A + A.conj().T) / 2\n",
    "Ak, V = QR_method(A)"
   ]
  },
  {
   "cell_type": "markdown",
   "id": "5e12bed0b2dfd616",
   "metadata": {
    "collapsed": false
   },
   "source": [
    "(i) $A_k$ is diagonal when $A$ is Hermitian"
   ]
  },
  {
   "cell_type": "code",
   "execution_count": 90,
   "id": "720e3e44cda6eb8",
   "metadata": {
    "ExecuteTime": {
     "start_time": "2024-04-04T09:14:40.761752100Z"
    },
    "collapsed": false
   },
   "outputs": [
    {
     "name": "stdout",
     "output_type": "stream",
     "text": [
      "Ak:\n",
      " [[ 2.21654046  0.          0.          0.        ]\n",
      " [ 0.         -0.36553831  0.          0.        ]\n",
      " [ 0.          0.          0.32850079  0.        ]\n",
      " [ 0.          0.          0.         -0.21931638]]\n"
     ]
    }
   ],
   "source": [
    "Ak[np.abs(Ak) < 1e-5] = 0\n",
    "print(\"Ak:\\n\", Ak)"
   ]
  },
  {
   "cell_type": "markdown",
   "id": "4a42c8d954385e06",
   "metadata": {
    "collapsed": false
   },
   "source": [
    "(ii) $VA_{k}V^*=A$"
   ]
  },
  {
   "cell_type": "code",
   "execution_count": 91,
   "id": "2acc9b9c6836b99a",
   "metadata": {
    "ExecuteTime": {
     "start_time": "2024-04-04T09:14:40.764743600Z"
    },
    "collapsed": false
   },
   "outputs": [
    {
     "name": "stdout",
     "output_type": "stream",
     "text": [
      "VAkV*:\n",
      " [[0.14147773 0.56999875 0.50381739 0.42347344]\n",
      " [0.56999875 0.97954964 0.55505031 0.52878452]\n",
      " [0.50381739 0.55505031 0.67672938 0.72363469]\n",
      " [0.42347344 0.52878452 0.72363469 0.16242981]]\n",
      "A:\n",
      " [[0.14147768 0.57000072 0.50381572 0.42347283]\n",
      " [0.57000072 0.97954847 0.55505013 0.52878463]\n",
      " [0.50381572 0.55505013 0.67673055 0.72363496]\n",
      " [0.42347283 0.52878463 0.72363496 0.16242985]]\n"
     ]
    }
   ],
   "source": [
    "print(\"VAkV*:\\n\", V @ Ak @ V.conj().T)\n",
    "print(\"A:\\n\", A)"
   ]
  },
  {
   "cell_type": "markdown",
   "id": "f8b962fa68348bba",
   "metadata": {
    "collapsed": false
   },
   "source": [
    "(iii) principal eigenvector of $A$ is the first column of $V$"
   ]
  },
  {
   "cell_type": "code",
   "execution_count": 92,
   "id": "393bf14a628fc22f",
   "metadata": {
    "ExecuteTime": {
     "start_time": "2024-04-04T09:14:40.768732600Z"
    },
    "collapsed": false
   },
   "outputs": [
    {
     "name": "stdout",
     "output_type": "stream",
     "text": [
      "the principal eigenvector of A:\n",
      " [0.38679565 0.60665802 0.54659702 0.4284704 ]\n",
      "the first column of V:\n",
      " [-0.38679565 -0.60665802 -0.54659702 -0.4284704 ]\n"
     ]
    }
   ],
   "source": [
    "x = np.random.rand(4)\n",
    "a, v = power_method(A, x)\n",
    "print(\"the principal eigenvector of A:\\n\", v)\n",
    "print(\"the first column of V:\\n\", V[:,0])"
   ]
  },
  {
   "cell_type": "markdown",
   "id": "4b46dfa4e06e6e96",
   "metadata": {
    "collapsed": false
   },
   "source": [
    "# Problem 1"
   ]
  },
  {
   "cell_type": "code",
   "execution_count": 93,
   "id": "62aa94932603e91a",
   "metadata": {
    "ExecuteTime": {
     "start_time": "2024-04-04T09:14:40.770763700Z"
    },
    "collapsed": false
   },
   "outputs": [
    {
     "name": "stdout",
     "output_type": "stream",
     "text": [
      "trial 1\n",
      "Multiplying A by v:\n",
      " [0.11600209 0.35429471 0.27656671 0.53144206 0.70858942]\n",
      "Multiplying a by v:\n",
      " [0.27656671 0.35429471 0.11600209 0.53144206 0.70858942]\n",
      "\n",
      "\n",
      "trial 2\n",
      "Multiplying A by v:\n",
      " [0.4406296  0.33191974 0.08430821 0.49787961 0.66383948]\n",
      "Multiplying a by v:\n",
      " [0.08430821 0.33191974 0.4406296  0.49787961 0.66383948]\n",
      "\n",
      "\n",
      "trial 3\n",
      "Multiplying A by v:\n",
      " [0.46252126 0.2229282  0.65251127 0.33439231 0.44585641]\n",
      "Multiplying a by v:\n",
      " [0.65251127 0.2229282  0.46252126 0.33439231 0.44585641]\n",
      "\n",
      "\n",
      "trial 4\n",
      "Multiplying A by v:\n",
      " [0.35441272 0.27656819 0.56554345 0.41485228 0.55313638]\n",
      "Multiplying a by v:\n",
      " [0.56554345 0.27656819 0.35441272 0.41485228 0.55313638]\n",
      "\n",
      "\n",
      "trial 5\n",
      "Multiplying A by v:\n",
      " [0.70168337 0.26330864 0.07062237 0.39496295 0.52661727]\n",
      "Multiplying a by v:\n",
      " [0.07062237 0.26330864 0.70168337 0.39496295 0.52661727]\n",
      "\n",
      "\n",
      "trial 6\n",
      "Multiplying A by v:\n",
      " [0.13736618 0.33394128 0.41549233 0.50091193 0.66788257]\n",
      "Multiplying a by v:\n",
      " [0.41549233 0.33394128 0.13736618 0.50091193 0.66788257]\n",
      "\n",
      "\n",
      "trial 7\n",
      "Multiplying A by v:\n",
      " [0.23868394 0.35834715 0.10971811 0.53752072 0.71669429]\n",
      "Multiplying a by v:\n",
      " [0.10971811 0.35834715 0.23868394 0.53752072 0.71669429]\n",
      "\n",
      "\n",
      "trial 8\n",
      "Multiplying A by v:\n",
      " [0.09017845 0.29285113 0.60835426 0.4392767  0.58570226]\n",
      "Multiplying a by v:\n",
      " [0.60835426 0.29285113 0.09017845 0.4392767  0.58570226]\n",
      "\n",
      "\n",
      "trial 9\n",
      "Multiplying A by v:\n",
      " [0.09913599 0.36271606 0.19063241 0.5440741  0.72543213]\n",
      "Multiplying a by v:\n",
      " [0.19063241 0.36271606 0.09913599 0.5440741  0.72543213]\n",
      "\n",
      "\n",
      "trial 10\n",
      "Multiplying A by v:\n",
      " [0.41644682 0.26708621 0.55623107 0.40062931 0.53417241]\n",
      "Multiplying a by v:\n",
      " [0.55623107 0.26708621 0.41644682 0.40062931 0.53417241]\n",
      "\n",
      "\n"
     ]
    }
   ],
   "source": [
    "A = np.array([\n",
    "    [0, 0, 1, 0, 0],\n",
    "    [0, 0, 0, 0, 0.5],\n",
    "    [1, 0, 0, 0, 0],\n",
    "    [0, 0.5, 0, 0, 0.5],\n",
    "    [0, 0.5, 0, 1, 0]    \n",
    "])\n",
    "for i in range(10):\n",
    "    x = np.random.rand(5)\n",
    "    a, v = power_method(A, x)\n",
    "    print(\"trial\", i+1)\n",
    "    print(\"Multiplying A by v:\\n\", A @ v)\n",
    "    print(\"Multiplying a by v:\\n\", v * a)\n",
    "    print(\"\\n\")"
   ]
  },
  {
   "cell_type": "markdown",
   "id": "f7fe2aacff5b4e44",
   "metadata": {
    "collapsed": false
   },
   "source": [
    "Observation: only the second, fourth, and fifth entries are correspondent.\n",
    "v is not the real eigenvector."
   ]
  },
  {
   "cell_type": "markdown",
   "id": "d6464f1a7fb92fa7",
   "metadata": {
    "collapsed": false
   },
   "source": [
    "# Problem 2"
   ]
  },
  {
   "cell_type": "code",
   "execution_count": 94,
   "id": "e7beae5b6c98e62b",
   "metadata": {
    "ExecuteTime": {
     "start_time": "2024-04-04T09:14:40.773725700Z"
    },
    "collapsed": false
   },
   "outputs": [
    {
     "name": "stdout",
     "output_type": "stream",
     "text": [
      "Multiplying A by v1:\n",
      " [0.         0.37139068 0.         0.55708601 0.74278135]\n",
      "Multiplying a1 by v1:\n",
      " [0.         0.37139068 0.         0.55708601 0.74278135]\n",
      "\n",
      "\n",
      "Multiplying A by v2:\n",
      " [0.70710678 0.         0.70710678 0.         0.        ]\n",
      "Multiplying a1 by v2:\n",
      " [0.70710678 0.         0.70710678 0.         0.        ]\n"
     ]
    }
   ],
   "source": [
    "x1 = np.array([0, 0.57, 0, 0.57, 0.57])\n",
    "x2 = np.array([0.7, 0, 0.7, 0, 0])\n",
    "a1, v1 = power_method(A, x1)\n",
    "a2, v2 = power_method(A, x2)\n",
    "print(\"Multiplying A by v1:\\n\", A.dot(v1))\n",
    "print(\"Multiplying a1 by v1:\\n\", v1 * a1)\n",
    "print(\"\\n\")\n",
    "print(\"Multiplying A by v2:\\n\", A.dot(v2))\n",
    "print(\"Multiplying a1 by v2:\\n\", v2 * a2)"
   ]
  },
  {
   "cell_type": "markdown",
   "id": "b18512b0ab71dc19",
   "metadata": {
    "collapsed": false
   },
   "source": [
    "# Problem 3"
   ]
  },
  {
   "cell_type": "markdown",
   "id": "73d02c793b6d1c85",
   "metadata": {
    "collapsed": false
   },
   "source": [
    "# Problem 4"
   ]
  },
  {
   "cell_type": "code",
   "execution_count": 95,
   "id": "364c4504005eba26",
   "metadata": {
    "ExecuteTime": {
     "start_time": "2024-04-04T09:14:40.777711100Z"
    },
    "collapsed": false
   },
   "outputs": [
    {
     "name": "stdout",
     "output_type": "stream",
     "text": [
      "Multiplying A' by v':\n",
      " [0.43883259 0.30264765 0.43885149 0.43883905 0.57503046]\n",
      "Multiplying a' by v':\n",
      " [0.43885289 0.30264767 0.43883189 0.43883907 0.57503048]\n"
     ]
    }
   ],
   "source": [
    "alpha = 0.1\n",
    "A_prime = (1 - alpha) * A + 0.2 * alpha * np.ones(A.shape)\n",
    "x = np.random.rand(5)\n",
    "a_prime, v_prime = power_method(A_prime, x)\n",
    "print(\"Multiplying A' by v':\\n\", A_prime.dot(v_prime))\n",
    "print(\"Multiplying a' by v':\\n\", v_prime * a_prime)"
   ]
  },
  {
   "cell_type": "markdown",
   "id": "870df7a28558eacd",
   "metadata": {
    "collapsed": false
   },
   "source": [
    "# Problem 5"
   ]
  },
  {
   "cell_type": "code",
   "execution_count": 96,
   "id": "9f92bcf2f54ff028",
   "metadata": {
    "ExecuteTime": {
     "start_time": "2024-04-04T09:14:40.780704300Z"
    },
    "collapsed": false
   },
   "outputs": [
    {
     "name": "stdout",
     "output_type": "stream",
     "text": [
      "Ak:\n",
      " [[ 1.00000000e+000  0.00000000e+000  0.00000000e+000 -4.08258684e-001\n",
      "  -1.51591615e-001]\n",
      " [ 0.00000000e+000  1.00000000e+000  8.88308235e-014  0.00000000e+000\n",
      "   0.00000000e+000]\n",
      " [ 0.00000000e+000  8.90079750e-201 -1.00000000e+000  0.00000000e+000\n",
      "   0.00000000e+000]\n",
      " [ 0.00000000e+000  0.00000000e+000  0.00000000e+000 -5.00038192e-001\n",
      "  -5.57086012e-001]\n",
      " [ 0.00000000e+000  0.00000000e+000  0.00000000e+000  3.77974296e-010\n",
      "  -4.99961801e-001]]\n"
     ]
    }
   ],
   "source": [
    "Ak, V = QR_method(A)\n",
    "print(\"Ak:\\n\", Ak)"
   ]
  },
  {
   "cell_type": "code",
   "execution_count": null,
   "id": "2a0de5d6cb058c89",
   "metadata": {
    "ExecuteTime": {
     "start_time": "2024-04-04T09:14:40.782697500Z"
    },
    "collapsed": false
   },
   "outputs": [],
   "source": []
  }
 ],
 "metadata": {
  "kernelspec": {
   "display_name": "Python 3",
   "language": "python",
   "name": "python3"
  },
  "language_info": {
   "codemirror_mode": {
    "name": "ipython",
    "version": 3
   },
   "file_extension": ".py",
   "mimetype": "text/x-python",
   "name": "python",
   "nbconvert_exporter": "python",
   "pygments_lexer": "ipython3",
   "version": "3.10.12"
  }
 },
 "nbformat": 4,
 "nbformat_minor": 5
}
