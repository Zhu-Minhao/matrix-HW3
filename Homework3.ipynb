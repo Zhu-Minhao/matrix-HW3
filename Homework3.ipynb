{
 "cells": [
  {
   "cell_type": "markdown",
   "id": "b911818c764b7dc2",
   "metadata": {
    "collapsed": false
   },
   "source": [
    "# Exercise 1"
   ]
  },
  {
   "cell_type": "code",
   "execution_count": 360,
   "id": "22054c870ae6dd17",
   "metadata": {
    "collapsed": false,
    "ExecuteTime": {
     "end_time": "2024-04-04T11:36:24.584142Z",
     "start_time": "2024-04-04T11:36:24.496377Z"
    }
   },
   "outputs": [],
   "source": [
    "import numpy as np"
   ]
  },
  {
   "cell_type": "code",
   "execution_count": 361,
   "id": "79e5a73f91b4517a",
   "metadata": {
    "collapsed": false,
    "ExecuteTime": {
     "end_time": "2024-04-04T11:36:24.697839300Z",
     "start_time": "2024-04-04T11:36:24.591125400Z"
    }
   },
   "outputs": [],
   "source": [
    "def power_method(A, x, max_iter=100, tol=1e-10):\n",
    "\n",
    "    error = 1\n",
    "    iterations = 0\n",
    "    eigenvalue_estimate = []\n",
    "    while error > tol and iterations < max_iter:\n",
    "        y = A.dot(x)\n",
    "        j = np.argmax(np.abs(y))\n",
    "        if y[j] == 0:\n",
    "            return 0, x\n",
    "        eigenvalue_estimate = y[j]\n",
    "        x_update = y / eigenvalue_estimate\n",
    "        error = np.linalg.norm(x - x_update, np.inf)\n",
    "        x = x_update\n",
    "        iterations += 1\n",
    "    return eigenvalue_estimate, x/np.linalg.norm(x)"
   ]
  },
  {
   "cell_type": "code",
   "execution_count": 362,
   "id": "8b2c923eaf6754b1",
   "metadata": {
    "collapsed": false,
    "ExecuteTime": {
     "end_time": "2024-04-04T11:36:24.747703900Z",
     "start_time": "2024-04-04T11:36:24.629026300Z"
    }
   },
   "outputs": [],
   "source": [
    "A = np.random.rand(4, 4)\n",
    "A = (A + A.T) / 2\n",
    "x = np.random.rand(4)\n",
    "a, v = power_method(A, x)"
   ]
  },
  {
   "cell_type": "markdown",
   "id": "cc54c93d2375518d",
   "metadata": {
    "collapsed": false
   },
   "source": [
    "(i) (ii) v is an eigenvector and is associated to a"
   ]
  },
  {
   "cell_type": "code",
   "execution_count": 364,
   "id": "81c012edb02988fc",
   "metadata": {
    "collapsed": false,
    "ExecuteTime": {
     "end_time": "2024-04-04T11:36:24.818405800Z",
     "start_time": "2024-04-04T11:36:24.762696400Z"
    }
   },
   "outputs": [
    {
     "name": "stdout",
     "output_type": "stream",
     "text": [
      "Eigenvalue a found by Power Method:\n",
      " 2.262509892318244\n",
      "Eigenvector v found by Power Method:\n",
      " [0.40887132 0.57797605 0.36653646 0.60367124]\n",
      "Multiplying A by v:\n",
      " [0.9250754  1.30767652 0.82929236 1.36581215]\n",
      "Multiplying a by v:\n",
      " [0.9250754  1.30767652 0.82929236 1.36581215]\n"
     ]
    }
   ],
   "source": [
    "print(\"Eigenvalue a found by Power Method:\\n\", a)\n",
    "print(\"Eigenvector v found by Power Method:\\n\", v)\n",
    "print(\"Multiplying A by v:\\n\", A @ v)\n",
    "print(\"Multiplying a by v:\\n\", v * a)"
   ]
  },
  {
   "cell_type": "markdown",
   "id": "54426332d9d413b9",
   "metadata": {
    "collapsed": false
   },
   "source": [
    "(iii) divide v by that of numpy.linalg.eig"
   ]
  },
  {
   "cell_type": "code",
   "execution_count": 365,
   "id": "2ca06c0c25811674",
   "metadata": {
    "collapsed": false,
    "ExecuteTime": {
     "end_time": "2024-04-04T11:36:24.900196400Z",
     "start_time": "2024-04-04T11:36:24.822403100Z"
    }
   },
   "outputs": [
    {
     "name": "stdout",
     "output_type": "stream",
     "text": [
      "Eigenvalue found by numpy.linalg.eig:\n",
      " 2.2625098922876474\n",
      "Eigenvector found by numpy.linalg.eig:\n",
      " [0.40887132 0.57797605 0.36653646 0.60367124]\n",
      "Divide v by numpy.linalg.eig:\n",
      " [1. 1. 1. 1.]\n"
     ]
    }
   ],
   "source": [
    "eig_val, eig_vec = np.linalg.eig(A)\n",
    "principal_index = np.argmax(np.abs(eig_val))\n",
    "print(\"Eigenvalue found by numpy.linalg.eig:\\n\", eig_val[principal_index])\n",
    "print(\"Eigenvector found by numpy.linalg.eig:\\n\", eig_vec[:, principal_index])\n",
    "print(\"Divide v by numpy.linalg.eig:\\n\", v/eig_vec[:, principal_index])"
   ]
  },
  {
   "cell_type": "markdown",
   "id": "af89130e9fd8a685",
   "metadata": {
    "collapsed": false
   },
   "source": [
    "# Exercise 2"
   ]
  },
  {
   "cell_type": "code",
   "execution_count": 374,
   "id": "f518e47972f2ec5d",
   "metadata": {
    "collapsed": false,
    "ExecuteTime": {
     "end_time": "2024-04-04T11:39:18.530053200Z",
     "start_time": "2024-04-04T11:39:18.472207200Z"
    }
   },
   "outputs": [],
   "source": [
    "def generate_non_singular_matrix(n):\n",
    "    while True:\n",
    "        A = np.random.rand(n, n)\n",
    "        if np.linalg.det(A) != 0:\n",
    "            return A"
   ]
  },
  {
   "cell_type": "code",
   "execution_count": 375,
   "id": "69423b86b8d6b71c",
   "metadata": {
    "collapsed": false,
    "ExecuteTime": {
     "end_time": "2024-04-04T11:39:20.029370400Z",
     "start_time": "2024-04-04T11:39:20.002810500Z"
    }
   },
   "outputs": [],
   "source": [
    "def gram_schmidt(A):\n",
    "\n",
    "    n = A.shape[0]\n",
    "    Q = np.zeros((n, n))\n",
    "    R = np.zeros((n, n))\n",
    "\n",
    "    for k in range(n):\n",
    "        Q[:, k] = A[:, k]\n",
    "        for i in range(k):\n",
    "            R[i, k] = np.dot(Q[:, i], A[:, k])\n",
    "            Q[:, k] -= R[i, k] * Q[:, i]\n",
    "        Q[:, k] /= np.linalg.norm(Q[:, k])\n",
    "        R[k, k] = np.dot(Q[:, k], A[:, k])\n",
    "\n",
    "    return Q, R"
   ]
  },
  {
   "cell_type": "code",
   "execution_count": 376,
   "id": "ca69812f6bfb17a9",
   "metadata": {
    "collapsed": false,
    "ExecuteTime": {
     "end_time": "2024-04-04T11:39:24.434903700Z",
     "start_time": "2024-04-04T11:39:24.412959Z"
    }
   },
   "outputs": [],
   "source": [
    "A = generate_non_singular_matrix(4)\n",
    "Q, R = gram_schmidt(A)"
   ]
  },
  {
   "cell_type": "markdown",
   "id": "b8d404d6f6b3ce72",
   "metadata": {
    "collapsed": false
   },
   "source": [
    "(i) $A = QR$"
   ]
  },
  {
   "cell_type": "code",
   "execution_count": 377,
   "id": "715b32a14b285f38",
   "metadata": {
    "collapsed": false,
    "ExecuteTime": {
     "end_time": "2024-04-04T11:39:34.447653700Z",
     "start_time": "2024-04-04T11:39:34.422703500Z"
    }
   },
   "outputs": [
    {
     "name": "stdout",
     "output_type": "stream",
     "text": [
      "Generated non-singular matrix A:\n",
      " [[0.9987338  0.33688933 0.60774038 0.76808714]\n",
      " [0.63422074 0.98900917 0.43223689 0.23439069]\n",
      " [0.01726823 0.93837312 0.0101805  0.07019707]\n",
      " [0.81339758 0.79845591 0.94263026 0.96469238]]\n",
      "Q times R:\n",
      " [[0.9987338  0.33688933 0.60774038 0.76808714]\n",
      " [0.63422074 0.98900917 0.43223689 0.23439069]\n",
      " [0.01726823 0.93837312 0.0101805  0.07019707]\n",
      " [0.81339758 0.79845591 0.94263026 0.96469238]]\n"
     ]
    }
   ],
   "source": [
    "print(\"Generated non-singular matrix A:\\n\", A)\n",
    "print(\"Q times R:\\n\", Q @ R)"
   ]
  },
  {
   "cell_type": "markdown",
   "id": "4f2c7e57e7030493",
   "metadata": {
    "collapsed": false
   },
   "source": [
    "(ii) $QQ^*=I$"
   ]
  },
  {
   "cell_type": "code",
   "execution_count": 378,
   "id": "94acd2efdcac1783",
   "metadata": {
    "collapsed": false,
    "ExecuteTime": {
     "end_time": "2024-04-04T11:39:47.646481400Z",
     "start_time": "2024-04-04T11:39:47.618556900Z"
    }
   },
   "outputs": [
    {
     "name": "stdout",
     "output_type": "stream",
     "text": [
      "Q times Q_transpose:\n",
      " [[1. 0. 0. 0.]\n",
      " [0. 1. 0. 0.]\n",
      " [0. 0. 1. 0.]\n",
      " [0. 0. 0. 1.]]\n"
     ]
    }
   ],
   "source": [
    "Q_times_Q_transpose = Q @ Q.T\n",
    "Q_times_Q_transpose_thresholded = np.where(abs(Q_times_Q_transpose) < 1e-5, 0, Q_times_Q_transpose)\n",
    "print(\"Q times Q_transpose:\\n\", Q_times_Q_transpose_thresholded)"
   ]
  },
  {
   "cell_type": "markdown",
   "id": "bb1a257dd144e5ef",
   "metadata": {
    "collapsed": false
   },
   "source": [
    "(iii) $R$ is upper triangular"
   ]
  },
  {
   "cell_type": "code",
   "execution_count": 379,
   "id": "4e47c990bf308c05",
   "metadata": {
    "collapsed": false,
    "ExecuteTime": {
     "end_time": "2024-04-04T11:39:53.230741300Z",
     "start_time": "2024-04-04T11:39:53.210820600Z"
    }
   },
   "outputs": [
    {
     "name": "stdout",
     "output_type": "stream",
     "text": [
      "R:\n",
      " [[ 1.43583389  1.13479633  1.14777443  1.18513754]\n",
      " [ 0.          1.14975945  0.07996376 -0.01581153]\n",
      " [ 0.          0.          0.34792557  0.3425058 ]\n",
      " [ 0.          0.          0.          0.24154637]]\n"
     ]
    }
   ],
   "source": [
    "print(\"R:\\n\", R)"
   ]
  },
  {
   "cell_type": "markdown",
   "id": "858cf9000695210f",
   "metadata": {
    "collapsed": false
   },
   "source": [
    "# Exercise 3"
   ]
  },
  {
   "cell_type": "code",
   "execution_count": 381,
   "id": "caeb1ddaa6577d3e",
   "metadata": {
    "collapsed": false,
    "ExecuteTime": {
     "end_time": "2024-04-04T11:40:00.758546400Z",
     "start_time": "2024-04-04T11:40:00.716658800Z"
    }
   },
   "outputs": [],
   "source": [
    "def permutation(v):\n",
    "    \n",
    "    n = len(v)\n",
    "    P = np.zeros((n, n))\n",
    "    indices = np.argsort(-np.abs(v))\n",
    "    \n",
    "    for i, idx in enumerate(indices):\n",
    "          P[i, idx] = 1\n",
    "        \n",
    "    return P"
   ]
  },
  {
   "cell_type": "code",
   "outputs": [
    {
     "name": "stdout",
     "output_type": "stream",
     "text": [
      "Permuation matrix P:\n",
      " [[1. 0. 0. 0.]\n",
      " [0. 1. 0. 0.]\n",
      " [0. 0. 0. 1.]\n",
      " [0. 0. 1. 0.]]\n"
     ]
    }
   ],
   "source": [
    "v = np.random.rand(4) + 1j * np.random.rand(4)\n",
    "P = permutation(v)\n",
    "print(\"Permuation matrix P:\\n\", P)"
   ],
   "metadata": {
    "collapsed": false,
    "ExecuteTime": {
     "end_time": "2024-04-04T11:40:02.963177500Z",
     "start_time": "2024-04-04T11:40:02.912320800Z"
    }
   },
   "id": "9b2f76fec8390cf6",
   "execution_count": 382
  },
  {
   "cell_type": "markdown",
   "id": "46ca6b8cd362df81",
   "metadata": {
    "collapsed": false
   },
   "source": [
    "$Pv\\ $  is a vector with entries having a decreasing module"
   ]
  },
  {
   "cell_type": "code",
   "execution_count": 383,
   "id": "a56f3e0bdbd25ed7",
   "metadata": {
    "collapsed": false,
    "ExecuteTime": {
     "end_time": "2024-04-04T11:40:11.124133800Z",
     "start_time": "2024-04-04T11:40:11.026137800Z"
    }
   },
   "outputs": [
    {
     "name": "stdout",
     "output_type": "stream",
     "text": [
      "Modules of Pv: [0.89694243 0.7341278  0.4047902  0.3797649 ]\n"
     ]
    }
   ],
   "source": [
    "print(\"Modules of Pv:\", np.abs(P @ v))"
   ]
  },
  {
   "cell_type": "markdown",
   "id": "1542be109652e49b",
   "metadata": {
    "collapsed": false
   },
   "source": [
    "# Exercise 4"
   ]
  },
  {
   "cell_type": "code",
   "execution_count": 385,
   "id": "46cb53f4f59dbec0",
   "metadata": {
    "collapsed": false,
    "ExecuteTime": {
     "end_time": "2024-04-04T11:40:21.794138500Z",
     "start_time": "2024-04-04T11:40:21.761192500Z"
    }
   },
   "outputs": [],
   "source": [
    "def QR_method(A, tol=1e-10):\n",
    "    error = tol + 1\n",
    "    Ak = A\n",
    "    Identity_matrix = np.eye(A.shape[0])\n",
    "    V = np.eye(A.shape[0])\n",
    "    while error > tol:\n",
    "        Atmp = Ak\n",
    "        epsilon = np.random.normal(loc=0, scale=1)\n",
    "        Qk, Rk = gram_schmidt(Ak + epsilon * Identity_matrix)\n",
    "        Ak = Rk.dot(Qk) - epsilon * Identity_matrix\n",
    "        P = permutation(np.diag(Ak))\n",
    "        Ak = np.linalg.inv(P).dot(Ak).dot(P)\n",
    "        V = V.dot(Qk).dot(P)\n",
    "        error = np.linalg.norm(np.diag(Ak) - np.diag(Atmp))\n",
    "        \n",
    "    return Ak, V"
   ]
  },
  {
   "cell_type": "code",
   "execution_count": 386,
   "id": "6b6965d44aec085c",
   "metadata": {
    "collapsed": false,
    "ExecuteTime": {
     "end_time": "2024-04-04T11:40:27.408548200Z",
     "start_time": "2024-04-04T11:40:27.352694200Z"
    }
   },
   "outputs": [],
   "source": [
    "A = generate_non_singular_matrix(4)\n",
    "A = (A + A.conj().T) / 2\n",
    "Ak, V = QR_method(A)"
   ]
  },
  {
   "cell_type": "markdown",
   "id": "5e12bed0b2dfd616",
   "metadata": {
    "collapsed": false
   },
   "source": [
    "(i) $A_k$ is diagonal when $A$ is Hermitian"
   ]
  },
  {
   "cell_type": "code",
   "execution_count": 387,
   "id": "720e3e44cda6eb8",
   "metadata": {
    "collapsed": false,
    "ExecuteTime": {
     "end_time": "2024-04-04T11:40:34.370684500Z",
     "start_time": "2024-04-04T11:40:34.349744100Z"
    }
   },
   "outputs": [
    {
     "name": "stdout",
     "output_type": "stream",
     "text": [
      "Ak:\n",
      " [[ 2.58989233  0.          0.          0.        ]\n",
      " [ 0.          0.51040572  0.          0.        ]\n",
      " [ 0.          0.          0.22549862  0.        ]\n",
      " [ 0.          0.          0.         -0.18494509]]\n"
     ]
    }
   ],
   "source": [
    "Ak_thresholded = np.where(abs(Ak) < 1e-5, 0, Ak)\n",
    "print(\"Ak:\\n\", Ak_thresholded)"
   ]
  },
  {
   "cell_type": "markdown",
   "id": "4a42c8d954385e06",
   "metadata": {
    "collapsed": false
   },
   "source": [
    "(ii) $VA_{k}V^*=A$"
   ]
  },
  {
   "cell_type": "code",
   "execution_count": 391,
   "id": "2acc9b9c6836b99a",
   "metadata": {
    "collapsed": false,
    "ExecuteTime": {
     "end_time": "2024-04-04T11:41:32.485548Z",
     "start_time": "2024-04-04T11:41:32.422703200Z"
    }
   },
   "outputs": [
    {
     "name": "stdout",
     "output_type": "stream",
     "text": [
      "VAkV*:\n",
      " [[0.74044664 0.56463019 0.88795242 0.49156154]\n",
      " [0.56463019 0.82751306 0.60974302 0.59643588]\n",
      " [0.88795242 0.60974302 0.67777264 0.4508956 ]\n",
      " [0.49156154 0.59643588 0.4508956  0.89511925]]\n",
      "A:\n",
      " [[0.74044664 0.56463019 0.88795242 0.49156154]\n",
      " [0.56463019 0.82751306 0.60974302 0.59643588]\n",
      " [0.88795242 0.60974302 0.67777264 0.4508956 ]\n",
      " [0.49156154 0.59643588 0.4508956  0.89511925]]\n"
     ]
    }
   ],
   "source": [
    "print(\"VAkV*:\\n\", V @ Ak @ V.conj().T)\n",
    "print(\"A:\\n\", A)"
   ]
  },
  {
   "cell_type": "markdown",
   "id": "f8b962fa68348bba",
   "metadata": {
    "collapsed": false
   },
   "source": [
    "(iii) principal eigenvector of $A$ is the first column of $V$"
   ]
  },
  {
   "cell_type": "code",
   "execution_count": 392,
   "id": "393bf14a628fc22f",
   "metadata": {
    "collapsed": false,
    "ExecuteTime": {
     "end_time": "2024-04-04T11:42:20.302792700Z",
     "start_time": "2024-04-04T11:42:20.267834Z"
    }
   },
   "outputs": [
    {
     "name": "stdout",
     "output_type": "stream",
     "text": [
      "the principal eigenvector of A:\n",
      " [0.52179555 0.5010719  0.51145389 0.46375778]\n",
      "the first column of V:\n",
      " [0.52179555 0.5010719  0.51145389 0.46375777]\n"
     ]
    }
   ],
   "source": [
    "x = np.random.rand(4)\n",
    "a, v = power_method(A, x)\n",
    "print(\"the principal eigenvector of A:\\n\", v)\n",
    "print(\"the first column of V:\\n\", V[:,0])"
   ]
  },
  {
   "cell_type": "markdown",
   "id": "4b46dfa4e06e6e96",
   "metadata": {
    "collapsed": false
   },
   "source": [
    "# Problem 1"
   ]
  },
  {
   "cell_type": "code",
   "execution_count": 394,
   "id": "62aa94932603e91a",
   "metadata": {
    "collapsed": false,
    "ExecuteTime": {
     "end_time": "2024-04-04T11:42:46.240145400Z",
     "start_time": "2024-04-04T11:42:46.181303400Z"
    }
   },
   "outputs": [
    {
     "name": "stdout",
     "output_type": "stream",
     "text": [
      "trial 1\n",
      "Multiplying A by v:\n",
      " [0.1575628  0.29186503 0.59798101 0.43779755 0.58373006]\n",
      "Multiplying a by v:\n",
      " [0.59798101 0.29186503 0.1575628  0.43779755 0.58373006]\n",
      "trial 2\n",
      "Multiplying A by v:\n",
      " [0.49435705 0.24877377 0.55400388 0.37316065 0.49754754]\n",
      "Multiplying a by v:\n",
      " [0.55400388 0.24877377 0.49435705 0.37316065 0.49754754]\n",
      "trial 3\n",
      "Multiplying A by v:\n",
      " [0.59345787 0.26295434 0.38276184 0.39443151 0.52590867]\n",
      "Multiplying a by v:\n",
      " [0.38276184 0.26295434 0.59345787 0.39443151 0.52590867]\n",
      "trial 4\n",
      "Multiplying A by v:\n",
      " [0.70151651 0.26461083 0.01541505 0.39691625 0.52922166]\n",
      "Multiplying a by v:\n",
      " [0.01541505 0.26461083 0.70151651 0.39691625 0.52922166]\n",
      "trial 5\n",
      "Multiplying A by v:\n",
      " [0.66415064 0.26492375 0.22375346 0.39738563 0.52984751]\n",
      "Multiplying a by v:\n",
      " [0.22375346 0.26492375 0.66415064 0.39738563 0.52984751]\n",
      "trial 6\n",
      "Multiplying A by v:\n",
      " [0.17560335 0.30331046 0.54971222 0.45496569 0.60662091]\n",
      "Multiplying a by v:\n",
      " [0.54971222 0.30331046 0.17560335 0.45496569 0.60662091]\n",
      "trial 7\n",
      "Multiplying A by v:\n",
      " [0.06809281 0.35933271 0.24339964 0.53899907 0.71866542]\n",
      "Multiplying a by v:\n",
      " [0.24339964 0.35933271 0.06809281 0.53899907 0.71866542]\n",
      "trial 8\n",
      "Multiplying A by v:\n",
      " [0.21177585 0.27375374 0.64173822 0.41063061 0.54750748]\n",
      "Multiplying a by v:\n",
      " [0.64173822 0.27375374 0.21177585 0.41063061 0.54750748]\n",
      "trial 9\n",
      "Multiplying A by v:\n",
      " [0.03989661 0.34633414 0.35887336 0.51950121 0.69266827]\n",
      "Multiplying a by v:\n",
      " [0.35887336 0.34633414 0.03989661 0.51950121 0.69266827]\n",
      "trial 10\n",
      "Multiplying A by v:\n",
      " [0.74734939 0.21353734 0.33298943 0.32030601 0.42707469]\n",
      "Multiplying a by v:\n",
      " [0.33298943 0.21353734 0.74734939 0.32030601 0.42707469]\n"
     ]
    }
   ],
   "source": [
    "A = np.array([\n",
    "    [0, 0, 1, 0, 0],\n",
    "    [0, 0, 0, 0, 0.5],\n",
    "    [1, 0, 0, 0, 0],\n",
    "    [0, 0.5, 0, 0, 0.5],\n",
    "    [0, 0.5, 0, 1, 0]    \n",
    "])\n",
    "for i in range(10):\n",
    "    x = np.random.rand(5)\n",
    "    a, v = power_method(A, x)\n",
    "    print(\"trial\", i+1)\n",
    "    print(\"Multiplying A by v:\\n\", A @ v)\n",
    "    print(\"Multiplying a by v:\\n\", v * a)"
   ]
  },
  {
   "cell_type": "markdown",
   "id": "f7fe2aacff5b4e44",
   "metadata": {
    "collapsed": false
   },
   "source": [
    "Observation: only the second, fourth, and fifth entries of $Av$ and $av$ are correspondent.\n",
    "v is not the real eigenvector."
   ]
  },
  {
   "cell_type": "markdown",
   "id": "d6464f1a7fb92fa7",
   "metadata": {
    "collapsed": false
   },
   "source": [
    "# Problem 2"
   ]
  },
  {
   "cell_type": "code",
   "execution_count": 472,
   "id": "e7beae5b6c98e62b",
   "metadata": {
    "collapsed": false,
    "ExecuteTime": {
     "end_time": "2024-04-04T13:02:43.462739300Z",
     "start_time": "2024-04-04T13:02:43.413876100Z"
    }
   },
   "outputs": [
    {
     "name": "stdout",
     "output_type": "stream",
     "text": [
      "eigenvalue a1 by initial guess x1:\n",
      " 0.9999999999563443\n",
      "eigenvector v1 by initial guess x1:\n",
      " [0.         0.37139068 0.         0.55708601 0.74278135]\n",
      "eigenvalue a1 by initial guess x1:\n",
      " 0.9999999999563443\n",
      "eigenvector v2 by initial guess x2:\n",
      " [0.70710678 0.         0.70710678 0.         0.        ]\n",
      "Multiplying A by v1:\n",
      " [0.         0.37139068 0.         0.55708601 0.74278135]\n",
      "Multiplying a1 by v1:\n",
      " [0.         0.37139068 0.         0.55708601 0.74278135]\n",
      "Multiplying A by v2:\n",
      " [0.70710678 0.         0.70710678 0.         0.        ]\n",
      "Multiplying a1 by v2:\n",
      " [0.70710678 0.         0.70710678 0.         0.        ]\n"
     ]
    }
   ],
   "source": [
    "x1 = np.array([0, 0.57, 0, 0.57, 0.57])\n",
    "x2 = np.array([0.7, 0, 0.7, 0, 0])\n",
    "a1, v1 = power_method(A, x1)\n",
    "a2, v2 = power_method(A, x2)\n",
    "print(\"eigenvalue a1 by initial guess x1:\\n\", a1)\n",
    "print(\"eigenvector v1 by initial guess x1:\\n\", v1)\n",
    "print(\"eigenvalue a1 by initial guess x1:\\n\", a1)\n",
    "print(\"eigenvector v2 by initial guess x2:\\n\", v2)\n",
    "print(\"Multiplying A by v1:\\n\", A @ v1)\n",
    "print(\"Multiplying a1 by v1:\\n\", v1 * a1)\n",
    "print(\"Multiplying A by v2:\\n\", A @ v2)\n",
    "print(\"Multiplying a1 by v2:\\n\", v2 * a2)"
   ]
  },
  {
   "cell_type": "markdown",
   "source": [],
   "metadata": {
    "collapsed": false
   },
   "id": "3f49378acf91a72d"
  },
  {
   "cell_type": "markdown",
   "source": [
    "$v1$ is the eigenvector by initial guess $x1$. $v2$ is the eigenvector by initial guess $x2$.\n",
    "$v1$ and $v2$ are two different eigenvectors associated to eigenvalue 1. "
   ],
   "metadata": {
    "collapsed": false
   },
   "id": "cc4e55d2366402f3"
  },
  {
   "cell_type": "markdown",
   "id": "b18512b0ab71dc19",
   "metadata": {
    "collapsed": false
   },
   "source": [
    "# Problem 3"
   ]
  },
  {
   "cell_type": "markdown",
   "source": [
    "$A$ is column stochastic, so $\\rho(A)=1$.\n",
    "$A$ is not stricly positive as $A$ has some zero entries.\n",
    "Therefore, $A$ has multiple eigenvalue which equals 1.\n",
    "Power method is effective when there is only one principal eigenvalue."
   ],
   "metadata": {
    "collapsed": false
   },
   "id": "e4c4e8112608b85d"
  },
  {
   "cell_type": "markdown",
   "id": "73d02c793b6d1c85",
   "metadata": {
    "collapsed": false
   },
   "source": [
    "# Problem 4"
   ]
  },
  {
   "cell_type": "code",
   "execution_count": 460,
   "id": "364c4504005eba26",
   "metadata": {
    "collapsed": false,
    "ExecuteTime": {
     "end_time": "2024-04-04T12:58:17.740161700Z",
     "start_time": "2024-04-04T12:58:17.603526800Z"
    }
   },
   "outputs": [
    {
     "name": "stdout",
     "output_type": "stream",
     "text": [
      "eigenvalue of pertubated A:\n",
      " 1.0000000998996932\n",
      "eigenvector of pertubated A:\n",
      " [0.43884271 0.30264816 0.43883887 0.43883983 0.57503149]\n",
      "Multiplying A' by v':\n",
      " [0.43883901 0.30264819 0.43884246 0.43883986 0.57503154]\n",
      "Multiplying a' by v':\n",
      " [0.43884276 0.30264819 0.43883892 0.43883987 0.57503154]\n"
     ]
    }
   ],
   "source": [
    "alpha = 0.1\n",
    "A_prime = (1 - alpha) * A + 0.2 * alpha * np.ones(A.shape)\n",
    "x = np.random.rand(5)\n",
    "a_prime, v_prime = power_method(A_prime, x)\n",
    "print(\"eigenvalue of pertubated A:\\n\", a_prime)\n",
    "print(\"eigenvector of pertubated A:\\n\", v_prime)\n",
    "print(\"Multiplying A' by v':\\n\", A_prime @ v_prime)\n",
    "print(\"Multiplying a' by v':\\n\", v_prime * a_prime)"
   ]
  },
  {
   "cell_type": "markdown",
   "source": [
    "This pertubation make $A'$ a strictly positve matrix. Therefore, the problem can be solved by power method."
   ],
   "metadata": {
    "collapsed": false
   },
   "id": "410bdafd98beada1"
  },
  {
   "cell_type": "markdown",
   "id": "870df7a28558eacd",
   "metadata": {
    "collapsed": false
   },
   "source": [
    "# Problem 5"
   ]
  },
  {
   "cell_type": "code",
   "execution_count": 398,
   "id": "9f92bcf2f54ff028",
   "metadata": {
    "collapsed": false,
    "ExecuteTime": {
     "end_time": "2024-04-04T11:47:18.679188300Z",
     "start_time": "2024-04-04T11:46:52.612030100Z"
    }
   },
   "outputs": [
    {
     "name": "stdout",
     "output_type": "stream",
     "text": [
      "Ak:\n",
      " [[ 1.          0.          0.          0.          0.        ]\n",
      " [ 0.         -1.          0.          0.          0.        ]\n",
      " [ 0.          0.          1.          0.40825231  0.15160879]\n",
      " [ 0.          0.          0.         -0.50001477 -0.55708601]\n",
      " [ 0.          0.          0.          0.         -0.49998523]]\n",
      "V:\n",
      " [[-0.70710678  0.70710678  0.          0.          0.        ]\n",
      " [ 0.          0.          0.37139068  0.83389703 -0.4082704 ]\n",
      " [-0.70710678 -0.70710678  0.          0.          0.        ]\n",
      " [ 0.          0.          0.55708601  0.15164125  0.81649256]\n",
      " [ 0.          0.          0.74278135 -0.53067945 -0.40823422]]\n",
      "VAkV*:\n",
      " [[0.  0.  1.  0.  0. ]\n",
      " [0.  0.  0.  0.  0.5]\n",
      " [1.  0.  0.  0.  0. ]\n",
      " [0.  0.5 0.  0.  0.5]\n",
      " [0.  0.5 0.  1.  0. ]]\n"
     ]
    }
   ],
   "source": [
    "Ak, V = QR_method(A)\n",
    "product = V @ Ak @ V.conj().T\n",
    "Ak_thresholded = np.where(abs(Ak) < 1e-5, 0, Ak)\n",
    "product_thresholded = np.where(abs(product) < 1e-5, 0, product)\n",
    "print(\"Ak:\\n\", Ak_thresholded)\n",
    "print(\"V:\\n\", V)\n",
    "print(\"VAkV*:\\n\", product_thresholded)"
   ]
  },
  {
   "cell_type": "code",
   "execution_count": 403,
   "id": "2a0de5d6cb058c89",
   "metadata": {
    "collapsed": false,
    "ExecuteTime": {
     "end_time": "2024-04-04T11:51:14.135929Z",
     "start_time": "2024-04-04T11:51:14.083069800Z"
    }
   },
   "outputs": [
    {
     "name": "stdout",
     "output_type": "stream",
     "text": [
      "eigenvalue using numpy.linaly.eig:\n",
      " [ 1.  -1.   1.  -0.5 -0.5]\n",
      "eigenvector using numpy.linaly.eig:\n",
      " [[ 0.70710678  0.70710678  0.          0.          0.        ]\n",
      " [ 0.          0.         -0.37139068  0.70710678  0.70710678]\n",
      " [ 0.70710678 -0.70710678  0.          0.          0.        ]\n",
      " [ 0.          0.         -0.55708601  0.          0.        ]\n",
      " [ 0.          0.         -0.74278135 -0.70710678 -0.70710678]]\n",
      "reconstruction using numpy.linaly.eig:\n",
      " [[0.  0.  1.  0.  0. ]\n",
      " [0.  0.  0.  0.  0.5]\n",
      " [1.  0.  0.  0.  0. ]\n",
      " [0.  0.5 0.  0.  0.5]\n",
      " [0.  0.5 0.  1.  0. ]]\n"
     ]
    }
   ],
   "source": [
    "eig_val, eig_vec = np.linalg.eig(A)\n",
    "product = (eig_vec @ np.diag(eig_val) @ np.linalg.inv(eig_vec)).real\n",
    "product_thresholded = np.where(abs(product) < 1e-5, 0, product)\n",
    "eig_vec = eig_vec.real\n",
    "eig_vec_thresholded = np.where(abs(eig_vec) < 1e-5, 0, eig_vec)\n",
    "print(\"eigenvalue using numpy.linaly.eig:\\n\", eig_val.real)\n",
    "print(\"eigenvector using numpy.linaly.eig:\\n\", eig_vec_thresholded)\n",
    "print(\"reconstruction using numpy.linaly.eig:\\n\", product_thresholded)"
   ]
  },
  {
   "cell_type": "markdown",
   "source": [
    "Both methods can diagonalize A correctly."
   ],
   "metadata": {
    "collapsed": false
   },
   "id": "72b50c07c26649d4"
  }
 ],
 "metadata": {
  "kernelspec": {
   "display_name": "Python 3",
   "language": "python",
   "name": "python3"
  },
  "language_info": {
   "codemirror_mode": {
    "name": "ipython",
    "version": 3
   },
   "file_extension": ".py",
   "mimetype": "text/x-python",
   "name": "python",
   "nbconvert_exporter": "python",
   "pygments_lexer": "ipython3",
   "version": "3.10.12"
  }
 },
 "nbformat": 4,
 "nbformat_minor": 5
}
