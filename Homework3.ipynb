{
 "cells": [
  {
   "cell_type": "markdown",
   "source": [
    "# Exercise 1"
   ],
   "metadata": {
    "collapsed": false
   },
   "id": "b911818c764b7dc2"
  },
  {
   "cell_type": "code",
   "outputs": [],
   "source": [
    "import numpy as np"
   ],
   "metadata": {
    "collapsed": false,
    "ExecuteTime": {
     "start_time": "2024-04-04T09:14:40.688950300Z"
    }
   },
   "id": "22054c870ae6dd17",
   "execution_count": null
  },
  {
   "cell_type": "code",
   "outputs": [],
   "source": [
    "def power_method(A, x, max_iter=100, tol=1e-10):\n",
    "\n",
    "    error = 1\n",
    "    iterations = 0\n",
    "    eigenvalue_estimate = []\n",
    "    while error > tol and iterations < max_iter:\n",
    "        y = A.dot(x)\n",
    "        j = np.argmax(np.abs(y))\n",
    "        if y[j] == 0:\n",
    "            return 0, x\n",
    "        eigenvalue_estimate = y[j]\n",
    "        x_update = y / eigenvalue_estimate\n",
    "        error = np.linalg.norm(x - x_update, np.inf)\n",
    "        x = x_update\n",
    "        iterations += 1\n",
    "    return eigenvalue_estimate, x/np.linalg.norm(x)"
   ],
   "metadata": {
    "collapsed": false,
    "ExecuteTime": {
     "end_time": "2024-04-04T09:14:40.745794Z",
     "start_time": "2024-04-04T09:14:40.692963900Z"
    }
   },
   "id": "79e5a73f91b4517a",
   "execution_count": null
  },
  {
   "cell_type": "code",
   "outputs": [],
   "source": [
    "A = np.random.rand(4, 4)\n",
    "A = (A + A.T) / 2\n",
    "x = np.random.rand(4)"
   ],
   "metadata": {
    "collapsed": false,
    "ExecuteTime": {
     "start_time": "2024-04-04T09:14:40.697929400Z"
    }
   },
   "id": "8b2c923eaf6754b1",
   "execution_count": null
  },
  {
   "cell_type": "code",
   "outputs": [],
   "source": [
    "a, v = power_method(A, x)"
   ],
   "metadata": {
    "collapsed": false,
    "ExecuteTime": {
     "start_time": "2024-04-04T09:14:40.702911400Z"
    }
   },
   "id": "cdcdeeeb73e46ba9",
   "execution_count": null
  },
  {
   "cell_type": "markdown",
   "source": [
    "(i) (ii) v is an eigenvector and is associated to a"
   ],
   "metadata": {
    "collapsed": false
   },
   "id": "cc54c93d2375518d"
  },
  {
   "cell_type": "code",
   "outputs": [],
   "source": [
    "print(\"Eigenvalue a found by Power Method:\\n\", a)\n",
    "print(\"Eigenvector v found by Power Method:\\n\", v)\n",
    "print(\"Multiplying A by v:\\n\", A @ v)\n",
    "print(\"Multiplying a by v:\\n\", v * a)"
   ],
   "metadata": {
    "collapsed": false,
    "ExecuteTime": {
     "start_time": "2024-04-04T09:14:40.707898600Z"
    }
   },
   "id": "81c012edb02988fc",
   "execution_count": null
  },
  {
   "cell_type": "markdown",
   "source": [
    "(iii) divide v by that of numpy.linalg.eig"
   ],
   "metadata": {
    "collapsed": false
   },
   "id": "54426332d9d413b9"
  },
  {
   "cell_type": "code",
   "outputs": [],
   "source": [
    "eig_val, eig_vec = np.linalg.eig(A)\n",
    "principal_index = np.argmax(np.abs(eig_val))\n",
    "print(\"Eigenvalue found by numpy.linalg.eig:\\n\", eig_val[principal_index])\n",
    "print(\"Eigenvector found by numpy.linalg.eig:\\n\", eig_vec[:, principal_index])\n",
    "print(\"Divide v by numpy.linalg.eig:\\n\", v/eig_vec[:, principal_index])"
   ],
   "metadata": {
    "collapsed": false,
    "ExecuteTime": {
     "start_time": "2024-04-04T09:14:40.713881Z"
    }
   },
   "id": "2ca06c0c25811674",
   "execution_count": null
  },
  {
   "cell_type": "markdown",
   "source": [
    "# Exercise 2"
   ],
   "metadata": {
    "collapsed": false
   },
   "id": "af89130e9fd8a685"
  },
  {
   "cell_type": "code",
   "outputs": [],
   "source": [
    "def generate_non_singular_matrix(n):\n",
    "    while True:\n",
    "        A = np.random.rand(n, n)\n",
    "        if np.linalg.det(A) != 0:\n",
    "            return A"
   ],
   "metadata": {
    "collapsed": false,
    "ExecuteTime": {
     "start_time": "2024-04-04T09:14:40.717868700Z"
    }
   },
   "id": "f518e47972f2ec5d",
   "execution_count": null
  },
  {
   "cell_type": "code",
   "outputs": [],
   "source": [
    "def gram_schmidt(A):\n",
    "\n",
    "    n = A.shape[0]\n",
    "    Q = np.zeros((n, n))\n",
    "    R = np.zeros((n, n))\n",
    "\n",
    "    for k in range(n):\n",
    "        Q[:, k] = A[:, k]\n",
    "        for i in range(k):\n",
    "            R[i, k] = np.dot(Q[:, i], A[:, k])\n",
    "            Q[:, k] -= R[i, k] * Q[:, i]\n",
    "        Q[:, k] /= np.linalg.norm(Q[:, k])\n",
    "        R[k, k] = np.dot(Q[:, k], A[:, k])\n",
    "\n",
    "    return Q, R"
   ],
   "metadata": {
    "collapsed": false,
    "ExecuteTime": {
     "start_time": "2024-04-04T09:14:40.721858400Z"
    }
   },
   "id": "69423b86b8d6b71c",
   "execution_count": null
  },
  {
   "cell_type": "code",
   "outputs": [],
   "source": [
    "A = generate_non_singular_matrix(4)\n",
    "Q, R = gram_schmidt(A)"
   ],
   "metadata": {
    "collapsed": false,
    "ExecuteTime": {
     "start_time": "2024-04-04T09:14:40.729838200Z"
    }
   },
   "id": "ca69812f6bfb17a9",
   "execution_count": null
  },
  {
   "cell_type": "markdown",
   "source": [
    "(i) $A = QR$"
   ],
   "metadata": {
    "collapsed": false
   },
   "id": "b8d404d6f6b3ce72"
  },
  {
   "cell_type": "code",
   "outputs": [],
   "source": [
    "print(\"Generated non-singular matrix A:\\n\", A)\n",
    "print(\"Q times R:\\n\", Q @ R)"
   ],
   "metadata": {
    "collapsed": false,
    "ExecuteTime": {
     "start_time": "2024-04-04T09:14:40.733827300Z"
    }
   },
   "id": "715b32a14b285f38",
   "execution_count": null
  },
  {
   "cell_type": "markdown",
   "source": [
    "(ii) $QQ^*=I$"
   ],
   "metadata": {
    "collapsed": false
   },
   "id": "4f2c7e57e7030493"
  },
  {
   "cell_type": "code",
   "outputs": [],
   "source": [
    "result = Q @ Q.T\n",
    "result[np.abs(result) < 1e-5] = 0\n",
    "print(\"Q times Q_transpose:\\n\", result)"
   ],
   "metadata": {
    "collapsed": false,
    "ExecuteTime": {
     "start_time": "2024-04-04T09:14:40.737814900Z"
    }
   },
   "id": "94acd2efdcac1783",
   "execution_count": null
  },
  {
   "cell_type": "markdown",
   "source": [
    "(iii) $R$ is upper triangular"
   ],
   "metadata": {
    "collapsed": false
   },
   "id": "bb1a257dd144e5ef"
  },
  {
   "cell_type": "code",
   "outputs": [],
   "source": [
    "print(\"R:\\n\", R)"
   ],
   "metadata": {
    "collapsed": false,
    "ExecuteTime": {
     "start_time": "2024-04-04T09:14:40.740807400Z"
    }
   },
   "id": "4e47c990bf308c05",
   "execution_count": null
  },
  {
   "cell_type": "markdown",
   "source": [
    "# Exercise 3"
   ],
   "metadata": {
    "collapsed": false
   },
   "id": "858cf9000695210f"
  },
  {
   "cell_type": "code",
   "outputs": [],
   "source": [
    "def permutation(v):\n",
    "    \n",
    "    n = len(v)\n",
    "    P = np.zeros((n, n))\n",
    "    indices = np.argsort(-np.abs(v))\n",
    "    \n",
    "    for i, idx in enumerate(indices):\n",
    "          P[i, idx] = 1\n",
    "        \n",
    "    return P"
   ],
   "metadata": {
    "collapsed": false,
    "ExecuteTime": {
     "start_time": "2024-04-04T09:14:40.744796300Z"
    }
   },
   "id": "9b2f76fec8390cf6",
   "execution_count": null
  },
  {
   "cell_type": "code",
   "outputs": [],
   "source": [
    "v = np.random.rand(4) + 1j * np.random.rand(4)\n",
    "P = permutation(v)\n",
    "print(\"Permuation matrix P:\\n\", P)"
   ],
   "metadata": {
    "collapsed": false,
    "ExecuteTime": {
     "end_time": "2024-04-04T09:14:40.882430200Z",
     "start_time": "2024-04-04T09:14:40.747788700Z"
    }
   },
   "id": "a0652e16b1d2912d",
   "execution_count": null
  },
  {
   "cell_type": "markdown",
   "source": [
    "$Pv\\ $  is a vector with entries having a decreasing module"
   ],
   "metadata": {
    "collapsed": false
   },
   "id": "46ca6b8cd362df81"
  },
  {
   "cell_type": "code",
   "outputs": [],
   "source": [
    "print(\"Modules of Pv:\", np.abs(P @ v))"
   ],
   "metadata": {
    "collapsed": false,
    "ExecuteTime": {
     "start_time": "2024-04-04T09:14:40.750781400Z"
    }
   },
   "id": "a56f3e0bdbd25ed7",
   "execution_count": null
  },
  {
   "cell_type": "markdown",
   "source": [
    "# Exercise 4"
   ],
   "metadata": {
    "collapsed": false
   },
   "id": "1542be109652e49b"
  },
  {
   "cell_type": "code",
   "outputs": [],
   "source": [
    "def QR_method(A, tol=1e-10):\n",
    "    error = tol + 1\n",
    "    Ak = A\n",
    "    Identity_matrix = np.eye(A.shape[0])\n",
    "    V = np.eye(A.shape[0])\n",
    "    while error > tol:\n",
    "        Atmp = Ak\n",
    "        epsilon = np.random.normal(loc=0, scale=1)\n",
    "        Qk, Rk = gram_schmidt(Ak + epsilon * Identity_matrix)\n",
    "        Ak = Rk.dot(Qk) - epsilon * Identity_matrix\n",
    "        P = permutation(np.diag(Ak))\n",
    "        Ak = np.linalg.inv(P).dot(Ak).dot(P)\n",
    "        V = V.dot(Qk).dot(P)\n",
    "        error = np.linalg.norm(np.diag(Ak) - np.diag(Atmp))\n",
    "        \n",
    "    return Ak, V"
   ],
   "metadata": {
    "collapsed": false,
    "ExecuteTime": {
     "start_time": "2024-04-04T09:14:40.753772900Z"
    }
   },
   "id": "46cb53f4f59dbec0",
   "execution_count": null
  },
  {
   "cell_type": "code",
   "outputs": [],
   "source": [
    "A = generate_non_singular_matrix(4)\n",
    "A = (A + A.conj().T) / 2\n",
    "Ak, V = QR_method(A)"
   ],
   "metadata": {
    "collapsed": false,
    "ExecuteTime": {
     "start_time": "2024-04-04T09:14:40.756767400Z"
    }
   },
   "id": "6b6965d44aec085c",
   "execution_count": null
  },
  {
   "cell_type": "markdown",
   "source": [
    "(i) $A_k$ is diagonal when $A$ is Hermitian"
   ],
   "metadata": {
    "collapsed": false
   },
   "id": "5e12bed0b2dfd616"
  },
  {
   "cell_type": "code",
   "outputs": [],
   "source": [
    "Ak[np.abs(Ak) < 1e-5] = 0\n",
    "print(\"Ak:\\n\", Ak)"
   ],
   "metadata": {
    "collapsed": false,
    "ExecuteTime": {
     "start_time": "2024-04-04T09:14:40.761752100Z"
    }
   },
   "id": "720e3e44cda6eb8",
   "execution_count": null
  },
  {
   "cell_type": "markdown",
   "source": [
    "(ii) $VA_{k}V^*=A$"
   ],
   "metadata": {
    "collapsed": false
   },
   "id": "4a42c8d954385e06"
  },
  {
   "cell_type": "code",
   "outputs": [],
   "source": [
    "print(\"VAkV*:\\n\", V @ Ak @ V.conj().T)\n",
    "print(\"A:\\n\", A)"
   ],
   "metadata": {
    "collapsed": false,
    "ExecuteTime": {
     "start_time": "2024-04-04T09:14:40.764743600Z"
    }
   },
   "id": "2acc9b9c6836b99a",
   "execution_count": null
  },
  {
   "cell_type": "markdown",
   "source": [
    "(iii) principal eigenvector of $A$ is the first column of $V$"
   ],
   "metadata": {
    "collapsed": false
   },
   "id": "f8b962fa68348bba"
  },
  {
   "cell_type": "code",
   "outputs": [],
   "source": [
    "x = np.random.rand(4)\n",
    "a, v = power_method(A, x)\n",
    "print(\"the principal eigenvector of A:\\n\", v)\n",
    "print(\"the first column of V:\\n\", V[:,0])"
   ],
   "metadata": {
    "collapsed": false,
    "ExecuteTime": {
     "start_time": "2024-04-04T09:14:40.768732600Z"
    }
   },
   "id": "393bf14a628fc22f",
   "execution_count": null
  },
  {
   "cell_type": "markdown",
   "source": [
    "# Problem 1"
   ],
   "metadata": {
    "collapsed": false
   },
   "id": "4b46dfa4e06e6e96"
  },
  {
   "cell_type": "code",
   "outputs": [],
   "source": [
    "A = np.array([\n",
    "    [0, 0, 1, 0, 0],\n",
    "    [0, 0, 0, 0, 0.5],\n",
    "    [1, 0, 0, 0, 0],\n",
    "    [0, 0.5, 0, 0, 0.5],\n",
    "    [0, 0.5, 0, 1, 0]    \n",
    "])\n",
    "for i in range(10):\n",
    "    x = np.random.rand(5)\n",
    "    a, v = power_method(A, x)\n",
    "    print(\"trial\", i+1)\n",
    "    print(\"Multiplying A by v:\\n\", A @ v)\n",
    "    print(\"Multiplying a by v:\\n\", v * a)\n",
    "    print(\"\\n\")"
   ],
   "metadata": {
    "collapsed": false,
    "ExecuteTime": {
     "start_time": "2024-04-04T09:14:40.770763700Z"
    }
   },
   "id": "62aa94932603e91a",
   "execution_count": null
  },
  {
   "cell_type": "markdown",
   "source": [
    "Observation: only the second, fourth, and fifth entries are correspondent.\n",
    "v is not the real eigenvector."
   ],
   "metadata": {
    "collapsed": false
   },
   "id": "f7fe2aacff5b4e44"
  },
  {
   "cell_type": "markdown",
   "source": [
    "# Problem 2"
   ],
   "metadata": {
    "collapsed": false
   },
   "id": "d6464f1a7fb92fa7"
  },
  {
   "cell_type": "code",
   "outputs": [],
   "source": [
    "x1 = np.array([0, 0.57, 0, 0.57, 0.57])\n",
    "x2 = np.array([0.7, 0, 0.7, 0, 0])\n",
    "a1, v1 = power_method(A, x1)\n",
    "a2, v2 = power_method(A, x2)\n",
    "print(\"Multiplying A by v1:\\n\", A.dot(v1))\n",
    "print(\"Multiplying a1 by v1:\\n\", v1 * a1)\n",
    "print(\"\\n\")\n",
    "print(\"Multiplying A by v2:\\n\", A.dot(v2))\n",
    "print(\"Multiplying a1 by v2:\\n\", v2 * a2)"
   ],
   "metadata": {
    "collapsed": false,
    "ExecuteTime": {
     "start_time": "2024-04-04T09:14:40.773725700Z"
    }
   },
   "id": "e7beae5b6c98e62b",
   "execution_count": null
  },
  {
   "cell_type": "markdown",
   "source": [
    "# Problem 3"
   ],
   "metadata": {
    "collapsed": false
   },
   "id": "b18512b0ab71dc19"
  },
  {
   "cell_type": "markdown",
   "source": [
    "# Problem 4"
   ],
   "metadata": {
    "collapsed": false
   },
   "id": "73d02c793b6d1c85"
  },
  {
   "cell_type": "code",
   "outputs": [],
   "source": [
    "alpha = 0.1\n",
    "A_prime = (1 - alpha) * A + 0.2 * alpha * np.ones(A.shape)\n",
    "x = np.random.rand(5)\n",
    "a_prime, v_prime = power_method(A_prime, x)\n",
    "print(\"Multiplying A' by v':\\n\", A_prime.dot(v_prime))\n",
    "print(\"Multiplying a' by v':\\n\", v_prime * a_prime)"
   ],
   "metadata": {
    "collapsed": false,
    "ExecuteTime": {
     "start_time": "2024-04-04T09:14:40.777711100Z"
    }
   },
   "id": "364c4504005eba26",
   "execution_count": null
  },
  {
   "cell_type": "markdown",
   "source": [
    "# Problem 5"
   ],
   "metadata": {
    "collapsed": false
   },
   "id": "870df7a28558eacd"
  },
  {
   "cell_type": "code",
   "outputs": [],
   "source": [
    "Ak, V = QR_method(A)\n",
    "print(\"Ak:\\n\", Ak)"
   ],
   "metadata": {
    "collapsed": false,
    "ExecuteTime": {
     "start_time": "2024-04-04T09:14:40.780704300Z"
    }
   },
   "id": "9f92bcf2f54ff028",
   "execution_count": null
  },
  {
   "cell_type": "code",
   "outputs": [],
   "source": [],
   "metadata": {
    "collapsed": false,
    "ExecuteTime": {
     "start_time": "2024-04-04T09:14:40.782697500Z"
    }
   },
   "id": "2a0de5d6cb058c89",
   "execution_count": null
  }
 ],
 "metadata": {
  "kernelspec": {
   "display_name": "Python 3",
   "language": "python",
   "name": "python3"
  },
  "language_info": {
   "codemirror_mode": {
    "name": "ipython",
    "version": 2
   },
   "file_extension": ".py",
   "mimetype": "text/x-python",
   "name": "python",
   "nbconvert_exporter": "python",
   "pygments_lexer": "ipython2",
   "version": "2.7.6"
  }
 },
 "nbformat": 4,
 "nbformat_minor": 5
}
