{
 "cells": [
  {
   "cell_type": "markdown",
   "source": [
    "# Exercise 4"
   ],
   "metadata": {
    "collapsed": false
   },
   "id": "2fdf6af010e938ed"
  },
  {
   "cell_type": "code",
   "outputs": [],
   "source": [
    "import numpy as np"
   ],
   "metadata": {
    "collapsed": true,
    "ExecuteTime": {
     "end_time": "2024-03-29T15:47:06.583456800Z",
     "start_time": "2024-03-29T15:47:06.519627800Z"
    }
   },
   "id": "initial_id",
   "execution_count": 187
  },
  {
   "cell_type": "code",
   "outputs": [],
   "source": [
    "def power_method(A, x, max_iter=100, tol=1e-8):\n",
    "    error = 1\n",
    "    iterations = 0\n",
    "    eigenvalue_estimate = []\n",
    "    while error > tol and iterations < max_iter:\n",
    "        y = A.dot(x)\n",
    "        j = np.argmax(np.abs(y))\n",
    "        if y[j] == 0:\n",
    "            return 0, x\n",
    "        eigenvalue_estimate = y[j]\n",
    "        x_update = y / eigenvalue_estimate\n",
    "        error = np.linalg.norm(x - x_update, np.inf)\n",
    "        x = x_update\n",
    "        iterations += 1\n",
    "    return eigenvalue_estimate, x / np.linalg.norm(x)"
   ],
   "metadata": {
    "collapsed": false,
    "ExecuteTime": {
     "end_time": "2024-03-29T15:47:06.603403400Z",
     "start_time": "2024-03-29T15:47:06.592434500Z"
    }
   },
   "id": "f8c9b600c3d26e5d",
   "execution_count": 188
  },
  {
   "cell_type": "code",
   "outputs": [],
   "source": [
    "def generate_non_singular_matrix(n):\n",
    "    while True:\n",
    "        A = np.random.rand(n, n)\n",
    "        if np.linalg.det(A) != 0:\n",
    "            return A"
   ],
   "metadata": {
    "collapsed": false,
    "ExecuteTime": {
     "end_time": "2024-03-29T15:47:06.648284500Z",
     "start_time": "2024-03-29T15:47:06.608390900Z"
    }
   },
   "id": "99000659860a804c",
   "execution_count": 189
  },
  {
   "cell_type": "code",
   "outputs": [],
   "source": [
    "def gram_schmidt(A):\n",
    "\n",
    "    n = A.shape[0]\n",
    "    Q = np.zeros((n, n))\n",
    "    R = np.zeros((n, n))\n",
    "\n",
    "    for k in range(n):\n",
    "        Q[:, k] = A[:, k]\n",
    "        for i in range(k):\n",
    "            R[i, k] = np.dot(Q[:, i], A[:, k])\n",
    "            Q[:, k] -= R[i, k] * Q[:, i]\n",
    "        Q[:, k] /= np.linalg.norm(Q[:, k])\n",
    "        R[k, k] = np.dot(Q[:, k], A[:, k])\n",
    "\n",
    "    return Q, R"
   ],
   "metadata": {
    "collapsed": false,
    "ExecuteTime": {
     "end_time": "2024-03-29T15:47:06.649282900Z",
     "start_time": "2024-03-29T15:47:06.632327900Z"
    }
   },
   "id": "3de38f1ba01dfe30",
   "execution_count": 190
  },
  {
   "cell_type": "code",
   "outputs": [],
   "source": [
    "def permutation(v):\n",
    "    \n",
    "    n = len(v)\n",
    "    P = np.zeros((n, n))\n",
    "    indices = np.argsort(-np.abs(v))\n",
    "    \n",
    "    for i, idx in enumerate(indices):\n",
    "          P[i, idx] = 1\n",
    "        \n",
    "    return P"
   ],
   "metadata": {
    "collapsed": false,
    "ExecuteTime": {
     "end_time": "2024-03-29T15:47:06.698149700Z",
     "start_time": "2024-03-29T15:47:06.643297Z"
    }
   },
   "id": "af1da6d11cbb971c",
   "execution_count": 191
  },
  {
   "cell_type": "code",
   "outputs": [],
   "source": [
    "def QR_method(A, tol=1e-8):\n",
    "    error = tol + 1\n",
    "    Ak = A\n",
    "    Identity_matrix = np.eye(A.shape[0])\n",
    "    V = np.eye(A.shape[0])\n",
    "    while error > tol:\n",
    "        Atmp = Ak\n",
    "        epsilon = np.random.normal(loc=0, scale=1)\n",
    "        Qk, Rk = gram_schmidt(Ak + epsilon * Identity_matrix)\n",
    "        Ak = Rk.dot(Qk) - epsilon * Identity_matrix\n",
    "        P = permutation(np.diag(Ak))\n",
    "        Ak = np.linalg.inv(P).dot(Ak).dot(P)\n",
    "        V = V.dot(Qk).dot(P)\n",
    "        error = np.linalg.norm(np.diag(Ak) - np.diag(Atmp))\n",
    "        \n",
    "    return Ak, V"
   ],
   "metadata": {
    "collapsed": false,
    "ExecuteTime": {
     "end_time": "2024-03-29T15:47:06.699147800Z",
     "start_time": "2024-03-29T15:47:06.661257100Z"
    }
   },
   "id": "aeadf105c891bb17",
   "execution_count": 192
  },
  {
   "cell_type": "code",
   "outputs": [],
   "source": [
    "A = generate_non_singular_matrix(4)\n",
    "A = (A + A.conj().T) / 2"
   ],
   "metadata": {
    "collapsed": false,
    "ExecuteTime": {
     "end_time": "2024-03-29T15:47:06.700144400Z",
     "start_time": "2024-03-29T15:47:06.676210100Z"
    }
   },
   "id": "8e4bfe06ff3d9efd",
   "execution_count": 193
  },
  {
   "cell_type": "code",
   "outputs": [],
   "source": [
    "Ak, V = QR_method(A)"
   ],
   "metadata": {
    "collapsed": false,
    "ExecuteTime": {
     "end_time": "2024-03-29T15:47:06.723083Z",
     "start_time": "2024-03-29T15:47:06.705131600Z"
    }
   },
   "id": "5c50f8bb0487201",
   "execution_count": 194
  },
  {
   "cell_type": "markdown",
   "source": [
    "(i) $A_k$ is diagonal when $A$ is Hermitian"
   ],
   "metadata": {
    "collapsed": false
   },
   "id": "8a78d31f6b8cfbb9"
  },
  {
   "cell_type": "code",
   "outputs": [
    {
     "name": "stdout",
     "output_type": "stream",
     "text": [
      "Ak:\n",
      " [[ 2.54214563e+00 -2.61090516e-16  2.61996367e-16  7.49848323e-16]\n",
      " [ 3.96086190e-16  5.52013104e-01 -1.34938448e-06  1.23866487e-05]\n",
      " [-5.30575897e-22 -1.34938448e-06 -4.55093220e-01  9.21429498e-06]\n",
      " [ 8.49505247e-21  1.23866487e-05  9.21429498e-06 -2.35424509e-02]]\n"
     ]
    }
   ],
   "source": [
    "print(\"Ak:\\n\", Ak)"
   ],
   "metadata": {
    "collapsed": false,
    "ExecuteTime": {
     "end_time": "2024-03-29T15:47:06.760982500Z",
     "start_time": "2024-03-29T15:47:06.727084600Z"
    }
   },
   "id": "b3ada80af3a736e3",
   "execution_count": 195
  },
  {
   "cell_type": "markdown",
   "source": [
    "(ii) $VA_{k}V^*=A$"
   ],
   "metadata": {
    "collapsed": false
   },
   "id": "449de0ae86df6d90"
  },
  {
   "cell_type": "code",
   "outputs": [
    {
     "name": "stdout",
     "output_type": "stream",
     "text": [
      "VAkV*:\n",
      " [[0.98566614 0.65769813 0.28809191 0.45273866]\n",
      " [0.65769813 0.94560826 0.5514703  0.92066141]\n",
      " [0.28809191 0.5514703  0.21985299 0.74183204]\n",
      " [0.45273866 0.92066141 0.74183204 0.46439567]]\n",
      "A:\n",
      " [[0.98566614 0.65769813 0.28809191 0.45273866]\n",
      " [0.65769813 0.94560826 0.5514703  0.92066141]\n",
      " [0.28809191 0.5514703  0.21985299 0.74183204]\n",
      " [0.45273866 0.92066141 0.74183204 0.46439567]]\n"
     ]
    }
   ],
   "source": [
    "print(\"VAkV*:\\n\", V.dot(Ak).dot(V.conj().T))\n",
    "print(\"A:\\n\", A)"
   ],
   "metadata": {
    "collapsed": false,
    "ExecuteTime": {
     "end_time": "2024-03-29T15:47:06.763973700Z",
     "start_time": "2024-03-29T15:47:06.738046300Z"
    }
   },
   "id": "c2e03e3f43d015f0",
   "execution_count": 196
  },
  {
   "cell_type": "markdown",
   "source": [
    "(iii) principal eigenvector of $A$ is the first column of $V$"
   ],
   "metadata": {
    "collapsed": false
   },
   "id": "9e76a63814f5d5d7"
  },
  {
   "cell_type": "code",
   "outputs": [
    {
     "name": "stdout",
     "output_type": "stream",
     "text": [
      "the principal eigenvector of A:\n",
      " [0.47626106 0.61623815 0.3677362  0.50812994]\n",
      "the first column of V:\n",
      " [0.47626106 0.61623815 0.3677362  0.50812994]\n"
     ]
    }
   ],
   "source": [
    "x = np.random.rand(4)\n",
    "a, v = power_method(A, x)\n",
    "print(\"the principal eigenvector of A:\\n\", v)\n",
    "print(\"the first column of V:\\n\", V[:,0])"
   ],
   "metadata": {
    "collapsed": false,
    "ExecuteTime": {
     "end_time": "2024-03-29T15:47:06.766972300Z",
     "start_time": "2024-03-29T15:47:06.751009200Z"
    }
   },
   "id": "84631d80ba470797",
   "execution_count": 197
  }
 ],
 "metadata": {
  "kernelspec": {
   "display_name": "Python 3",
   "language": "python",
   "name": "python3"
  },
  "language_info": {
   "codemirror_mode": {
    "name": "ipython",
    "version": 2
   },
   "file_extension": ".py",
   "mimetype": "text/x-python",
   "name": "python",
   "nbconvert_exporter": "python",
   "pygments_lexer": "ipython2",
   "version": "2.7.6"
  }
 },
 "nbformat": 4,
 "nbformat_minor": 5
}
