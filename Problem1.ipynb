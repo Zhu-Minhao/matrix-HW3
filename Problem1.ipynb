{
 "cells": [
  {
   "cell_type": "markdown",
   "source": [
    "# Page Rank"
   ],
   "metadata": {
    "collapsed": false
   },
   "id": "e96bbd8dd1855f78"
  },
  {
   "cell_type": "code",
   "outputs": [],
   "source": [
    "import numpy as np"
   ],
   "metadata": {
    "collapsed": false,
    "ExecuteTime": {
     "end_time": "2024-03-29T17:25:17.992106700Z",
     "start_time": "2024-03-29T17:25:17.936228300Z"
    }
   },
   "id": "62bfc1c4df8ed4c0",
   "execution_count": 339
  },
  {
   "cell_type": "code",
   "outputs": [],
   "source": [
    "def power_method(A, x, max_iter=100, tol=1e-8):\n",
    "\n",
    "    error = 1\n",
    "    iterations = 0\n",
    "    eigenvalue_estimate = []\n",
    "    while error > tol and iterations < max_iter:\n",
    "        y = A.dot(x)\n",
    "        j = np.argmax(np.abs(y))\n",
    "        if y[j] == 0:\n",
    "            return 0, x\n",
    "        eigenvalue_estimate = y[j]\n",
    "        x_update = y / eigenvalue_estimate\n",
    "        error = np.linalg.norm(x - x_update, np.inf)\n",
    "        x = x_update\n",
    "        iterations += 1\n",
    "    return eigenvalue_estimate, x/np.linalg.norm(x)"
   ],
   "metadata": {
    "collapsed": false,
    "ExecuteTime": {
     "end_time": "2024-03-29T17:25:18.011027900Z",
     "start_time": "2024-03-29T17:25:18.000110200Z"
    }
   },
   "id": "be5209d4cf451fd1",
   "execution_count": 340
  },
  {
   "cell_type": "code",
   "outputs": [],
   "source": [
    "def gram_schmidt(A):\n",
    "    n = A.shape[0]\n",
    "    Q = np.zeros((n, n))\n",
    "    R = np.zeros((n, n))\n",
    "\n",
    "    for k in range(n):\n",
    "        Q[:, k] = A[:, k]\n",
    "        for i in range(k):\n",
    "            R[i, k] = np.dot(Q[:, i], A[:, k])\n",
    "            Q[:, k] -= R[i, k] * Q[:, i]\n",
    "        Q[:, k] /= np.linalg.norm(Q[:, k])\n",
    "        R[k, k] = np.dot(Q[:, k], A[:, k])\n",
    "\n",
    "    return Q, R"
   ],
   "metadata": {
    "collapsed": false,
    "ExecuteTime": {
     "end_time": "2024-03-29T17:25:18.045933900Z",
     "start_time": "2024-03-29T17:25:18.014020400Z"
    }
   },
   "id": "55223f77ec7742ec",
   "execution_count": 341
  },
  {
   "cell_type": "code",
   "outputs": [],
   "source": [
    "def permutation(v):\n",
    "    n = len(v)\n",
    "    P = np.zeros((n, n))\n",
    "    indices = np.argsort(-np.abs(v))\n",
    "\n",
    "    for i, idx in enumerate(indices):\n",
    "        P[i, idx] = 1\n",
    "\n",
    "    return P"
   ],
   "metadata": {
    "collapsed": false,
    "ExecuteTime": {
     "end_time": "2024-03-29T17:25:18.054912600Z",
     "start_time": "2024-03-29T17:25:18.037956900Z"
    }
   },
   "id": "ccf3515c1b658863",
   "execution_count": 342
  },
  {
   "cell_type": "code",
   "outputs": [],
   "source": [
    "def QR_method(A, tol=1e-8):\n",
    "    error = tol + 1\n",
    "    Ak = A\n",
    "    Identity_matrix = np.eye(A.shape[0])\n",
    "    V = np.eye(A.shape[0])\n",
    "    while error > tol:\n",
    "        Atmp = Ak\n",
    "        epsilon = np.random.normal(loc=0, scale=1)\n",
    "        Qk, Rk = gram_schmidt(Ak + epsilon * Identity_matrix)\n",
    "        Ak = Rk.dot(Qk) - epsilon * Identity_matrix\n",
    "        P = permutation(np.diag(Ak))\n",
    "        Ak = np.linalg.inv(P).dot(Ak).dot(P)\n",
    "        V = V.dot(Qk).dot(P)\n",
    "        error = np.linalg.norm(np.diag(Ak) - np.diag(Atmp))\n",
    "        \n",
    "    return Ak, V"
   ],
   "metadata": {
    "collapsed": false,
    "ExecuteTime": {
     "end_time": "2024-03-29T17:25:18.108479800Z",
     "start_time": "2024-03-29T17:25:18.053915500Z"
    }
   },
   "id": "a69af1da7b32b2c0",
   "execution_count": 343
  },
  {
   "cell_type": "code",
   "outputs": [],
   "source": [
    "A = np.array([\n",
    "    [0, 0, 1, 0, 0],\n",
    "    [0, 0, 0, 0, 0.5],\n",
    "    [1, 0, 0, 0, 0],\n",
    "    [0, 0.5, 0, 0, 0.5],\n",
    "    [0, 0.5, 0, 1, 0]    \n",
    "])"
   ],
   "metadata": {
    "collapsed": false,
    "ExecuteTime": {
     "end_time": "2024-03-29T17:25:18.109480700Z",
     "start_time": "2024-03-29T17:25:18.068875800Z"
    }
   },
   "id": "180f37ae1991409e",
   "execution_count": 344
  },
  {
   "cell_type": "markdown",
   "source": [
    "# Problem 1"
   ],
   "metadata": {
    "collapsed": false
   },
   "id": "e033dbafd461f185"
  },
  {
   "cell_type": "code",
   "outputs": [
    {
     "name": "stdout",
     "output_type": "stream",
     "text": [
      "trial 1\n",
      "Multiplying A by v:\n",
      " [0.86538371 0.12202228 0.37836836 0.18303342 0.24404456]\n",
      "Multiplying a by v:\n",
      " [0.37836836 0.12202228 0.86538371 0.18303342 0.24404456]\n",
      "\n",
      "\n",
      "trial 2\n",
      "Multiplying A by v:\n",
      " [0.29325278 0.34727068 0.19918616 0.52090601 0.69454135]\n",
      "Multiplying a by v:\n",
      " [0.19918616 0.34727068 0.29325278 0.52090601 0.69454135]\n",
      "\n",
      "\n",
      "trial 3\n",
      "Multiplying A by v:\n",
      " [0.21300374 0.36243991 0.04743341 0.54365986 0.72487981]\n",
      "Multiplying a by v:\n",
      " [0.04743341 0.36243991 0.21300374 0.54365986 0.72487981]\n",
      "\n",
      "\n",
      "trial 4\n",
      "Multiplying A by v:\n",
      " [0.37024001 0.27329671 0.56693201 0.40994507 0.54659343]\n",
      "Multiplying a by v:\n",
      " [0.56693201 0.27329671 0.37024001 0.40994507 0.54659343]\n",
      "\n",
      "\n",
      "trial 5\n",
      "Multiplying A by v:\n",
      " [0.31436865 0.24472344 0.68335424 0.36708516 0.48944688]\n",
      "Multiplying a by v:\n",
      " [0.68335424 0.24472344 0.31436865 0.36708516 0.48944688]\n",
      "\n",
      "\n",
      "trial 6\n",
      "Multiplying A by v:\n",
      " [0.09841307 0.36936286 0.03471593 0.55404429 0.73872571]\n",
      "Multiplying a by v:\n",
      " [0.03471593 0.36936286 0.09841307 0.55404429 0.73872571]\n",
      "\n",
      "\n",
      "trial 7\n",
      "Multiplying A by v:\n",
      " [0.17899957 0.34225984 0.34450127 0.51338976 0.68451968]\n",
      "Multiplying a by v:\n",
      " [0.34450127 0.34225984 0.17899957 0.51338976 0.68451968]\n",
      "\n",
      "\n",
      "trial 8\n",
      "Multiplying A by v:\n",
      " [0.47459771 0.31521862 0.23318848 0.47282793 0.63043724]\n",
      "Multiplying a by v:\n",
      " [0.23318848 0.31521862 0.47459771 0.47282793 0.63043724]\n",
      "\n",
      "\n",
      "trial 9\n",
      "Multiplying A by v:\n",
      " [0.59131238 0.2596839  0.40179675 0.38952586 0.51936781]\n",
      "Multiplying a by v:\n",
      " [0.40179675 0.2596839  0.59131238 0.38952586 0.51936781]\n",
      "\n",
      "\n",
      "trial 10\n",
      "Multiplying A by v:\n",
      " [0.49846041 0.23138612 0.60280643 0.34707917 0.46277223]\n",
      "Multiplying a by v:\n",
      " [0.60280643 0.23138612 0.49846041 0.34707917 0.46277223]\n"
     ]
    }
   ],
   "source": [
    "for i in range(10):\n",
    "    x = np.random.rand(5)\n",
    "    a, v = power_method(A, x)\n",
    "    print(\"trial\", i+1)\n",
    "    print(\"Multiplying A by v:\\n\", A.dot(v))\n",
    "    print(\"Multiplying a by v:\\n\", v * a)\n",
    "    print(\"\\n\")"
   ],
   "metadata": {
    "collapsed": false,
    "ExecuteTime": {
     "end_time": "2024-03-29T17:25:18.195220200Z",
     "start_time": "2024-03-29T17:25:18.082524300Z"
    }
   },
   "id": "c54afba68b8c7a6c",
   "execution_count": 345
  },
  {
   "cell_type": "markdown",
   "source": [
    "Observation: only the second, fourth, and fifth entries are correspondent"
   ],
   "metadata": {
    "collapsed": false
   },
   "id": "620d5274d806bcfc"
  },
  {
   "cell_type": "markdown",
   "source": [
    "# Problem 2"
   ],
   "metadata": {
    "collapsed": false
   },
   "id": "7c15bbc6b1ddfc7a"
  },
  {
   "cell_type": "code",
   "outputs": [],
   "source": [
    "x1 = np.array([0, 0.57, 0, 0.57, 0.57])\n",
    "x2 = np.array([0.7, 0, 0.7, 0, 0])\n",
    "a1, v1 = power_method(A, x1)\n",
    "a2, v2 = power_method(A, x2)"
   ],
   "metadata": {
    "collapsed": false,
    "ExecuteTime": {
     "end_time": "2024-03-29T17:25:18.195220200Z",
     "start_time": "2024-03-29T17:25:18.118427500Z"
    }
   },
   "id": "ba708b91c8361d5f",
   "execution_count": 346
  },
  {
   "cell_type": "code",
   "outputs": [
    {
     "name": "stdout",
     "output_type": "stream",
     "text": [
      "Multiplying A by v1:\n",
      " [0.         0.37139068 0.         0.55708601 0.74278135]\n",
      "Multiplying a1 by v1:\n",
      " [0.         0.37139068 0.         0.55708602 0.74278136]\n",
      "\n",
      "\n",
      "Multiplying A by v2:\n",
      " [0.70710678 0.         0.70710678 0.         0.        ]\n",
      "Multiplying a1 by v2:\n",
      " [0.70710678 0.         0.70710678 0.         0.        ]\n"
     ]
    }
   ],
   "source": [
    "print(\"Multiplying A by v1:\\n\", A.dot(v1))\n",
    "print(\"Multiplying a1 by v1:\\n\", v1 * a1)\n",
    "print(\"\\n\")\n",
    "print(\"Multiplying A by v2:\\n\", A.dot(v2))\n",
    "print(\"Multiplying a1 by v2:\\n\", v2 * a2)"
   ],
   "metadata": {
    "collapsed": false,
    "ExecuteTime": {
     "end_time": "2024-03-29T17:25:18.197214400Z",
     "start_time": "2024-03-29T17:25:18.133389600Z"
    }
   },
   "id": "28bc5fdecf90951c",
   "execution_count": 347
  },
  {
   "cell_type": "markdown",
   "source": [
    "# Problem 3"
   ],
   "metadata": {
    "collapsed": false
   },
   "id": "c6f1df64c4128f21"
  },
  {
   "cell_type": "markdown",
   "source": [
    "leave it blank..."
   ],
   "metadata": {
    "collapsed": false
   },
   "id": "4631dfbb1c4e90ba"
  },
  {
   "cell_type": "markdown",
   "source": [
    "# Problem 4"
   ],
   "metadata": {
    "collapsed": false
   },
   "id": "99152ffb9532cf3d"
  },
  {
   "cell_type": "code",
   "outputs": [],
   "source": [
    "alpha = np.random.rand()\n",
    "A_prime = (1 - alpha) * A + 0.2 * alpha * np.ones(A.shape)\n",
    "x = np.random.rand(5)"
   ],
   "metadata": {
    "collapsed": false,
    "ExecuteTime": {
     "end_time": "2024-03-29T17:25:18.250074200Z",
     "start_time": "2024-03-29T17:25:18.147347900Z"
    }
   },
   "id": "f0790528547ee138",
   "execution_count": 348
  },
  {
   "cell_type": "code",
   "outputs": [
    {
     "name": "stdout",
     "output_type": "stream",
     "text": [
      "Multiplying A by v':\n",
      " [0.44148141 0.32863018 0.44148141 0.44148142 0.55433265]\n",
      "Multiplying a' by v':\n",
      " [0.44148141 0.32863018 0.44148141 0.44148141 0.55433265]\n"
     ]
    }
   ],
   "source": [
    "a_prime, v_prime = power_method(A_prime, x)\n",
    "print(\"Multiplying A by v':\\n\", A_prime.dot(v_prime))\n",
    "print(\"Multiplying a' by v':\\n\", v_prime * a_prime)"
   ],
   "metadata": {
    "collapsed": false,
    "ExecuteTime": {
     "end_time": "2024-03-29T17:25:18.251071700Z",
     "start_time": "2024-03-29T17:25:18.162307900Z"
    }
   },
   "id": "a34ba74cdaaaeaf7",
   "execution_count": 349
  },
  {
   "cell_type": "markdown",
   "source": [
    "what difference?"
   ],
   "metadata": {
    "collapsed": false
   },
   "id": "f12046275a4bf15f"
  },
  {
   "cell_type": "markdown",
   "source": [
    "# Problem 5"
   ],
   "metadata": {
    "collapsed": false
   },
   "id": "b47f9540f85f1f5a"
  },
  {
   "cell_type": "code",
   "outputs": [
    {
     "name": "stdout",
     "output_type": "stream",
     "text": [
      "Ak:\n",
      " [[ 1.00000000e+00  0.00000000e+00 -2.60583193e-13  0.00000000e+00\n",
      "   0.00000000e+00]\n",
      " [ 0.00000000e+00  1.00000000e+00  0.00000000e+00 -4.08250694e-01\n",
      "   1.51613143e-01]\n",
      " [ 9.97834603e-20  0.00000000e+00 -1.00000000e+00  0.00000000e+00\n",
      "   0.00000000e+00]\n",
      " [ 0.00000000e+00  0.00000000e+00  0.00000000e+00 -5.00008831e-01\n",
      "   5.57086014e-01]\n",
      " [ 0.00000000e+00  0.00000000e+00  0.00000000e+00 -1.74183059e-10\n",
      "  -4.99991177e-01]]\n"
     ]
    }
   ],
   "source": [
    "Ak, V = QR_method(A)\n",
    "print(\"Ak:\\n\", Ak)"
   ],
   "metadata": {
    "collapsed": false,
    "ExecuteTime": {
     "end_time": "2024-03-29T17:28:13.975018700Z",
     "start_time": "2024-03-29T17:28:09.222881700Z"
    }
   },
   "id": "ac1082bc42379bdb",
   "execution_count": 358
  },
  {
   "cell_type": "code",
   "outputs": [
    {
     "name": "stdout",
     "output_type": "stream",
     "text": [
      "diagonalization of A using numpy.linaly.eig:\n",
      " [[ 1.01465364e-17+0.00000000e+00j  0.00000000e+00+0.00000000e+00j\n",
      "   1.00000000e+00+0.00000000e+00j  0.00000000e+00+0.00000000e+00j\n",
      "   0.00000000e+00+0.00000000e+00j]\n",
      " [ 0.00000000e+00+0.00000000e+00j  6.05135015e-16+7.91605811e-10j\n",
      "   0.00000000e+00+0.00000000e+00j  5.15287719e-16-2.66122606e-10j\n",
      "   5.00000000e-01+2.46049678e-10j]\n",
      " [ 1.00000000e+00+0.00000000e+00j  0.00000000e+00+0.00000000e+00j\n",
      "   1.01465364e-17+0.00000000e+00j  0.00000000e+00+0.00000000e+00j\n",
      "   0.00000000e+00+0.00000000e+00j]\n",
      " [ 0.00000000e+00+0.00000000e+00j  5.00000000e-01-1.50086023e-09j\n",
      "   0.00000000e+00+0.00000000e+00j  1.66533454e-16+3.00172047e-09j\n",
      "   5.00000000e-01-1.50086023e-09j]\n",
      " [ 0.00000000e+00+0.00000000e+00j  5.00000000e-01-2.72268825e-09j\n",
      "   0.00000000e+00+0.00000000e+00j  1.00000000e+00+5.99093264e-09j\n",
      "  -5.27355937e-16-3.10845469e-09j]]\n"
     ]
    }
   ],
   "source": [
    "eig_val, eig_vec = np.linalg.eig(A)\n",
    "print(\"diagonalization of A using numpy.linaly.eig:\\n\", eig_vec @ np.diag(eig_val) @ np.linalg.inv(eig_vec))"
   ],
   "metadata": {
    "collapsed": false,
    "ExecuteTime": {
     "end_time": "2024-03-29T17:28:14.014930900Z",
     "start_time": "2024-03-29T17:28:13.981003200Z"
    }
   },
   "id": "a7f98e2834fcc662",
   "execution_count": 359
  }
 ],
 "metadata": {
  "kernelspec": {
   "display_name": "Python 3",
   "language": "python",
   "name": "python3"
  },
  "language_info": {
   "codemirror_mode": {
    "name": "ipython",
    "version": 2
   },
   "file_extension": ".py",
   "mimetype": "text/x-python",
   "name": "python",
   "nbconvert_exporter": "python",
   "pygments_lexer": "ipython2",
   "version": "2.7.6"
  }
 },
 "nbformat": 4,
 "nbformat_minor": 5
}
