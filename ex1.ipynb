{
 "cells": [
  {
   "cell_type": "markdown",
   "source": [
    "# Import packages"
   ],
   "metadata": {
    "collapsed": false
   },
   "id": "c2ab6080dae4d859"
  },
  {
   "cell_type": "code",
   "execution_count": 58,
   "id": "initial_id",
   "metadata": {
    "collapsed": true,
    "ExecuteTime": {
     "end_time": "2024-03-29T11:43:16.168784100Z",
     "start_time": "2024-03-29T11:43:16.062451700Z"
    }
   },
   "outputs": [],
   "source": [
    "import numpy as np"
   ]
  },
  {
   "cell_type": "code",
   "outputs": [],
   "source": [
    "def power_method(A, x, max_iter=1000, tol=1e-6):\n",
    "\n",
    "    x /= np.linalg.norm(x, np.inf)\n",
    "    error = 1\n",
    "    iterations = 0\n",
    "    eigenvalue_estimate = []\n",
    "    while error > tol and iterations < max_iter:\n",
    "        y = A.dot(x)\n",
    "        j = np.argmax(np.abs(y))\n",
    "        if y[j] == 0:\n",
    "            return 0, x\n",
    "        eigenvalue_estimate = y[j]\n",
    "        x_update = y / eigenvalue_estimate\n",
    "        error = np.linalg.norm(x - x_update, np.inf)\n",
    "        x = x_update\n",
    "        iterations += 1\n",
    "    return eigenvalue_estimate, x"
   ],
   "metadata": {
    "collapsed": false,
    "ExecuteTime": {
     "end_time": "2024-03-29T11:43:16.170780900Z",
     "start_time": "2024-03-29T11:43:16.086011500Z"
    }
   },
   "id": "c99e32999e7e59ba",
   "execution_count": 59
  },
  {
   "cell_type": "code",
   "outputs": [],
   "source": [
    "A = np.random.rand(4, 4)\n",
    "A = (A + A.T) / 2\n",
    "x = np.random.rand(4)"
   ],
   "metadata": {
    "collapsed": false,
    "ExecuteTime": {
     "end_time": "2024-03-29T12:03:02.521660200Z",
     "start_time": "2024-03-29T12:03:02.495727300Z"
    }
   },
   "id": "9b509eec64567b2a",
   "execution_count": 70
  },
  {
   "cell_type": "code",
   "outputs": [],
   "source": [
    "a, v = power_method(A, x)"
   ],
   "metadata": {
    "collapsed": false,
    "ExecuteTime": {
     "end_time": "2024-03-29T11:43:16.358276100Z",
     "start_time": "2024-03-29T11:43:16.306415600Z"
    }
   },
   "id": "f1b20efcf2958ee2",
   "execution_count": 66
  },
  {
   "cell_type": "code",
   "outputs": [
    {
     "name": "stdout",
     "output_type": "stream",
     "text": [
      "\n",
      "Eigenvalue found by Power Method: 2.1062471197877115\n",
      "Eigenvector found by Power Method: [0.7529832  0.79994889 0.71620606 1.        ]\n"
     ]
    }
   ],
   "source": [
    "print(\"\\nEigenvalue found by Power Method:\", a)\n",
    "print(\"Eigenvector found by Power Method:\", v)"
   ],
   "metadata": {
    "collapsed": false,
    "ExecuteTime": {
     "end_time": "2024-03-29T11:43:16.360274Z",
     "start_time": "2024-03-29T11:43:16.322373Z"
    }
   },
   "id": "267de338dfbec0de",
   "execution_count": 67
  },
  {
   "cell_type": "code",
   "outputs": [
    {
     "name": "stdout",
     "output_type": "stream",
     "text": [
      "\n",
      "Eigenvalue found by numpy.linalg.eig: 2.1062469707124505\n",
      "Eigenvector found by numpy.linalg.eig: [0.4565754  0.4850534  0.43427545 0.60635545]\n"
     ]
    }
   ],
   "source": [
    "eigvals, eigvecs = np.linalg.eig(A)\n",
    "principal_idx = np.argmax(np.abs(eigvals))\n",
    "print(\"\\nEigenvalue found by numpy.linalg.eig:\", eigvals[principal_idx])\n",
    "print(\"Eigenvector found by numpy.linalg.eig:\", eigvecs[:, principal_idx])"
   ],
   "metadata": {
    "collapsed": false,
    "ExecuteTime": {
     "end_time": "2024-03-29T11:43:16.434075400Z",
     "start_time": "2024-03-29T11:43:16.366267700Z"
    }
   },
   "id": "fe035dee41a13b66",
   "execution_count": 68
  }
 ],
 "metadata": {
  "kernelspec": {
   "display_name": "Python 3",
   "language": "python",
   "name": "python3"
  },
  "language_info": {
   "codemirror_mode": {
    "name": "ipython",
    "version": 2
   },
   "file_extension": ".py",
   "mimetype": "text/x-python",
   "name": "python",
   "nbconvert_exporter": "python",
   "pygments_lexer": "ipython2",
   "version": "2.7.6"
  }
 },
 "nbformat": 4,
 "nbformat_minor": 5
}
