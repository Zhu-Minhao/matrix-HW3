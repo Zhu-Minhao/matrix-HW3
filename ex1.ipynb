{
 "cells": [
  {
   "cell_type": "markdown",
   "source": [
    "# Exercise 1"
   ],
   "metadata": {
    "collapsed": false
   },
   "id": "c2ab6080dae4d859"
  },
  {
   "cell_type": "code",
   "execution_count": 184,
   "id": "initial_id",
   "metadata": {
    "collapsed": true,
    "ExecuteTime": {
     "end_time": "2024-03-29T13:05:38.800971200Z",
     "start_time": "2024-03-29T13:05:38.758079800Z"
    }
   },
   "outputs": [],
   "source": [
    "import numpy as np"
   ]
  },
  {
   "cell_type": "code",
   "outputs": [],
   "source": [
    "def power_method(A, x, max_iter=100, tol=1e-6):\n",
    "\n",
    "    error = 1\n",
    "    iterations = 0\n",
    "    eigenvalue_estimate = []\n",
    "    while error > tol and iterations < max_iter:\n",
    "        y = A.dot(x)\n",
    "        j = np.argmax(np.abs(y))\n",
    "        if y[j] == 0:\n",
    "            return 0, x\n",
    "        eigenvalue_estimate = y[j]\n",
    "        x_update = y / eigenvalue_estimate\n",
    "        error = np.linalg.norm(x - x_update, np.inf)\n",
    "        x = x_update\n",
    "        iterations += 1\n",
    "    return eigenvalue_estimate, x/np.linalg.norm(x)"
   ],
   "metadata": {
    "collapsed": false,
    "ExecuteTime": {
     "end_time": "2024-03-29T13:05:38.802959Z",
     "start_time": "2024-03-29T13:05:38.780019400Z"
    }
   },
   "id": "c99e32999e7e59ba",
   "execution_count": 185
  },
  {
   "cell_type": "code",
   "outputs": [],
   "source": [
    "A = np.random.rand(4, 4)\n",
    "A = (A + A.T) / 2\n",
    "x = np.random.rand(4)"
   ],
   "metadata": {
    "collapsed": false,
    "ExecuteTime": {
     "end_time": "2024-03-29T13:05:38.840858300Z",
     "start_time": "2024-03-29T13:05:38.808943700Z"
    }
   },
   "id": "9b509eec64567b2a",
   "execution_count": 186
  },
  {
   "cell_type": "code",
   "outputs": [],
   "source": [
    "a, v = power_method(A, x)"
   ],
   "metadata": {
    "collapsed": false,
    "ExecuteTime": {
     "end_time": "2024-03-29T13:05:38.841879100Z",
     "start_time": "2024-03-29T13:05:38.820909300Z"
    }
   },
   "id": "f1b20efcf2958ee2",
   "execution_count": 187
  },
  {
   "cell_type": "code",
   "outputs": [
    {
     "name": "stdout",
     "output_type": "stream",
     "text": [
      "Eigenvalue a found by Power Method: 1.2156287386408358\n",
      "Eigenvector v found by Power Method: [0.65909951 0.44291583 0.46132676 0.39571584]\n",
      "Multiplying A by v: [0.80122038 0.5384212  0.56080223 0.48104372]\n",
      "Multiplying a by v: [0.80122031 0.53842121 0.56080207 0.48104355]\n"
     ]
    }
   ],
   "source": [
    "print(\"Eigenvalue a found by Power Method:\", a)\n",
    "print(\"Eigenvector v found by Power Method:\", v)\n",
    "print(\"Multiplying A by v:\", A.dot(v))\n",
    "print(\"Multiplying a by v:\", v*a)"
   ],
   "metadata": {
    "collapsed": false,
    "ExecuteTime": {
     "end_time": "2024-03-29T13:05:38.857813600Z",
     "start_time": "2024-03-29T13:05:38.836868400Z"
    }
   },
   "id": "267de338dfbec0de",
   "execution_count": 188
  },
  {
   "cell_type": "code",
   "outputs": [
    {
     "name": "stdout",
     "output_type": "stream",
     "text": [
      "Eigenvalue found by numpy.linalg.eig: 1.215628928992466\n",
      "Eigenvector found by numpy.linalg.eig: [0.65909944 0.4429157  0.46132686 0.39571598]\n"
     ]
    }
   ],
   "source": [
    "eig_val, eig_vec = np.linalg.eig(A)\n",
    "principal_index = np.argmax(np.abs(eig_val))\n",
    "print(\"Eigenvalue found by numpy.linalg.eig:\", eig_val[principal_index])\n",
    "print(\"Eigenvector found by numpy.linalg.eig:\", eig_vec[:, principal_index])"
   ],
   "metadata": {
    "collapsed": false,
    "ExecuteTime": {
     "end_time": "2024-03-29T13:05:38.914686500Z",
     "start_time": "2024-03-29T13:05:38.851829500Z"
    }
   },
   "id": "fe035dee41a13b66",
   "execution_count": 189
  },
  {
   "cell_type": "code",
   "outputs": [
    {
     "name": "stdout",
     "output_type": "stream",
     "text": [
      "Divide v by numpy.linalg.eig: [1.0000001  1.00000028 0.99999979 0.99999966]\n"
     ]
    }
   ],
   "source": [
    "print(\"Divide v by numpy.linalg.eig:\", v/eig_vec[:, principal_index])"
   ],
   "metadata": {
    "collapsed": false,
    "ExecuteTime": {
     "end_time": "2024-03-29T13:05:38.915686600Z",
     "start_time": "2024-03-29T13:05:38.867784400Z"
    }
   },
   "id": "6e984dcd0a1d6bf6",
   "execution_count": 190
  }
 ],
 "metadata": {
  "kernelspec": {
   "display_name": "Python 3",
   "language": "python",
   "name": "python3"
  },
  "language_info": {
   "codemirror_mode": {
    "name": "ipython",
    "version": 2
   },
   "file_extension": ".py",
   "mimetype": "text/x-python",
   "name": "python",
   "nbconvert_exporter": "python",
   "pygments_lexer": "ipython2",
   "version": "2.7.6"
  }
 },
 "nbformat": 4,
 "nbformat_minor": 5
}
