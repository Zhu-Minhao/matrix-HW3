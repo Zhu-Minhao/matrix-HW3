{
 "cells": [
  {
   "cell_type": "markdown",
   "source": [
    "# Exercise 1"
   ],
   "metadata": {
    "collapsed": false
   },
   "id": "c2ab6080dae4d859"
  },
  {
   "cell_type": "code",
   "execution_count": 170,
   "id": "initial_id",
   "metadata": {
    "collapsed": true,
    "ExecuteTime": {
     "end_time": "2024-03-29T12:57:55.048362500Z",
     "start_time": "2024-03-29T12:57:55.038352400Z"
    }
   },
   "outputs": [],
   "source": [
    "import numpy as np"
   ]
  },
  {
   "cell_type": "code",
   "outputs": [],
   "source": [
    "def power_method(A, x, max_iter=100, tol=1e-6):\n",
    "\n",
    "    error = 1\n",
    "    iterations = 0\n",
    "    eigenvalue_estimate = []\n",
    "    while error > tol and iterations < max_iter:\n",
    "        y = A.dot(x)\n",
    "        j = np.argmax(np.abs(y))\n",
    "        if y[j] == 0:\n",
    "            return 0, x\n",
    "        eigenvalue_estimate = y[j]\n",
    "        x_update = y / eigenvalue_estimate\n",
    "        error = np.linalg.norm(x - x_update, np.inf)\n",
    "        x = x_update\n",
    "        iterations += 1\n",
    "    return eigenvalue_estimate, x/np.linalg.norm(x)"
   ],
   "metadata": {
    "collapsed": false,
    "ExecuteTime": {
     "end_time": "2024-03-29T12:57:55.076836300Z",
     "start_time": "2024-03-29T12:57:55.053311600Z"
    }
   },
   "id": "c99e32999e7e59ba",
   "execution_count": 171
  },
  {
   "cell_type": "code",
   "outputs": [],
   "source": [
    "A = np.random.rand(4, 4)\n",
    "A = (A + A.T) / 2\n",
    "x = np.random.rand(4)"
   ],
   "metadata": {
    "collapsed": false,
    "ExecuteTime": {
     "end_time": "2024-03-29T12:57:55.093792600Z",
     "start_time": "2024-03-29T12:57:55.079876200Z"
    }
   },
   "id": "9b509eec64567b2a",
   "execution_count": 172
  },
  {
   "cell_type": "code",
   "outputs": [],
   "source": [
    "a, v = power_method(A, x)"
   ],
   "metadata": {
    "collapsed": false,
    "ExecuteTime": {
     "end_time": "2024-03-29T12:57:55.123711400Z",
     "start_time": "2024-03-29T12:57:55.093792600Z"
    }
   },
   "id": "f1b20efcf2958ee2",
   "execution_count": 173
  },
  {
   "cell_type": "code",
   "outputs": [
    {
     "name": "stdout",
     "output_type": "stream",
     "text": [
      "Eigenvalue a found by Power Method: 2.1047038449452518\n",
      "Eigenvector v found by Power Method: [0.6200266  0.63370208 0.36359806 0.28598102]\n",
      "Multiplying A by v: [1.30497226 1.33375492 0.76526583 0.60190524]\n",
      "Multiplying a by v: [1.30497236 1.33375521 0.76526623 0.60190536]\n"
     ]
    }
   ],
   "source": [
    "print(\"Eigenvalue a found by Power Method:\", a)\n",
    "print(\"Eigenvector v found by Power Method:\", v)\n",
    "print(\"Multiplying A by v:\", A.dot(v))\n",
    "print(\"Multiplying a by v:\", v*a)"
   ],
   "metadata": {
    "collapsed": false,
    "ExecuteTime": {
     "end_time": "2024-03-29T12:57:55.124710600Z",
     "start_time": "2024-03-29T12:57:55.105761600Z"
    }
   },
   "id": "267de338dfbec0de",
   "execution_count": 174
  },
  {
   "cell_type": "code",
   "outputs": [
    {
     "name": "stdout",
     "output_type": "stream",
     "text": [
      "Eigenvalue found by numpy.linalg.eig: 2.1047034175246564\n",
      "Eigenvector found by numpy.linalg.eig: [0.62002669 0.63370208 0.36359791 0.28598101]\n"
     ]
    }
   ],
   "source": [
    "eig_val, eig_vec = np.linalg.eig(A)\n",
    "principal_index = np.argmax(np.abs(eig_val))\n",
    "print(\"Eigenvalue found by numpy.linalg.eig:\", eig_val[principal_index])\n",
    "print(\"Eigenvector found by numpy.linalg.eig:\", eig_vec[:, principal_index])"
   ],
   "metadata": {
    "collapsed": false,
    "ExecuteTime": {
     "end_time": "2024-03-29T12:57:55.174575300Z",
     "start_time": "2024-03-29T12:57:55.125706900Z"
    }
   },
   "id": "fe035dee41a13b66",
   "execution_count": 175
  },
  {
   "cell_type": "code",
   "outputs": [
    {
     "name": "stdout",
     "output_type": "stream",
     "text": [
      "Divide v by numpy.linalg.eig: [0.99999984 1.00000001 1.0000004  1.00000004]\n"
     ]
    }
   ],
   "source": [
    "print(\"Divide v by numpy.linalg.eig:\", v/eig_vec[:, principal_index])"
   ],
   "metadata": {
    "collapsed": false,
    "ExecuteTime": {
     "end_time": "2024-03-29T12:57:55.175572700Z",
     "start_time": "2024-03-29T12:57:55.139668800Z"
    }
   },
   "id": "6e984dcd0a1d6bf6",
   "execution_count": 176
  }
 ],
 "metadata": {
  "kernelspec": {
   "display_name": "Python 3",
   "language": "python",
   "name": "python3"
  },
  "language_info": {
   "codemirror_mode": {
    "name": "ipython",
    "version": 2
   },
   "file_extension": ".py",
   "mimetype": "text/x-python",
   "name": "python",
   "nbconvert_exporter": "python",
   "pygments_lexer": "ipython2",
   "version": "2.7.6"
  }
 },
 "nbformat": 4,
 "nbformat_minor": 5
}
