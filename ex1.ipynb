{
 "cells": [
  {
   "cell_type": "markdown",
   "source": [
    "# Exercise 1"
   ],
   "metadata": {
    "collapsed": false
   },
   "id": "c2ab6080dae4d859"
  },
  {
   "cell_type": "code",
   "execution_count": 22,
   "id": "initial_id",
   "metadata": {
    "collapsed": true,
    "ExecuteTime": {
     "end_time": "2024-03-29T16:09:26.422954500Z",
     "start_time": "2024-03-29T16:09:26.405003600Z"
    }
   },
   "outputs": [],
   "source": [
    "import numpy as np"
   ]
  },
  {
   "cell_type": "code",
   "outputs": [],
   "source": [
    "def power_method(A, x, max_iter=100, tol=1e-8):\n",
    "\n",
    "    error = 1\n",
    "    iterations = 0\n",
    "    eigenvalue_estimate = []\n",
    "    while error > tol and iterations < max_iter:\n",
    "        y = A.dot(x)\n",
    "        j = np.argmax(np.abs(y))\n",
    "        if y[j] == 0:\n",
    "            return 0, x\n",
    "        eigenvalue_estimate = y[j]\n",
    "        x_update = y / eigenvalue_estimate\n",
    "        error = np.linalg.norm(x - x_update, np.inf)\n",
    "        x = x_update\n",
    "        iterations += 1\n",
    "    return eigenvalue_estimate, x/np.linalg.norm(x)"
   ],
   "metadata": {
    "collapsed": false,
    "ExecuteTime": {
     "end_time": "2024-03-29T16:09:26.450882700Z",
     "start_time": "2024-03-29T16:09:26.430936500Z"
    }
   },
   "id": "c99e32999e7e59ba",
   "execution_count": 23
  },
  {
   "cell_type": "code",
   "outputs": [],
   "source": [
    "A = np.random.rand(4, 4)\n",
    "A = (A + A.T) / 2\n",
    "x = np.random.rand(4)"
   ],
   "metadata": {
    "collapsed": false,
    "ExecuteTime": {
     "end_time": "2024-03-29T16:09:26.482795800Z",
     "start_time": "2024-03-29T16:09:26.454870900Z"
    }
   },
   "id": "9b509eec64567b2a",
   "execution_count": 24
  },
  {
   "cell_type": "code",
   "outputs": [],
   "source": [
    "a, v = power_method(A, x)"
   ],
   "metadata": {
    "collapsed": false,
    "ExecuteTime": {
     "end_time": "2024-03-29T16:09:26.484791600Z",
     "start_time": "2024-03-29T16:09:26.467835500Z"
    }
   },
   "id": "f1b20efcf2958ee2",
   "execution_count": 25
  },
  {
   "cell_type": "code",
   "outputs": [
    {
     "name": "stdout",
     "output_type": "stream",
     "text": [
      "Eigenvalue a found by Power Method:\n",
      " 1.9838329419067375\n",
      "Eigenvector v found by Power Method:\n",
      " [0.55127461 0.34937074 0.39055398 0.64923337]\n",
      "Multiplying A by v:\n",
      " [1.09363674 0.69309319 0.77479386 1.28797055]\n",
      "Multiplying a by v:\n",
      " [1.09363674 0.69309319 0.77479386 1.28797055]\n"
     ]
    }
   ],
   "source": [
    "print(\"Eigenvalue a found by Power Method:\\n\", a)\n",
    "print(\"Eigenvector v found by Power Method:\\n\", v)\n",
    "print(\"Multiplying A by v:\\n\", A.dot(v))\n",
    "print(\"Multiplying a by v:\\n\", v*a)"
   ],
   "metadata": {
    "collapsed": false,
    "ExecuteTime": {
     "end_time": "2024-03-29T16:09:26.495760500Z",
     "start_time": "2024-03-29T16:09:26.483793200Z"
    }
   },
   "id": "267de338dfbec0de",
   "execution_count": 26
  },
  {
   "cell_type": "code",
   "outputs": [
    {
     "name": "stdout",
     "output_type": "stream",
     "text": [
      "Eigenvalue found by numpy.linalg.eig:\n",
      " 1.9838329431239683\n",
      "Eigenvector found by numpy.linalg.eig:\n",
      " [0.55127461 0.34937074 0.39055398 0.64923337]\n"
     ]
    }
   ],
   "source": [
    "eig_val, eig_vec = np.linalg.eig(A)\n",
    "principal_index = np.argmax(np.abs(eig_val))\n",
    "print(\"Eigenvalue found by numpy.linalg.eig:\\n\", eig_val[principal_index])\n",
    "print(\"Eigenvector found by numpy.linalg.eig:\\n\", eig_vec[:, principal_index])"
   ],
   "metadata": {
    "collapsed": false,
    "ExecuteTime": {
     "end_time": "2024-03-29T16:09:26.552658100Z",
     "start_time": "2024-03-29T16:09:26.498754300Z"
    }
   },
   "id": "fe035dee41a13b66",
   "execution_count": 27
  },
  {
   "cell_type": "code",
   "outputs": [
    {
     "name": "stdout",
     "output_type": "stream",
     "text": [
      "Divide v by numpy.linalg.eig:\n",
      " [1. 1. 1. 1.]\n"
     ]
    }
   ],
   "source": [
    "print(\"Divide v by numpy.linalg.eig:\\n\", v/eig_vec[:, principal_index])"
   ],
   "metadata": {
    "collapsed": false,
    "ExecuteTime": {
     "end_time": "2024-03-29T16:09:26.553605800Z",
     "start_time": "2024-03-29T16:09:26.513720Z"
    }
   },
   "id": "6e984dcd0a1d6bf6",
   "execution_count": 28
  }
 ],
 "metadata": {
  "kernelspec": {
   "display_name": "Python 3",
   "language": "python",
   "name": "python3"
  },
  "language_info": {
   "codemirror_mode": {
    "name": "ipython",
    "version": 2
   },
   "file_extension": ".py",
   "mimetype": "text/x-python",
   "name": "python",
   "nbconvert_exporter": "python",
   "pygments_lexer": "ipython2",
   "version": "2.7.6"
  }
 },
 "nbformat": 4,
 "nbformat_minor": 5
}
