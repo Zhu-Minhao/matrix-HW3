{
 "cells": [
  {
   "cell_type": "markdown",
   "source": [
    "# Exercise 1"
   ],
   "metadata": {
    "collapsed": false
   },
   "id": "c2ab6080dae4d859"
  },
  {
   "cell_type": "code",
   "execution_count": 1,
   "id": "initial_id",
   "metadata": {
    "collapsed": true,
    "ExecuteTime": {
     "end_time": "2024-03-29T15:41:04.971172100Z",
     "start_time": "2024-03-29T15:41:04.825030300Z"
    }
   },
   "outputs": [],
   "source": [
    "import numpy as np"
   ]
  },
  {
   "cell_type": "code",
   "outputs": [],
   "source": [
    "def power_method(A, x, max_iter=100, tol=1e-8):\n",
    "\n",
    "    error = 1\n",
    "    iterations = 0\n",
    "    eigenvalue_estimate = []\n",
    "    while error > tol and iterations < max_iter:\n",
    "        y = A.dot(x)\n",
    "        j = np.argmax(np.abs(y))\n",
    "        if y[j] == 0:\n",
    "            return 0, x\n",
    "        eigenvalue_estimate = y[j]\n",
    "        x_update = y / eigenvalue_estimate\n",
    "        error = np.linalg.norm(x - x_update, np.inf)\n",
    "        x = x_update\n",
    "        iterations += 1\n",
    "    return eigenvalue_estimate, x/np.linalg.norm(x)"
   ],
   "metadata": {
    "collapsed": false,
    "ExecuteTime": {
     "end_time": "2024-03-29T15:41:04.996104600Z",
     "start_time": "2024-03-29T15:41:04.977157300Z"
    }
   },
   "id": "c99e32999e7e59ba",
   "execution_count": 2
  },
  {
   "cell_type": "code",
   "outputs": [],
   "source": [
    "A = np.random.rand(4, 4)\n",
    "A = (A + A.T) / 2\n",
    "x = np.random.rand(4)"
   ],
   "metadata": {
    "collapsed": false,
    "ExecuteTime": {
     "end_time": "2024-03-29T15:41:05.016051Z",
     "start_time": "2024-03-29T15:41:04.992129400Z"
    }
   },
   "id": "9b509eec64567b2a",
   "execution_count": 3
  },
  {
   "cell_type": "code",
   "outputs": [],
   "source": [
    "a, v = power_method(A, x)"
   ],
   "metadata": {
    "collapsed": false,
    "ExecuteTime": {
     "end_time": "2024-03-29T15:41:05.019052800Z",
     "start_time": "2024-03-29T15:41:05.004083600Z"
    }
   },
   "id": "f1b20efcf2958ee2",
   "execution_count": 4
  },
  {
   "cell_type": "code",
   "outputs": [
    {
     "name": "stdout",
     "output_type": "stream",
     "text": [
      "Eigenvalue a found by Power Method: 1.998568005660915\n",
      "Eigenvector v found by Power Method: [0.54503211 0.46757537 0.54077991 0.43803009]\n",
      "Multiplying A by v: [1.08928373 0.93448118 1.08078542 0.87543292]\n",
      "Multiplying a by v: [1.08928374 0.93448118 1.08078543 0.87543292]\n"
     ]
    }
   ],
   "source": [
    "print(\"Eigenvalue a found by Power Method:\", a)\n",
    "print(\"Eigenvector v found by Power Method:\", v)\n",
    "print(\"Multiplying A by v:\", A.dot(v))\n",
    "print(\"Multiplying a by v:\", v*a)"
   ],
   "metadata": {
    "collapsed": false,
    "ExecuteTime": {
     "end_time": "2024-03-29T15:41:05.064885300Z",
     "start_time": "2024-03-29T15:41:05.023033100Z"
    }
   },
   "id": "267de338dfbec0de",
   "execution_count": 5
  },
  {
   "cell_type": "code",
   "outputs": [
    {
     "name": "stdout",
     "output_type": "stream",
     "text": [
      "Eigenvalue found by numpy.linalg.eig: 1.9985680001199018\n",
      "Eigenvector found by numpy.linalg.eig: [0.54503211 0.46757537 0.54077991 0.43803009]\n"
     ]
    }
   ],
   "source": [
    "eig_val, eig_vec = np.linalg.eig(A)\n",
    "principal_index = np.argmax(np.abs(eig_val))\n",
    "print(\"Eigenvalue found by numpy.linalg.eig:\", eig_val[principal_index])\n",
    "print(\"Eigenvector found by numpy.linalg.eig:\", eig_vec[:, principal_index])"
   ],
   "metadata": {
    "collapsed": false,
    "ExecuteTime": {
     "end_time": "2024-03-29T15:41:05.065883600Z",
     "start_time": "2024-03-29T15:41:05.037993300Z"
    }
   },
   "id": "fe035dee41a13b66",
   "execution_count": 6
  },
  {
   "cell_type": "code",
   "outputs": [
    {
     "name": "stdout",
     "output_type": "stream",
     "text": [
      "Divide v by numpy.linalg.eig: [1. 1. 1. 1.]\n"
     ]
    }
   ],
   "source": [
    "print(\"Divide v by numpy.linalg.eig:\", v/eig_vec[:, principal_index])"
   ],
   "metadata": {
    "collapsed": false,
    "ExecuteTime": {
     "end_time": "2024-03-29T15:41:05.065883600Z",
     "start_time": "2024-03-29T15:41:05.049929500Z"
    }
   },
   "id": "6e984dcd0a1d6bf6",
   "execution_count": 7
  }
 ],
 "metadata": {
  "kernelspec": {
   "display_name": "Python 3",
   "language": "python",
   "name": "python3"
  },
  "language_info": {
   "codemirror_mode": {
    "name": "ipython",
    "version": 2
   },
   "file_extension": ".py",
   "mimetype": "text/x-python",
   "name": "python",
   "nbconvert_exporter": "python",
   "pygments_lexer": "ipython2",
   "version": "2.7.6"
  }
 },
 "nbformat": 4,
 "nbformat_minor": 5
}
