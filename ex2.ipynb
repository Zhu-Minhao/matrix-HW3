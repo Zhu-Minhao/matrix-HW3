{
 "cells": [
  {
   "cell_type": "markdown",
   "source": [
    "# Exercise 2"
   ],
   "metadata": {
    "collapsed": false
   },
   "id": "bb9433d8938a6848"
  },
  {
   "cell_type": "code",
   "outputs": [],
   "source": [
    "import numpy as np"
   ],
   "metadata": {
    "collapsed": true,
    "ExecuteTime": {
     "end_time": "2024-03-29T13:18:25.658327100Z",
     "start_time": "2024-03-29T13:18:25.614445600Z"
    }
   },
   "id": "initial_id",
   "execution_count": 31
  },
  {
   "cell_type": "code",
   "outputs": [],
   "source": [
    "def generate_non_singular_matrix(n):\n",
    "    while True:\n",
    "        A = np.random.rand(n, n)\n",
    "        if np.linalg.det(A) != 0:\n",
    "            return A"
   ],
   "metadata": {
    "collapsed": false,
    "ExecuteTime": {
     "end_time": "2024-03-29T13:18:25.660325Z",
     "start_time": "2024-03-29T13:18:25.638380600Z"
    }
   },
   "id": "c4ba12fbe3263c6b",
   "execution_count": 32
  },
  {
   "cell_type": "code",
   "outputs": [],
   "source": [
    "def gram_schmidt(A):\n",
    "\n",
    "    n = A.shape[0]\n",
    "    Q = np.zeros((n, n))\n",
    "    R = np.zeros((n, n))\n",
    "\n",
    "    for k in range(n):\n",
    "        Q[:, k] = A[:, k]\n",
    "        for i in range(k):\n",
    "            R[i, k] = np.dot(Q[:, i], A[:, k])\n",
    "            Q[:, k] -= R[i, k] * Q[:, i]\n",
    "        Q[:, k] /= np.linalg.norm(Q[:, k])\n",
    "        R[k, k] = np.dot(Q[:, k], A[:, k])\n",
    "\n",
    "    return Q, R"
   ],
   "metadata": {
    "collapsed": false,
    "ExecuteTime": {
     "end_time": "2024-03-29T13:18:25.693235700Z",
     "start_time": "2024-03-29T13:18:25.668305200Z"
    }
   },
   "id": "36a6eb2a4b9eb0cf",
   "execution_count": 33
  },
  {
   "cell_type": "code",
   "outputs": [],
   "source": [
    "A = generate_non_singular_matrix(4)"
   ],
   "metadata": {
    "collapsed": false,
    "ExecuteTime": {
     "end_time": "2024-03-29T13:18:25.706201900Z",
     "start_time": "2024-03-29T13:18:25.691238900Z"
    }
   },
   "id": "240c3232771dbef1",
   "execution_count": 34
  },
  {
   "cell_type": "code",
   "outputs": [],
   "source": [
    "Q, R = gram_schmidt(A)"
   ],
   "metadata": {
    "collapsed": false,
    "ExecuteTime": {
     "end_time": "2024-03-29T13:18:25.720162600Z",
     "start_time": "2024-03-29T13:18:25.704205300Z"
    }
   },
   "id": "1efc17dfc799bfd7",
   "execution_count": 35
  },
  {
   "cell_type": "markdown",
   "source": [
    "(i) $A = QR$"
   ],
   "metadata": {
    "collapsed": false
   },
   "id": "2afb78bec2ee1eaa"
  },
  {
   "cell_type": "code",
   "outputs": [
    {
     "name": "stdout",
     "output_type": "stream",
     "text": [
      "Generated non-singular matrix A:\n",
      " [[0.92393274 0.60840575 0.73843352 0.92455517]\n",
      " [0.12412045 0.89888722 0.67539271 0.34525926]\n",
      " [0.010652   0.21833767 0.32675781 0.218846  ]\n",
      " [0.01242587 0.95626409 0.88383321 0.78412427]]\n",
      "Q times R:\n",
      " [[0.92393274 0.60840575 0.73843352 0.92455517]\n",
      " [0.12412045 0.89888722 0.67539271 0.34525926]\n",
      " [0.010652   0.21833767 0.32675781 0.218846  ]\n",
      " [0.01242587 0.95626409 0.88383321 0.78412427]]\n"
     ]
    }
   ],
   "source": [
    "print(\"Generated non-singular matrix A:\\n\", A)\n",
    "print(\"Q times R:\\n\", np.dot(Q, R))"
   ],
   "metadata": {
    "collapsed": false,
    "ExecuteTime": {
     "end_time": "2024-03-29T13:18:25.761054100Z",
     "start_time": "2024-03-29T13:18:25.724152700Z"
    }
   },
   "id": "162c820ae7bb54ce",
   "execution_count": 36
  },
  {
   "cell_type": "markdown",
   "source": [
    "(ii) $QQ^*=I$"
   ],
   "metadata": {
    "collapsed": false
   },
   "id": "8ac331f95f81006f"
  },
  {
   "cell_type": "code",
   "outputs": [
    {
     "name": "stdout",
     "output_type": "stream",
     "text": [
      "Q times Q_transpose:\n",
      " [[ 1.00000000e+00  3.16595955e-16 -7.23300604e-16 -2.12474835e-16]\n",
      " [ 3.16595955e-16  1.00000000e+00  1.37963791e-15  1.82917680e-15]\n",
      " [-7.23300604e-16  1.37963791e-15  1.00000000e+00  1.07922869e-15]\n",
      " [-2.12474835e-16  1.82917680e-15  1.07922869e-15  1.00000000e+00]]\n"
     ]
    }
   ],
   "source": [
    "print(\"Q times Q_transpose:\\n\", np.dot(Q, np.transpose(Q)))"
   ],
   "metadata": {
    "collapsed": false,
    "ExecuteTime": {
     "end_time": "2024-03-29T13:18:25.762058400Z",
     "start_time": "2024-03-29T13:18:25.738117900Z"
    }
   },
   "id": "f7c6c39dc658755d",
   "execution_count": 37
  },
  {
   "cell_type": "markdown",
   "source": [
    "(iii) $R$ is upper triangular"
   ],
   "metadata": {
    "collapsed": false
   },
   "id": "e5563d435d435ef9"
  },
  {
   "cell_type": "code",
   "outputs": [
    {
     "name": "stdout",
     "output_type": "stream",
     "text": [
      "R:\n",
      " [[0.93237624 0.73779702 0.83716845 0.97509466]\n",
      " [0.         1.26329873 1.07277095 0.75282596]\n",
      " [0.         0.         0.19412023 0.29118305]\n",
      " [0.         0.         0.         0.18549007]]\n"
     ]
    }
   ],
   "source": [
    "print(\"R:\\n\", R)"
   ],
   "metadata": {
    "collapsed": false,
    "ExecuteTime": {
     "end_time": "2024-03-29T13:18:25.859790800Z",
     "start_time": "2024-03-29T13:18:25.752084400Z"
    }
   },
   "id": "4efd9cc2bc783534",
   "execution_count": 38
  }
 ],
 "metadata": {
  "kernelspec": {
   "display_name": "Python 3",
   "language": "python",
   "name": "python3"
  },
  "language_info": {
   "codemirror_mode": {
    "name": "ipython",
    "version": 2
   },
   "file_extension": ".py",
   "mimetype": "text/x-python",
   "name": "python",
   "nbconvert_exporter": "python",
   "pygments_lexer": "ipython2",
   "version": "2.7.6"
  }
 },
 "nbformat": 4,
 "nbformat_minor": 5
}
