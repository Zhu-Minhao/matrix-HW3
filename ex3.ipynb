{
 "cells": [
  {
   "cell_type": "code",
   "execution_count": 87,
   "id": "initial_id",
   "metadata": {
    "collapsed": true,
    "ExecuteTime": {
     "end_time": "2024-03-29T15:05:29.421221900Z",
     "start_time": "2024-03-29T15:05:29.389263100Z"
    }
   },
   "outputs": [],
   "source": [
    "import numpy as np"
   ]
  },
  {
   "cell_type": "code",
   "outputs": [],
   "source": [
    "def permutation(v):\n",
    "    \n",
    "    n = len(v)\n",
    "    P = np.zeros((n, n))\n",
    "    indices = np.argsort(-np.abs(v))\n",
    "    \n",
    "    for i, idx in enumerate(indices):\n",
    "          P[i, idx] = 1\n",
    "        \n",
    "    return P"
   ],
   "metadata": {
    "collapsed": false,
    "ExecuteTime": {
     "end_time": "2024-03-29T15:05:29.439140900Z",
     "start_time": "2024-03-29T15:05:29.407215300Z"
    }
   },
   "id": "5b6c4068dd7cebe2",
   "execution_count": 88
  },
  {
   "cell_type": "code",
   "outputs": [],
   "source": [
    "v = np.random.rand(4) + 1j * np.random.rand(4)"
   ],
   "metadata": {
    "collapsed": false,
    "ExecuteTime": {
     "end_time": "2024-03-29T15:05:29.455085600Z",
     "start_time": "2024-03-29T15:05:29.430153900Z"
    }
   },
   "id": "f3b04a413ad59890",
   "execution_count": 89
  },
  {
   "cell_type": "code",
   "outputs": [
    {
     "name": "stdout",
     "output_type": "stream",
     "text": [
      "Permuation matrix P:\n",
      " [[0. 0. 0. 1.]\n",
      " [0. 1. 0. 0.]\n",
      " [0. 0. 1. 0.]\n",
      " [1. 0. 0. 0.]]\n"
     ]
    }
   ],
   "source": [
    "P = permutation(v)\n",
    "print(\"Permuation matrix P:\\n\", P)"
   ],
   "metadata": {
    "collapsed": false,
    "ExecuteTime": {
     "end_time": "2024-03-29T15:05:29.472041400Z",
     "start_time": "2024-03-29T15:05:29.448105300Z"
    }
   },
   "id": "4b201b99a32d0019",
   "execution_count": 90
  },
  {
   "cell_type": "markdown",
   "source": [
    "$Pv\\ $  is a vector with entries having a decreasing module"
   ],
   "metadata": {
    "collapsed": false
   },
   "id": "7a36bc44d0a44769"
  },
  {
   "cell_type": "code",
   "outputs": [
    {
     "name": "stdout",
     "output_type": "stream",
     "text": [
      "Modules of Pv: [0.90640866 0.69843476 0.65765861 0.61988307]\n"
     ]
    }
   ],
   "source": [
    "print(\"Modules of Pv:\", np.abs(P.dot(v)))"
   ],
   "metadata": {
    "collapsed": false,
    "ExecuteTime": {
     "end_time": "2024-03-29T15:05:29.516003400Z",
     "start_time": "2024-03-29T15:05:29.463067200Z"
    }
   },
   "id": "e13a64a7a753e9b5",
   "execution_count": 91
  }
 ],
 "metadata": {
  "kernelspec": {
   "display_name": "Python 3",
   "language": "python",
   "name": "python3"
  },
  "language_info": {
   "codemirror_mode": {
    "name": "ipython",
    "version": 2
   },
   "file_extension": ".py",
   "mimetype": "text/x-python",
   "name": "python",
   "nbconvert_exporter": "python",
   "pygments_lexer": "ipython2",
   "version": "2.7.6"
  }
 },
 "nbformat": 4,
 "nbformat_minor": 5
}
