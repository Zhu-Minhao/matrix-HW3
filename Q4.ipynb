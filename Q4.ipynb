{
 "nbformat": 4,
 "nbformat_minor": 0,
 "metadata": {
  "colab": {
   "provenance": [],
   "authorship_tag": "ABX9TyP2OS/5KWZOZ5xESHeOVv2C"
  },
  "kernelspec": {
   "name": "python3",
   "language": "python",
   "display_name": "Python 3 (ipykernel)"
  },
  "language_info": {
   "name": "python"
  }
 },
 "cells": [
  {
   "cell_type": "code",
   "execution_count": 1,
   "metadata": {
    "id": "Vd_b7ERnkDWV",
    "executionInfo": {
     "status": "ok",
     "timestamp": 1711437913016,
     "user_tz": -480,
     "elapsed": 305,
     "user": {
      "displayName": "sz lim",
      "userId": "08108144997048294905"
     }
    },
    "ExecuteTime": {
     "end_time": "2024-03-29T14:35:35.603299200Z",
     "start_time": "2024-03-29T14:35:35.462677300Z"
    }
   },
   "outputs": [],
   "source": [
    "import numpy as np\n",
    "# np.set_printoptions(precision=3)\n",
    "\n",
    "def generate_non_singular_matrix(n):\n",
    "    while True:\n",
    "        A = np.random.rand(n, n) + 1j * np.random.rand(n, n)\n",
    "        if np.linalg.det(A) != 0:\n",
    "            return A"
   ]
  },
  {
   "cell_type": "code",
   "source": [
    "def QR_decomposition(A):\n",
    "    n = A.shape[0]\n",
    "    Q = np.zeros((n, n))\n",
    "    R = np.zeros((n, n))\n",
    "\n",
    "    for k in range(n):\n",
    "        Q[:, k] = A[:, k]\n",
    "        for i in range(k):\n",
    "            R[i, k] = np.dot(Q[:, i], A[:, k])\n",
    "            Q[:, k] -= R[i, k] * Q[:, i]\n",
    "        Q[:, k] /= np.linalg.norm(Q[:, k])\n",
    "        R[k, k] = np.dot(np.conj(Q[:, k]), A[:, k])\n",
    "\n",
    "    return Q, R"
   ],
   "metadata": {
    "id": "bhbgFyTspaO_",
    "executionInfo": {
     "status": "ok",
     "timestamp": 1711437913340,
     "user_tz": -480,
     "elapsed": 3,
     "user": {
      "displayName": "sz lim",
      "userId": "08108144997048294905"
     }
    },
    "ExecuteTime": {
     "end_time": "2024-03-29T14:35:35.622249200Z",
     "start_time": "2024-03-29T14:35:35.611279700Z"
    }
   },
   "execution_count": 2,
   "outputs": []
  },
  {
   "cell_type": "code",
   "source": [
    "def permutation(v):\n",
    "    \"\"\"\n",
    "    Constructs a permutation matrix from a complex vector following the order of the modulus of the entries.\n",
    "    Parameters:\n",
    "        v (ndarray): Complex vector.\n",
    "    Returns:\n",
    "        P (ndarray): Permutation matrix.\n",
    "    \"\"\"\n",
    "    # Sort indices of v based on the modulus of entries\n",
    "    sorted_indices = np.argsort(abs(v))[::-1]\n",
    "\n",
    "    # Create permutation matrix\n",
    "    n = len(v)\n",
    "    P = np.zeros((n, n))\n",
    "    for i, idx in enumerate(sorted_indices):\n",
    "      P[i, idx] = 1\n",
    "\n",
    "    return P"
   ],
   "metadata": {
    "id": "feAWcyrrpL7i",
    "executionInfo": {
     "status": "ok",
     "timestamp": 1711437913341,
     "user_tz": -480,
     "elapsed": 3,
     "user": {
      "displayName": "sz lim",
      "userId": "08108144997048294905"
     }
    },
    "ExecuteTime": {
     "end_time": "2024-03-29T14:35:35.642195800Z",
     "start_time": "2024-03-29T14:35:35.625243600Z"
    }
   },
   "execution_count": 3,
   "outputs": []
  },
  {
   "cell_type": "code",
   "source": [
    "def qr_method(A, tol, x):\n",
    "    \"\"\"\n",
    "    QR method to compute eigenvalues.\n",
    "\n",
    "    Parameters:\n",
    "        A (ndarray): Matrix A.\n",
    "        tol (float): Tolerance for loop exit (default=1e-6).\n",
    "        x (ndarray): Initial guess (optional).\n",
    "    Returns:\n",
    "        Ak (ndarray): Upper triangular matrix with diagonal values sorted by their norm.\n",
    "        V (ndarray): Invertible matrix such that A = V Ak V^*.\n",
    "    \"\"\"\n",
    "    error = tol + 1\n",
    "    Ak = np.copy(A)\n",
    "    V = np.eye(A.shape[0])\n",
    "\n",
    "    while error > tol:\n",
    "        Atmp = np.copy(Ak)\n",
    "\n",
    "        epsilon = np.random.randn()\n",
    "        Qk, Rk = QR_decomposition(Ak + epsilon * np.eye(Ak.shape[0]))\n",
    "        Ak = Rk @ Qk - epsilon * np.eye(Ak.shape[0])\n",
    "\n",
    "        P = permutation(np.diag(Ak))\n",
    "        Ak = np.linalg.inv(P) @ Ak @ P\n",
    "        V = V @ Qk @ P\n",
    "\n",
    "        error = np.linalg.norm(np.diag(Ak) - np.diag(Atmp))\n",
    "\n",
    "    return Ak, V"
   ],
   "metadata": {
    "id": "Vbg14Tjml_nG",
    "executionInfo": {
     "status": "ok",
     "timestamp": 1711437913341,
     "user_tz": -480,
     "elapsed": 3,
     "user": {
      "displayName": "sz lim",
      "userId": "08108144997048294905"
     }
    },
    "ExecuteTime": {
     "end_time": "2024-03-29T14:35:35.656158900Z",
     "start_time": "2024-03-29T14:35:35.642195800Z"
    }
   },
   "execution_count": 4,
   "outputs": []
  },
  {
   "cell_type": "code",
   "source": [
    "tol=1e-20"
   ],
   "metadata": {
    "id": "UB9Daxw9ov5l",
    "executionInfo": {
     "status": "ok",
     "timestamp": 1711437913341,
     "user_tz": -480,
     "elapsed": 3,
     "user": {
      "displayName": "sz lim",
      "userId": "08108144997048294905"
     }
    },
    "ExecuteTime": {
     "end_time": "2024-03-29T14:35:35.694057400Z",
     "start_time": "2024-03-29T14:35:35.657155600Z"
    }
   },
   "execution_count": 5,
   "outputs": []
  },
  {
   "cell_type": "code",
   "source": [
    "# Test on a random 4x4 Hermitian matrix A\n",
    "np.random.seed(42)\n",
    "# A = np.random.rand(4, 4) + 1j * np.random.rand(4, 4)\n",
    "A = generate_non_singular_matrix(4)\n",
    "A = (A + A.conj().T) / 2  # Making A Hermitian\n",
    "print(\"Random Hermitian matrix A:\")\n",
    "print(A)"
   ],
   "metadata": {
    "colab": {
     "base_uri": "https://localhost:8080/"
    },
    "id": "5da1vfKDmMPD",
    "executionInfo": {
     "status": "ok",
     "timestamp": 1711437913868,
     "user_tz": -480,
     "elapsed": 530,
     "user": {
      "displayName": "sz lim",
      "userId": "08108144997048294905"
     }
    },
    "outputId": "b2a9a16d-51d6-49af-b8ab-efc140129619",
    "ExecuteTime": {
     "end_time": "2024-03-29T14:35:35.695059100Z",
     "start_time": "2024-03-29T14:35:35.670120800Z"
    }
   },
   "execution_count": 6,
   "outputs": [
    {
     "name": "stdout",
     "output_type": "stream",
     "text": [
      "Random Hermitian matrix A:\n",
      "[[0.37454012+0.j         0.55336647-0.04354823j 0.66655448-0.01206248j\n",
      "  0.71555056-0.15059271j]\n",
      " [0.55336647+0.04354823j 0.15599452+0.j         0.38307809-0.24651566j\n",
      "  0.53925763+0.15995572j]\n",
      " [0.66655448+0.01206248j 0.38307809+0.24651566j 0.02058449+0.j\n",
      "  0.57586741-0.04665521j]\n",
      " [0.71555056+0.15059271j 0.53925763-0.15995572j 0.57586741+0.04665521j\n",
      "  0.18340451+0.j        ]]\n"
     ]
    }
   ]
  },
  {
   "cell_type": "code",
   "source": [
    "x = np.random.rand(A.shape[0])\n",
    "print(\"Initial guess x: \", x)"
   ],
   "metadata": {
    "colab": {
     "base_uri": "https://localhost:8080/"
    },
    "id": "A7KHvyWtoz7w",
    "executionInfo": {
     "status": "ok",
     "timestamp": 1711437913868,
     "user_tz": -480,
     "elapsed": 10,
     "user": {
      "displayName": "sz lim",
      "userId": "08108144997048294905"
     }
    },
    "outputId": "0f7b9463-656c-4b31-a4f6-8284a756b7a4",
    "ExecuteTime": {
     "end_time": "2024-03-29T14:35:35.760878900Z",
     "start_time": "2024-03-29T14:35:35.689072Z"
    }
   },
   "execution_count": 7,
   "outputs": [
    {
     "name": "stdout",
     "output_type": "stream",
     "text": [
      "Initial guess x:  [0.06505159 0.94888554 0.96563203 0.80839735]\n"
     ]
    }
   ]
  },
  {
   "cell_type": "code",
   "source": [
    "# Compute Ak and V using QR method\n",
    "Ak, V = qr_method(A, tol = tol, x = x)\n",
    "print(\"\\nUpper triangular matrix Ak:\")\n",
    "Aktmp = np.copy(Ak)\n",
    "for i in range(4):\n",
    "  for j in range(4):\n",
    "    if abs(Aktmp[i,j]) < 1e-6:\n",
    "      Aktmp[i,j] = 0\n",
    "print(Aktmp)\n",
    "print(\"\\nInvertible matrix V:\")\n",
    "print(V)"
   ],
   "metadata": {
    "colab": {
     "base_uri": "https://localhost:8080/"
    },
    "id": "Z6vN-STLmNO-",
    "executionInfo": {
     "status": "ok",
     "timestamp": 1711437913868,
     "user_tz": -480,
     "elapsed": 8,
     "user": {
      "displayName": "sz lim",
      "userId": "08108144997048294905"
     }
    },
    "outputId": "77bf5bee-68de-40a1-f60d-6cfdde3a9e96",
    "ExecuteTime": {
     "end_time": "2024-03-29T14:35:35.917835600Z",
     "start_time": "2024-03-29T14:35:35.706025800Z"
    }
   },
   "execution_count": 8,
   "outputs": [
    {
     "name": "stderr",
     "output_type": "stream",
     "text": [
      "C:\\Users\\Minhao\\AppData\\Local\\Temp\\ipykernel_11964\\2274709163.py:7: ComplexWarning: Casting complex values to real discards the imaginary part\n",
      "  Q[:, k] = A[:, k]\n",
      "C:\\Users\\Minhao\\AppData\\Local\\Temp\\ipykernel_11964\\2274709163.py:12: ComplexWarning: Casting complex values to real discards the imaginary part\n",
      "  R[k, k] = np.dot(np.conj(Q[:, k]), A[:, k])\n",
      "C:\\Users\\Minhao\\AppData\\Local\\Temp\\ipykernel_11964\\2274709163.py:9: ComplexWarning: Casting complex values to real discards the imaginary part\n",
      "  R[i, k] = np.dot(Q[:, i], A[:, k])\n"
     ]
    },
    {
     "name": "stdout",
     "output_type": "stream",
     "text": [
      "\n",
      "Upper triangular matrix Ak:\n",
      "[[ 1.93441705  0.          0.          0.        ]\n",
      " [ 0.         -0.50977902  0.          0.        ]\n",
      " [ 0.          0.         -0.45014823  0.        ]\n",
      " [ 0.          0.          0.         -0.23996615]]\n",
      "\n",
      "Invertible matrix V:\n",
      "[[-0.58375278  0.38892398  0.63832317  0.31704   ]\n",
      " [-0.43543757 -0.20438914  0.15490977 -0.86291492]\n",
      " [-0.44681529 -0.79510036 -0.11907535  0.39241888]\n",
      " [-0.5195988   0.41806535 -0.74455863  0.02951092]]\n"
     ]
    }
   ]
  },
  {
   "cell_type": "markdown",
   "source": [
    " (ii) $VA_kV^∗ = A$"
   ],
   "metadata": {
    "id": "-86txBsWvnS5"
   }
  },
  {
   "cell_type": "code",
   "source": [
    "# Check if A = V Ak V^*\n",
    "reconstructed_A = V @ Ak @ np.linalg.inv(V)\n",
    "print(\"\\nReconstructed matrix:\")\n",
    "print(reconstructed_A)\n",
    "\n",
    "print(\"\\nReconstructed matrixis equals to A: \", tol >= np.linalg.norm(A-reconstructed_A))"
   ],
   "metadata": {
    "colab": {
     "base_uri": "https://localhost:8080/"
    },
    "id": "6qkGXjjOmOw7",
    "executionInfo": {
     "status": "ok",
     "timestamp": 1711437913868,
     "user_tz": -480,
     "elapsed": 6,
     "user": {
      "displayName": "sz lim",
      "userId": "08108144997048294905"
     }
    },
    "outputId": "487f64a1-1396-48e0-8347-100fb0785de1",
    "ExecuteTime": {
     "end_time": "2024-03-29T14:35:35.982696500Z",
     "start_time": "2024-03-29T14:35:35.920831Z"
    }
   },
   "execution_count": 9,
   "outputs": [
    {
     "name": "stdout",
     "output_type": "stream",
     "text": [
      "\n",
      "Reconstructed matrix:\n",
      "[[0.37454012 0.55336647 0.66655448 0.71555056]\n",
      " [0.55336647 0.15599452 0.38307809 0.53925763]\n",
      " [0.66655448 0.38307809 0.02058449 0.57586741]\n",
      " [0.71555056 0.53925763 0.57586741 0.18340451]]\n",
      "\n",
      "Reconstructed matrixis equals to A:  False\n"
     ]
    }
   ]
  },
  {
   "cell_type": "markdown",
   "source": [
    "(iii) the eigenvector associated to the biggest eigenvalue of $A$ is the first column of the output matrix $V$."
   ],
   "metadata": {
    "id": "xHvcpQIBv07X"
   }
  },
  {
   "cell_type": "code",
   "source": [
    "# Check if eigenvector associated with the biggest eigenvalue of A is the first column of V\n",
    "eigenvals, eigenvectors = np.linalg.eigh(A)\n",
    "\n",
    "biggest_eigvec = eigenvectors[:, -1]\n",
    "first_col_V = V[:, 0]\n",
    "print(\"\\nEigenvector associated with the biggest eigenvalue of A:\")\n",
    "print(biggest_eigvec)\n",
    "print(\"\\nFirst column of V:\")\n",
    "print(first_col_V)"
   ],
   "metadata": {
    "colab": {
     "base_uri": "https://localhost:8080/"
    },
    "id": "8j--ELZemPlE",
    "executionInfo": {
     "status": "ok",
     "timestamp": 1711437913868,
     "user_tz": -480,
     "elapsed": 4,
     "user": {
      "displayName": "sz lim",
      "userId": "08108144997048294905"
     }
    },
    "outputId": "d3426c8f-52cb-4949-f2f1-95cdd9841dcc",
    "ExecuteTime": {
     "end_time": "2024-03-29T14:35:35.983694Z",
     "start_time": "2024-03-29T14:35:35.937782400Z"
    }
   },
   "execution_count": 10,
   "outputs": [
    {
     "name": "stdout",
     "output_type": "stream",
     "text": [
      "\n",
      "Eigenvector associated with the biggest eigenvalue of A:\n",
      "[-0.58338689+0.j         -0.43576874-0.03078383j -0.44115672-0.06937861j\n",
      " -0.51618976-0.05415894j]\n",
      "\n",
      "First column of V:\n",
      "[-0.58375278 -0.43543757 -0.44681529 -0.5195988 ]\n"
     ]
    }
   ]
  }
 ]
}
